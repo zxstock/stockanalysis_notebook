{
 "cells": [
  {
   "cell_type": "code",
   "execution_count": 30,
   "metadata": {
    "collapsed": false
   },
   "outputs": [],
   "source": [
    "import numpy as np\n",
    "import matplotlib.pyplot as plt\n",
    "import pandas as pd\n",
    "#import mysql.connector\n",
    "import plotly\n",
    "import plotly.plotly as py #library https://plot.ly/pandas/\n",
    "import plotly.graph_objs as go\n",
    "#NASAQ 3 Year NIGR>25, preIPO 招股说明书上市前两年净收入。分析数字背后的故事，看懂数字背后的金融来去，包括投资到未来有成长空间的。软件和电商类优先。\n",
    "plotly.tools.set_credentials_file(username='zhenxu66', api_key='yZ5rrla4FGut06wbewMo')"
   ]
  },
  {
   "cell_type": "code",
   "execution_count": 31,
   "metadata": {
    "collapsed": false
   },
   "outputs": [],
   "source": [
    "df_allnd100list= pd.read_csv('./csv/list_profit.csv')"
   ]
  },
  {
   "cell_type": "code",
   "execution_count": 32,
   "metadata": {
    "collapsed": false
   },
   "outputs": [
    {
     "data": {
      "text/html": [
       "<div>\n",
       "<style scoped>\n",
       "    .dataframe tbody tr th:only-of-type {\n",
       "        vertical-align: middle;\n",
       "    }\n",
       "\n",
       "    .dataframe tbody tr th {\n",
       "        vertical-align: top;\n",
       "    }\n",
       "\n",
       "    .dataframe thead th {\n",
       "        text-align: right;\n",
       "    }\n",
       "</style>\n",
       "<table border=\"1\" class=\"dataframe\">\n",
       "  <thead>\n",
       "    <tr style=\"text-align: right;\">\n",
       "      <th></th>\n",
       "      <th>id</th>\n",
       "      <th>symbol</th>\n",
       "      <th>url</th>\n",
       "      <th>descShort</th>\n",
       "      <th>descLong</th>\n",
       "      <th>CEO</th>\n",
       "      <th>address</th>\n",
       "      <th>shares_out(million)</th>\n",
       "      <th>inst_own</th>\n",
       "      <th>mark_cap(billion)</th>\n",
       "      <th>2014-2013</th>\n",
       "      <th>2015-2014</th>\n",
       "      <th>2016-2015</th>\n",
       "      <th>2017-2016</th>\n",
       "    </tr>\n",
       "  </thead>\n",
       "  <tbody>\n",
       "    <tr>\n",
       "      <th>0</th>\n",
       "      <td>2</td>\n",
       "      <td>AAL</td>\n",
       "      <td>http://www.cnbc.com/quotes/?symbol=AAL</td>\n",
       "      <td>American Airlines Group Inc. is a holding comp...</td>\n",
       "      <td>American Airlines Group Inc. is a holding comp...</td>\n",
       "      <td>William Douglas Parker</td>\n",
       "      <td>4333 Amon Carter Blvd, Fort Worth, Texas, Unit...</td>\n",
       "      <td>460.5</td>\n",
       "      <td>0.8182</td>\n",
       "      <td>14.2</td>\n",
       "      <td>257.14</td>\n",
       "      <td>164.05</td>\n",
       "      <td>-64.84</td>\n",
       "      <td>-28.29</td>\n",
       "    </tr>\n",
       "    <tr>\n",
       "      <th>1</th>\n",
       "      <td>3</td>\n",
       "      <td>DLTR</td>\n",
       "      <td>http://www.cnbc.com/quotes/?symbol=DLTR</td>\n",
       "      <td>Dollar Tree, Inc. is an operator of discount v...</td>\n",
       "      <td>Dollar Tree, Inc. is an operator of discount v...</td>\n",
       "      <td>Gary M. Philbin</td>\n",
       "      <td>500 Volvo Pkwy, Chesapeake, Virginia, United S...</td>\n",
       "      <td>237.9</td>\n",
       "      <td>0.9389</td>\n",
       "      <td>19.3</td>\n",
       "      <td>0.42</td>\n",
       "      <td>-52.87</td>\n",
       "      <td>217.35</td>\n",
       "      <td>91.29</td>\n",
       "    </tr>\n",
       "  </tbody>\n",
       "</table>\n",
       "</div>"
      ],
      "text/plain": [
       "   id symbol                                      url  \\\n",
       "0   2    AAL   http://www.cnbc.com/quotes/?symbol=AAL   \n",
       "1   3   DLTR  http://www.cnbc.com/quotes/?symbol=DLTR   \n",
       "\n",
       "                                           descShort  \\\n",
       "0  American Airlines Group Inc. is a holding comp...   \n",
       "1  Dollar Tree, Inc. is an operator of discount v...   \n",
       "\n",
       "                                            descLong                     CEO  \\\n",
       "0  American Airlines Group Inc. is a holding comp...  William Douglas Parker   \n",
       "1  Dollar Tree, Inc. is an operator of discount v...         Gary M. Philbin   \n",
       "\n",
       "                                             address  shares_out(million)  \\\n",
       "0  4333 Amon Carter Blvd, Fort Worth, Texas, Unit...                460.5   \n",
       "1  500 Volvo Pkwy, Chesapeake, Virginia, United S...                237.9   \n",
       "\n",
       "   inst_own  mark_cap(billion)  2014-2013  2015-2014  2016-2015  2017-2016  \n",
       "0    0.8182               14.2     257.14     164.05     -64.84     -28.29  \n",
       "1    0.9389               19.3       0.42     -52.87     217.35      91.29  "
      ]
     },
     "execution_count": 32,
     "metadata": {},
     "output_type": "execute_result"
    }
   ],
   "source": [
    "df_allnd100list.head(2)"
   ]
  },
  {
   "cell_type": "code",
   "execution_count": 33,
   "metadata": {
    "collapsed": false
   },
   "outputs": [
    {
     "name": "stdout",
     "output_type": "stream",
     "text": [
      "     id symbol                                       url  \\\n",
      "24   26   TMUS   http://www.cnbc.com/quotes/?symbol=TMUS   \n",
      "27   29   TTWO   http://www.cnbc.com/quotes/?symbol=TTWO   \n",
      "36   38   REGN   http://www.cnbc.com/quotes/?symbol=REGN   \n",
      "37   39  QRTEA  http://www.cnbc.com/quotes/?symbol=QRTEA   \n",
      "56   58   LRCX   http://www.cnbc.com/quotes/?symbol=LRCX   \n",
      "69   71   HOLX   http://www.cnbc.com/quotes/?symbol=HOLX   \n",
      "77   79     FB     http://www.cnbc.com/quotes/?symbol=FB   \n",
      "91   93   AMZN   http://www.cnbc.com/quotes/?symbol=AMZN   \n",
      "98  100   ADBE   http://www.cnbc.com/quotes/?symbol=ADBE   \n",
      "\n",
      "                                            descShort  \\\n",
      "24  T-Mobile US, Inc. is a wireless company. As of...   \n",
      "27  Take-Two Interactive Software, Inc. is a devel...   \n",
      "36  Regeneron Pharmaceuticals, Inc. is a biopharma...   \n",
      "37  Qurate Retail, Inc., formerly Liberty Interact...   \n",
      "56  Lam Research Corporation is a supplier of wafe...   \n",
      "69  Hologic, Inc. is a developer, manufacturer and...   \n",
      "77  Facebook, Inc. is focused on building products...   \n",
      "91  Amazon.com, Inc. offers a range of products an...   \n",
      "98  Adobe Inc., formerly Adobe Systems Incorporate...   \n",
      "\n",
      "                                             descLong  \\\n",
      "24  T-Mobile US, Inc. is a wireless company. As of...   \n",
      "27  Take-Two Interactive Software, Inc. is a devel...   \n",
      "36  Regeneron Pharmaceuticals, Inc. is a biopharma...   \n",
      "37  Qurate Retail, Inc., formerly Liberty Interact...   \n",
      "56  Lam Research Corporation is a supplier of wafe...   \n",
      "69  Hologic, Inc. is a developer, manufacturer and...   \n",
      "77  Facebook, Inc. is focused on building products...   \n",
      "91  Amazon.com, Inc. offers a range of products an...   \n",
      "98  Adobe Inc., formerly Adobe Systems Incorporate...   \n",
      "\n",
      "                         CEO  \\\n",
      "24            John J. Legere   \n",
      "27           Strauss Zelnick   \n",
      "36  Dr. Leonard S. Schleifer   \n",
      "37         Michael A. George   \n",
      "56         Martin B. Anstice   \n",
      "69      Stephen P. MacMillan   \n",
      "77           Mark Zuckerberg   \n",
      "91          Jeffrey P. Bezos   \n",
      "98          Shantanu Narayen   \n",
      "\n",
      "                                              address  shares_out(million)  \\\n",
      "24  12920 Se 38th St, Bellevue, Washington, United...                847.2   \n",
      "27  110 W 44th St, New York, New York, United Stat...                113.8   \n",
      "36  777 Old Saw Mill River Rd, Tarrytown, New York...                108.0   \n",
      "37  12300 Liberty Blvd, Englewood, Colorado, Unite...                460.3   \n",
      "56  4650 Cushing Pkwy, Fremont, California, United...                153.4   \n",
      "69  250 Campus Dr, Marlborough, Massachusetts, Uni...                272.1   \n",
      "77  1601 Willow Rd, Menlo Park, California, United...               2900.0   \n",
      "91  410 Terry Ave N, Seattle, Washington, United S...                487.7   \n",
      "98  345 Park Ave, San Jose, California, United Sta...                489.0   \n",
      "\n",
      "    inst_own  mark_cap(billion)  2014-2013  2015-2014  2016-2015  2017-2016  \n",
      "24    0.3495               57.9     605.71     196.76      99.18     210.68  \n",
      "27    0.9549               14.7    -187.16      97.03     895.33     162.58  \n",
      "36    0.7376               41.5     -17.98      82.74      40.79      33.83  \n",
      "37    0.9532                9.7      -2.40      77.71      39.82     100.91  \n",
      "56    0.9555               22.0       3.68      39.43      85.74      40.22  \n",
      "69    1.0260               10.9     101.48     660.69     151.37     128.39  \n",
      "77    0.7454              444.5      96.18      25.44     177.68      56.26  \n",
      "91    0.5859              872.4    -187.96     347.30     297.82      27.92  \n",
      "98    0.8780              121.7      -7.45     134.56      85.65      44.93  \n"
     ]
    }
   ],
   "source": [
    "df_allnd100list_25 = df_allnd100list[(df_allnd100list['2015-2014']>25)\n",
    "                                     & (df_allnd100list['2016-2015']>25) & (df_allnd100list['2017-2016']>25)]\n",
    "if len(df_allnd100list_25)<10:\n",
    "    print(df_allnd100list_25)"
   ]
  },
  {
   "cell_type": "code",
   "execution_count": 28,
   "metadata": {
    "collapsed": false
   },
   "outputs": [],
   "source": [
    "\n",
    "fig = {\n",
    "    'data': [\n",
    "        {\n",
    "            'x': df_allnd100list_25['mark_cap(billion)'], \n",
    "            'y': df_allnd100list_25['shares_out(million)'], \n",
    "            'text': df_allnd100list_25.symbol + ' CEO:'+ df_allnd100list_25.CEO,  #cannot access columns with '' '' \n",
    "            'mode': 'markers', #+text\n",
    "            'marker':dict(\n",
    "                size= 8, #30*df_allnd100list['inst_own'],\n",
    "                color = df_allnd100list_25['inst_own'], #set color equal to a variable\n",
    "                colorscale='Viridis',\n",
    "                showscale=True\n",
    "            ),\n",
    "            'name': 'Results'},      \n",
    "\n",
    "    ],\n",
    "    'layout': {\n",
    "        'title': 'inst_own compared with shares_out (million) and mark_cap (billion)',\n",
    "        'xaxis': {'title': 'mark_cap(billion)', 'type': 'log'},\n",
    "        'yaxis': {'title': \"shares_out(million)\"},\n",
    "        'showlegend': True,\n",
    "        'annotations':[ #not working\n",
    "            dict(\n",
    "                x=1100,#df_allnd100list[df_allnd100list.symbol=='AAPL']['mark_cap(billion)'].item(),\n",
    "                y=4800,#df_allnd100list[df_allnd100list.symbol=='AAPL']['shares_out(million)'].item(),\n",
    "                xref='x',\n",
    "                yref='y',\n",
    "                text='dict Text is here',\n",
    "                showarrow=True,\n",
    "                arrowhead=7,\n",
    "                ax=0,\n",
    "                ay=-40\n",
    "            ),\n",
    "        ]\n",
    "    }\n",
    "}"
   ]
  },
  {
   "cell_type": "code",
   "execution_count": 29,
   "metadata": {
    "collapsed": false
   },
   "outputs": [
    {
     "data": {
      "text/html": [
       "<iframe id=\"igraph\" scrolling=\"no\" style=\"border:none;\" seamless=\"seamless\" src=\"https://plot.ly/~zhenxu66/8.embed\" height=\"525px\" width=\"100%\"></iframe>"
      ],
      "text/plain": [
       "<plotly.tools.PlotlyDisplay object>"
      ]
     },
     "execution_count": 29,
     "metadata": {},
     "output_type": "execute_result"
    }
   ],
   "source": [
    "py.iplot(fig, filename='scatter')  #py.plot will generate a webpage"
   ]
  },
  {
   "cell_type": "code",
   "execution_count": 95,
   "metadata": {
    "collapsed": false
   },
   "outputs": [
    {
     "data": {
      "text/plain": [
       "1100.0"
      ]
     },
     "execution_count": 95,
     "metadata": {},
     "output_type": "execute_result"
    }
   ],
   "source": [
    "df_allnd100list[df_allnd100list.symbol=='AAPL']['mark_cap(billion)'].item()"
   ]
  },
  {
   "cell_type": "code",
   "execution_count": 102,
   "metadata": {
    "collapsed": false
   },
   "outputs": [
    {
     "data": {
      "text/plain": [
       "4800.0"
      ]
     },
     "execution_count": 102,
     "metadata": {},
     "output_type": "execute_result"
    }
   ],
   "source": [
    "df_allnd100list[df_allnd100list.symbol=='AAPL']['shares_out(million)'].item()"
   ]
  },
  {
   "cell_type": "code",
   "execution_count": null,
   "metadata": {
    "collapsed": true
   },
   "outputs": [],
   "source": []
  }
 ],
 "metadata": {
  "kernelspec": {
   "display_name": "Python 3",
   "language": "python",
   "name": "python3"
  },
  "language_info": {
   "codemirror_mode": {
    "name": "ipython",
    "version": 3
   },
   "file_extension": ".py",
   "mimetype": "text/x-python",
   "name": "python",
   "nbconvert_exporter": "python",
   "pygments_lexer": "ipython3",
   "version": "3.5.4"
  }
 },
 "nbformat": 4,
 "nbformat_minor": 0
}
