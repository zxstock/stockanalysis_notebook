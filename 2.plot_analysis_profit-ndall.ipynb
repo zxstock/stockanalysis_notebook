{
 "cells": [
  {
   "cell_type": "code",
   "execution_count": 1,
   "metadata": {
    "collapsed": false
   },
   "outputs": [],
   "source": [
    "import numpy as np\n",
    "import matplotlib.pyplot as plt\n",
    "%matplotlib inline\n",
    "import pandas as pd\n",
    "#import mysql.connector\n",
    "import plotly\n",
    "import plotly.plotly as py #library https://plot.ly/pandas/\n",
    "import plotly.graph_objs as go\n",
    "#NASAQ 3 Year NIGR>25, preIPO 招股说明书上市前两年净收入。分析数字背后的故事，看懂数字背后的金融来去，包括投资到未来有成长空间的。软件和电商类优先。\n",
    "plotly.tools.set_credentials_file(username='zhenxu66', api_key='yZ5rrla4FGut06wbewMo')"
   ]
  },
  {
   "cell_type": "code",
   "execution_count": 2,
   "metadata": {
    "collapsed": false
   },
   "outputs": [],
   "source": [
    "df_allndlist= pd.read_csv('./csv/list_ndall_3051.csv')"
   ]
  },
  {
   "cell_type": "code",
   "execution_count": 3,
   "metadata": {
    "collapsed": false
   },
   "outputs": [
    {
     "data": {
      "text/html": [
       "<div>\n",
       "<style scoped>\n",
       "    .dataframe tbody tr th:only-of-type {\n",
       "        vertical-align: middle;\n",
       "    }\n",
       "\n",
       "    .dataframe tbody tr th {\n",
       "        vertical-align: top;\n",
       "    }\n",
       "\n",
       "    .dataframe thead th {\n",
       "        text-align: right;\n",
       "    }\n",
       "</style>\n",
       "<table border=\"1\" class=\"dataframe\">\n",
       "  <thead>\n",
       "    <tr style=\"text-align: right;\">\n",
       "      <th></th>\n",
       "      <th>id</th>\n",
       "      <th>symbol</th>\n",
       "      <th>name</th>\n",
       "      <th>sector</th>\n",
       "      <th>industry</th>\n",
       "      <th>country</th>\n",
       "      <th>board</th>\n",
       "      <th>prof_marginPCT</th>\n",
       "      <th>ppe</th>\n",
       "      <th>marketCapMillion</th>\n",
       "      <th>...</th>\n",
       "      <th>fiftytwoWeekRange</th>\n",
       "      <th>PBR</th>\n",
       "      <th>PFCF</th>\n",
       "      <th>DEBTtoEquity</th>\n",
       "      <th>Beta</th>\n",
       "      <th>Volatility</th>\n",
       "      <th>2014to2013</th>\n",
       "      <th>2015to2014</th>\n",
       "      <th>2016to2015</th>\n",
       "      <th>2017to2016</th>\n",
       "    </tr>\n",
       "  </thead>\n",
       "  <tbody>\n",
       "    <tr>\n",
       "      <th>0</th>\n",
       "      <td>1</td>\n",
       "      <td>FCCY</td>\n",
       "      <td>1st Constitution Bancorp</td>\n",
       "      <td>Financial</td>\n",
       "      <td>Regional - Northeast Banks</td>\n",
       "      <td>USA</td>\n",
       "      <td>[NASD]</td>\n",
       "      <td>0.00</td>\n",
       "      <td>0.1566</td>\n",
       "      <td>172.62</td>\n",
       "      <td>...</td>\n",
       "      <td>16.15 - 27.00</td>\n",
       "      <td>0.014</td>\n",
       "      <td>0.0000</td>\n",
       "      <td>0.0114</td>\n",
       "      <td>0.0042</td>\n",
       "      <td>2.41% 3.79%</td>\n",
       "      <td>0.0000</td>\n",
       "      <td>0.0000</td>\n",
       "      <td>0.0000</td>\n",
       "      <td>0.0000</td>\n",
       "    </tr>\n",
       "    <tr>\n",
       "      <th>1</th>\n",
       "      <td>2</td>\n",
       "      <td>FLWS</td>\n",
       "      <td>1-800-FLOWERS.COM, Inc.</td>\n",
       "      <td>Services</td>\n",
       "      <td>Specialty Retail, Other</td>\n",
       "      <td>USA</td>\n",
       "      <td>[NASD]</td>\n",
       "      <td>0.05</td>\n",
       "      <td>0.3302</td>\n",
       "      <td>900.03</td>\n",
       "      <td>...</td>\n",
       "      <td>8.85 - 15.00</td>\n",
       "      <td>0.028</td>\n",
       "      <td>0.2671</td>\n",
       "      <td>0.0033</td>\n",
       "      <td>0.0117</td>\n",
       "      <td>5.96% 6.22%</td>\n",
       "      <td>0.3854</td>\n",
       "      <td>0.8177</td>\n",
       "      <td>0.1943</td>\n",
       "      <td>-0.0738</td>\n",
       "    </tr>\n",
       "  </tbody>\n",
       "</table>\n",
       "<p>2 rows × 49 columns</p>\n",
       "</div>"
      ],
      "text/plain": [
       "   id symbol                      name     sector                    industry  \\\n",
       "0   1   FCCY  1st Constitution Bancorp  Financial  Regional - Northeast Banks   \n",
       "1   2   FLWS   1-800-FLOWERS.COM, Inc.   Services     Specialty Retail, Other   \n",
       "\n",
       "  country   board  prof_marginPCT     ppe  marketCapMillion     ...      \\\n",
       "0     USA  [NASD]            0.00  0.1566            172.62     ...       \n",
       "1     USA  [NASD]            0.05  0.3302            900.03     ...       \n",
       "\n",
       "  fiftytwoWeekRange    PBR    PFCF  DEBTtoEquity    Beta   Volatility  \\\n",
       "0     16.15 - 27.00  0.014  0.0000        0.0114  0.0042  2.41% 3.79%   \n",
       "1      8.85 - 15.00  0.028  0.2671        0.0033  0.0117  5.96% 6.22%   \n",
       "\n",
       "   2014to2013  2015to2014  2016to2015  2017to2016  \n",
       "0      0.0000      0.0000      0.0000      0.0000  \n",
       "1      0.3854      0.8177      0.1943     -0.0738  \n",
       "\n",
       "[2 rows x 49 columns]"
      ]
     },
     "execution_count": 3,
     "metadata": {},
     "output_type": "execute_result"
    }
   ],
   "source": [
    "df_allndlist.head(2)"
   ]
  },
  {
   "cell_type": "code",
   "execution_count": 4,
   "metadata": {
    "collapsed": false
   },
   "outputs": [
    {
     "name": "stdout",
     "output_type": "stream",
     "text": [
      "        id symbol                      name            sector  \\\n",
      "10      11   AAON                AAON, Inc.  Industrial Goods   \n",
      "502    503   SBUX     Starbucks Corporation          Services   \n",
      "769    770   QNST          QuinStreet, Inc.        Technology   \n",
      "2710  2711   BNFT        Benefitfocus, Inc.        Technology   \n",
      "2537  2538   CRNT     Ceragon Networks Ltd.        Technology   \n",
      "720    721   RGEN      Repligen Corporation        Healthcare   \n",
      "1759  1760   HMSY        HMS Holdings Corp.          Services   \n",
      "2531  2532   CSBR  Champions Oncology, Inc.        Healthcare   \n",
      "\n",
      "                          industry country   board  prof_marginPCT     ppe  \\\n",
      "10      General Building Materials     USA  [NASD]           0.107  0.5520   \n",
      "502             Specialty Eateries     USA  [NASD]           0.182  0.2082   \n",
      "769   Internet Software & Services     USA  [NASD]           0.021  0.4542   \n",
      "2710          Application Software     USA  [NASD]          -0.165  0.0000   \n",
      "2537       Communication Equipment  Israel  [NASD]           0.048  0.2175   \n",
      "720                  Biotechnology     USA  [NASD]           0.136  2.2436   \n",
      "1759             Business Services     USA  [NASD]           0.080  1.5762   \n",
      "2531                 Biotechnology     USA  [NASD]          -0.015  0.0000   \n",
      "\n",
      "      marketCapMillion     ...     fiftytwoWeekRange     PBR    PFCF  \\\n",
      "10             2240.00     ...         29.05 - 44.90  0.0917  5.7552   \n",
      "502           94630.00     ...         47.37 - 68.98  0.2370  0.5376   \n",
      "769             858.92     ...          8.24 - 17.75  0.0559  0.3734   \n",
      "2710           1280.00     ...         21.75 - 45.88  0.0000  0.0000   \n",
      "2537            335.04     ...           1.64 - 4.57  0.0246  0.8376   \n",
      "720            2900.00     ...         29.56 - 70.50  0.0498  0.9021   \n",
      "1759           3080.00     ...         14.88 - 38.15  0.0499  0.4567   \n",
      "2531            147.66     ...          3.05 - 17.90  2.7600  2.4610   \n",
      "\n",
      "      DEBTtoEquity    Beta    Volatility  2014to2013  2015to2014  2016to2015  \\\n",
      "10          0.0000  0.0091   4.91% 4.47%      0.1761      0.0356      0.1672   \n",
      "502         0.0170  0.0047   3.26% 2.43%      0.3333      0.0219      0.0238   \n",
      "769         0.0000  0.0072   5.03% 6.38%      0.8633      0.0294      0.3714   \n",
      "2710        0.0000  0.0118   5.23% 5.60%     -1.0809      0.0173      0.3548   \n",
      "2537        0.0000  0.0085   9.73% 6.53%     -0.6108      1.0132     10.3046   \n",
      "720         0.0017  0.0067   4.23% 4.64%     -0.4923      0.1438      0.2500   \n",
      "1759        0.0000  0.0131   4.40% 4.36%     -0.6513      0.7586      0.5345   \n",
      "2531        0.0033  0.0071  8.09% 10.11%     -0.7742      0.2050      0.3410   \n",
      "\n",
      "      2017to2016  \n",
      "10        0.0210  \n",
      "502       0.5663  \n",
      "769       2.3049  \n",
      "2710      0.3541  \n",
      "2537      0.3614  \n",
      "720       1.4273  \n",
      "1759      0.0642  \n",
      "2531      0.7856  \n",
      "\n",
      "[8 rows x 49 columns]\n",
      "        id symbol                           name            sector  \\\n",
      "10      11   AAON                     AAON, Inc.  Industrial Goods   \n",
      "565    566   SNBR       Sleep Number Corporation    Consumer Goods   \n",
      "502    503   SBUX          Starbucks Corporation          Services   \n",
      "1902  1903   GILT  Gilat Satellite Networks Ltd.        Technology   \n",
      "2957  2958   AEZS          Aeterna Zentaris Inc.        Healthcare   \n",
      "224    225   VNDA     Vanda Pharmaceuticals Inc.        Healthcare   \n",
      "100    101   WLDN            Willdan Group, Inc.          Services   \n",
      "2314  2315   DWCH          Datawatch Corporation        Technology   \n",
      "769    770   QNST               QuinStreet, Inc.        Technology   \n",
      "2710  2711   BNFT             Benefitfocus, Inc.        Technology   \n",
      "2537  2538   CRNT          Ceragon Networks Ltd.        Technology   \n",
      "2163  2164   ETSY                     Etsy, Inc.          Services   \n",
      "2356  2357   CROX                    Crocs, Inc.    Consumer Goods   \n",
      "720    721   RGEN           Repligen Corporation        Healthcare   \n",
      "1759  1760   HMSY             HMS Holdings Corp.          Services   \n",
      "188    189   VCYT                 Veracyte, Inc.        Healthcare   \n",
      "1913  1914   GHDX           Genomic Health, Inc.        Healthcare   \n",
      "2531  2532   CSBR       Champions Oncology, Inc.        Healthcare   \n",
      "\n",
      "                                      industry country   board  \\\n",
      "10                  General Building Materials     USA  [NASD]   \n",
      "565                Home Furnishings & Fixtures     USA  [NASD]   \n",
      "502                         Specialty Eateries     USA  [NASD]   \n",
      "1902                   Communication Equipment  Israel  [NASD]   \n",
      "2957                             Biotechnology  Canada  [NASD]   \n",
      "224                              Biotechnology     USA  [NASD]   \n",
      "100                         Technical Services     USA  [NASD]   \n",
      "2314              Business Software & Services     USA  [NASD]   \n",
      "769               Internet Software & Services     USA  [NASD]   \n",
      "2710                      Application Software     USA  [NASD]   \n",
      "2537                   Communication Equipment  Israel  [NASD]   \n",
      "2163                   Specialty Retail, Other     USA  [NASD]   \n",
      "2356  Textile - Apparel Footwear & Accessories     USA  [NASD]   \n",
      "720                              Biotechnology     USA  [NASD]   \n",
      "1759                         Business Services     USA  [NASD]   \n",
      "188                              Biotechnology     USA  [NASD]   \n",
      "1913           Medical Laboratories & Research     USA  [NASD]   \n",
      "2531                             Biotechnology     USA  [NASD]   \n",
      "\n",
      "      prof_marginPCT      ppe  marketCapMillion     ...     fiftytwoWeekRange  \\\n",
      "10             0.107   0.5520           2240.00     ...         29.05 - 44.90   \n",
      "565            0.039   0.2704           1350.00     ...         26.22 - 40.72   \n",
      "502            0.182   0.2082          94630.00     ...         47.37 - 68.98   \n",
      "1902           0.035   0.4927            584.15     ...          6.89 - 10.69   \n",
      "2957           0.068   0.2935             37.16     ...           1.12 - 3.25   \n",
      "224            0.007  33.5143           1220.00     ...         11.90 - 25.07   \n",
      "100            0.047   0.3219            368.31     ...         19.25 - 38.43   \n",
      "2314          -0.193   0.0000            166.60     ...          7.70 - 14.20   \n",
      "769            0.021   0.4542            858.92     ...          8.24 - 17.75   \n",
      "2710          -0.165   0.0000           1280.00     ...         21.75 - 45.88   \n",
      "2537           0.048   0.2175            335.04     ...           1.64 - 4.57   \n",
      "2163           0.175   1.1584           6320.00     ...         16.08 - 54.59   \n",
      "2356           0.008   2.0296           1700.00     ...          9.57 - 28.20   \n",
      "720            0.136   2.2436           2900.00     ...         29.56 - 70.50   \n",
      "1759           0.080   1.5762           3080.00     ...         14.88 - 38.15   \n",
      "188           -0.330   0.0000            551.16     ...          5.23 - 15.50   \n",
      "1913           0.012   7.4245           2850.00     ...         26.54 - 92.18   \n",
      "2531          -0.015   0.0000            147.66     ...          3.05 - 17.90   \n",
      "\n",
      "         PBR    PFCF  DEBTtoEquity    Beta    Volatility  2014to2013  \\\n",
      "10    0.0917  5.7552        0.0000  0.0091   4.91% 4.47%      0.1761   \n",
      "565   0.0000  0.1811        0.0000  0.0123   5.45% 5.69%      0.1314   \n",
      "502   0.2370  0.5376        0.0170  0.0047   3.26% 2.43%      0.3333   \n",
      "1902  0.0264  0.0000        0.0006  0.0072   1.82% 1.86%      0.9268   \n",
      "2957  0.0390  0.1956        0.0000  0.0082  9.61% 11.60%      0.3237   \n",
      "224   0.0487  0.0000        0.0000  0.0080   7.67% 5.88%      1.9966   \n",
      "100   0.0414  0.9208        0.0003  0.0140   8.51% 4.90%      2.5802   \n",
      "2314  0.0596  0.0000        0.0033  0.0148   1.09% 4.97%     -4.3331   \n",
      "769   0.0559  0.3734        0.0000  0.0072   5.03% 6.38%      0.8633   \n",
      "2710  0.0000  0.0000        0.0000  0.0118   5.23% 5.60%     -1.0809   \n",
      "2537  0.0246  0.8376        0.0000  0.0085   9.73% 6.53%     -0.6108   \n",
      "2163  0.1678  0.8800        0.0075  0.0060   9.12% 6.52%    -18.1495   \n",
      "2356  0.0872  0.1581        0.0000  0.0056   8.38% 5.06%     -1.4744   \n",
      "720   0.0498  0.9021        0.0017  0.0067   4.23% 4.64%     -0.4923   \n",
      "1759  0.0499  0.4567        0.0000  0.0131   4.40% 4.36%     -0.6513   \n",
      "188   0.0720  0.0000        0.0032  0.0074   7.52% 8.91%     -0.1483   \n",
      "1913  0.1288  0.7216        0.0000  0.0038   7.75% 6.17%     -0.9277   \n",
      "2531  2.7600  2.4610        0.0033  0.0071  8.09% 10.11%     -0.7742   \n",
      "\n",
      "      2015to2014  2016to2015  2017to2016  \n",
      "10        0.0356      0.1672      0.0210  \n",
      "565      -0.2568      0.0178      0.2657  \n",
      "502       0.0219      0.0238      0.5663  \n",
      "1902    -73.3709      0.8976      2.2736  \n",
      "2957     -2.3853      0.4854      0.3407  \n",
      "224      -2.9749      0.5482      0.1356  \n",
      "100      -0.5477      0.9486      0.4615  \n",
      "2314     -1.2243      0.7061      0.7271  \n",
      "769       0.0294      0.3714      2.3049  \n",
      "2710      0.0173      0.3548      0.3541  \n",
      "2537      1.0132     10.3046      0.3614  \n",
      "2163     -2.5467      0.4469      3.7330  \n",
      "2356    -15.8892      0.8017      1.6207  \n",
      "720       0.1438      0.2500      1.4273  \n",
      "1759      0.7586      0.5345      0.0642  \n",
      "188      -0.1474      0.0696      0.0113  \n",
      "1913     -0.3544      0.5821      0.7229  \n",
      "2531      0.2050      0.3410      0.7856  \n",
      "\n",
      "[18 rows x 49 columns]\n"
     ]
    }
   ],
   "source": [
    "df_allndlist_good_3 = df_allndlist[(df_allndlist['SMA20PCT']>0.1)\n",
    "                                     & (df_allndlist['SMA50PCT']>0.1) & (df_allndlist['SMA200PCT']>0.1)\n",
    "                                 & (df_allndlist['2015to2014']>0) & (df_allndlist['2016to2015']>0)\n",
    "                                & (df_allndlist['2017to2016']>0)]\n",
    "print(df_allndlist_good_3.sort_values(by=['SMA200PCT']))\n",
    "\n",
    "\n",
    "df_allndlist_good_2 = df_allndlist[(df_allndlist['SMA20PCT']>0.1)\n",
    "                                     & (df_allndlist['SMA50PCT']>0.1) & (df_allndlist['SMA200PCT']>0.1)\n",
    "                                 & (df_allndlist['2016to2015']>0)\n",
    "                                & (df_allndlist['2017to2016']>0)]\n",
    "print(df_allndlist_good_2.sort_values(by=['SMA200PCT']))"
   ]
  },
  {
   "cell_type": "code",
   "execution_count": 5,
   "metadata": {
    "collapsed": false
   },
   "outputs": [
    {
     "name": "stdout",
     "output_type": "stream",
     "text": [
      "Total stocks that satisfy four year continous NIGR>25%:102 out of 3051 total nasdaq stock that IPO before 2014\n",
      "\n",
      "['Weibo Corporation', 'U.S. Auto Parts Network, Inc.', 'Tucows Inc.', 'Truett-Hurst, Inc.', 'Tristate Capital Holdings, Inc.', 'TPI Composites, Inc.', 'T-Mobile US, Inc.', 'The Trade Desk, Inc.', 'The Hackett Group, Inc.', 'Tecogen Inc.', 'Take-Two Interactive Software, Inc.', 'Sunrun Inc.', 'Spark Energy, Inc.', 'Spark Energy, Inc.', 'SolarEdge Technologies, Inc.', 'SMART Global Holdings, Inc.', 'Shutterfly, Inc.', 'Seacoast Banking Corporation of Florida', 'Schnitzer Steel Industries, Inc.', 'ReTo Eco-Solutions, Inc.', 'Regeneron Pharmaceuticals, Inc.', 'Qurate Retail, Inc.', 'Qurate Retail, Inc.', 'Quantenna Communications, Inc.', 'Qualstar Corporation', 'PRGX Global, Inc.', 'Presidio, Inc.', 'Pinnacle Financial Partners, Inc.', 'Penn National Gaming, Inc.', 'Peapack-Gladstone Financial Corporation', 'Paylocity Holding Corporation', 'Patrick Industries, Inc.', 'Pacific Premier Bancorp, Inc.', 'Orthofix Medical Inc.', 'Orbotech Ltd.', 'OraSure Technologies, Inc.', 'On Track Innovations Ltd.', \"Ollie's Bargain Outlet Holdings, Inc.\", 'NV5 Global, Inc.', 'Nutrisystem, Inc.', 'Neptune Wellness Solutions Inc.', 'National Vision Holdings, Inc.', 'Momo Inc.', 'Mercury Systems, Inc.', 'Melrose Bancorp, Inc.', 'Medpace Holdings, Inc.', 'Medidata Solutions, Inc.', 'MCBC Holdings, Inc.', 'Liberty Broadband Corporation', 'Liberty Broadband Corporation', 'LGI Homes, Inc.', 'LeMaitre Vascular, Inc.', 'Lantronix, Inc.', 'Landmark Infrastructure Partners LP', 'Landmark Infrastructure Partners LP', 'Landmark Infrastructure Partners LP', 'Landmark Infrastructure Partners LP', 'Lam Research Corporation', 'Itron, Inc.', 'Investors Title Company', 'Innoviva, Inc.', 'Independent Bank Group, Inc.', 'Image Sensing Systems, Inc.', 'Ichor Holdings, Ltd.', 'Huazhu Group Limited', 'Hologic, Inc.', 'Highpower International, Inc.', 'Hexindai Inc.', 'Heritage-Crystal Clean, Inc', 'HealthEquity, Inc.', 'Health Insurance Innovations, Inc.', 'Hawaiian Holdings, Inc.', 'GSE Systems, Inc.', 'Grupo Financiero Galicia S.A.', 'Griffin Industrial Realty, Inc.', 'Gibraltar Industries, Inc.', 'First Internet Bancorp', 'Facebook, Inc.', 'Exelixis, Inc.', 'Energy Recovery, Inc.', 'Emmis Communications Corporation', 'Educational Development Corporation', 'Del Taco Restaurants, Inc.', \"Dave & Buster's Entertainment, Inc.\", 'Cutera, Inc.', 'Cross Country Healthcare, Inc.', 'Corcept Therapeutics Incorporated', 'Coherus BioSciences, Inc.', 'Churchill Downs Incorporated', 'CEVA, Inc.', 'Ceragon Networks Ltd.', 'Central Garden & Pet Company', 'Central Garden & Pet Company', 'Cambium Learning Group, Inc.', 'Blucora, Inc.', 'Beasley Broadcast Group, Inc.', 'Baozun Inc.', 'athenahealth, Inc.', 'Applied Optoelectronics, Inc.', 'Amazon.com, Inc.', 'AeroVironment, Inc.', 'Adobe Inc.']\n",
      "['WB', 'PRTS', 'TCX', 'THST', 'TSC', 'TPIC', 'TMUS', 'TTD', 'HCKT', 'TGEN', 'TTWO', 'RUN', 'SPKEP', 'SPKE', 'SEDG', 'SGH', 'SFLY', 'SBCF', 'SCHN', 'RETO', 'REGN', 'QRTEB', 'QRTEA', 'QTNA', 'QBAK', 'PRGX', 'PSDO', 'PNFP', 'PENN', 'PGC', 'PCTY', 'PATK', 'PPBI', 'OFIX', 'ORBK', 'OSUR', 'OTIV', 'OLLI', 'NVEE', 'NTRI', 'NEPT', 'EYE', 'MOMO', 'MRCY', 'MELR', 'MEDP', 'MDSO', 'MCFT', 'LBRDK', 'LBRDA', 'LGIH', 'LMAT', 'LTRX', 'LMRKP', 'LMRKO', 'LMRKN', 'LMRK', 'LRCX', 'ITRI', 'ITIC', 'INVA', 'IBTX', 'ISNS', 'ICHR', 'HTHT', 'HOLX', 'HPJ', 'HX', 'HCCI', 'HQY', 'HIIQ', 'HA', 'GVP', 'GGAL', 'GRIF', 'ROCK', 'INBK', 'FB', 'EXEL', 'ERII', 'EMMS', 'EDUC', 'TACO', 'PLAY', 'CUTR', 'CCRN', 'CORT', 'CHRS', 'CHDN', 'CEVA', 'CRNT', 'CENTA', 'CENT', 'ABCD', 'BCOR', 'BBGI', 'BZUN', 'ATHN', 'AAOI', 'AMZN', 'AVAV', 'ADBE']\n"
     ]
    }
   ],
   "source": [
    "df_allndlist_25 = df_allndlist[(df_allndlist['2015to2014']>0.25)\n",
    "                                     & (df_allndlist['2016to2015']>0.25) & (df_allndlist['2017to2016']>0.25)]\n",
    "print('Total stocks that satisfy four year continous NIGR>25%:'+str(len(df_allndlist_25))+ ' out of '\n",
    "      +str(len(df_allndlist))+ ' total nasdaq stock that IPO before 2014'+'\\n' )\n",
    "if len(df_allndlist_25)<10:\n",
    "    print(df_allndlist_25)\n",
    "else:\n",
    "    print(df_allndlist_25.name.tolist())\n",
    "    print(df_allndlist_25.symbol.tolist())"
   ]
  },
  {
   "cell_type": "code",
   "execution_count": 6,
   "metadata": {
    "collapsed": false
   },
   "outputs": [],
   "source": [
    "#df_allndlist_25.info()"
   ]
  },
  {
   "cell_type": "code",
   "execution_count": 7,
   "metadata": {
    "collapsed": false
   },
   "outputs": [
    {
     "data": {
      "text/html": [
       "<iframe id=\"igraph\" scrolling=\"no\" style=\"border:none;\" seamless=\"seamless\" src=\"https://plot.ly/~zhenxu66/15.embed\" height=\"525px\" width=\"100%\"></iframe>"
      ],
      "text/plain": [
       "<plotly.tools.PlotlyDisplay object>"
      ]
     },
     "execution_count": 7,
     "metadata": {},
     "output_type": "execute_result"
    }
   ],
   "source": [
    "df_sector = df_allndlist[df_allndlist['sector']=='Technology']\n",
    "data_sector = [go.Histogram(\n",
    "        x=df_allndlist['sector'],\n",
    "        name='all',\n",
    "        marker=dict(\n",
    "            color='#FFD7E9',\n",
    "        ),\n",
    "        opacity=0.75\n",
    "    ),\n",
    "               go.Histogram(\n",
    "        x=df_allndlist_25['sector'],\n",
    "        name='NIGR>25',\n",
    "        marker=dict(\n",
    "            color='#EB89B5',\n",
    "        ),\n",
    "        opacity=0.75\n",
    "    ),\n",
    "           ]\n",
    "\n",
    "layout = go.Layout(\n",
    "    title='Sector hist Results',\n",
    "    xaxis=dict(\n",
    "        title='Sector',\n",
    "    ),\n",
    "    yaxis=dict(\n",
    "        title='Count',\n",
    "        automargin=True,\n",
    "        type = 'log'\n",
    "    ),\n",
    "    bargap=0.2,\n",
    "    bargroupgap=0.1,\n",
    "    autosize=True\n",
    "\n",
    ")\n",
    "fig = go.Figure(data=data_sector, layout=layout)\n",
    "py.iplot(fig, filename='styled histogram')"
   ]
  },
  {
   "cell_type": "code",
   "execution_count": 8,
   "metadata": {
    "collapsed": false
   },
   "outputs": [
    {
     "data": {
      "text/html": [
       "<iframe id=\"igraph\" scrolling=\"no\" style=\"border:none;\" seamless=\"seamless\" src=\"https://plot.ly/~zhenxu66/13.embed\" height=\"525px\" width=\"100%\"></iframe>"
      ],
      "text/plain": [
       "<plotly.tools.PlotlyDisplay object>"
      ]
     },
     "execution_count": 8,
     "metadata": {},
     "output_type": "execute_result"
    }
   ],
   "source": [
    "def plot_df_industry_symbols(df, sector):\n",
    "    df_sector = df[df['sector']==sector]\n",
    "    def industry_merge_company(industry):\n",
    "        df_sector_industry = df_sector[df_sector['industry']==industry]\n",
    "        return df_sector_industry['symbol'].str.cat(sep=',')\n",
    "    \n",
    "    value_counts = df_sector['industry'].value_counts()\n",
    "    df_industry = value_counts.rename_axis('industry').reset_index(name='counts')\n",
    "    df_industry['symbols'] = df_industry['industry'].apply(industry_merge_company)\n",
    "    trace = go.Pie(labels=df_industry['industry'], values=df_industry['counts'], text = df_industry.symbols, textinfo='label+value')\n",
    "    return trace\n",
    "\n",
    "def df_industry_symbols(df, sector):\n",
    "    df_sector = df[df['sector']==sector]\n",
    "    def industry_merge_company(industry):\n",
    "        df_sector_industry = df_sector[df_sector['industry']==industry]\n",
    "        return df_sector_industry['symbol'].str.cat(sep=',')\n",
    "    \n",
    "    value_counts = df_sector['industry'].value_counts()\n",
    "    df_industry = value_counts.rename_axis('industry').reset_index(name='counts')\n",
    "    df_industry['symbols'] = df_industry['industry'].apply(industry_merge_company)\n",
    "    return df_industry\n",
    "trace_25 = plot_df_industry_symbols(df_allndlist,'Technology')\n",
    "py.iplot([trace_25],filename='basic_pie_chart')"
   ]
  },
  {
   "cell_type": "code",
   "execution_count": 9,
   "metadata": {
    "collapsed": false
   },
   "outputs": [
    {
     "data": {
      "text/plain": [
       "28"
      ]
     },
     "execution_count": 9,
     "metadata": {},
     "output_type": "execute_result"
    }
   ],
   "source": [
    "len(df_industry_symbols(df_allndlist,'Technology'))"
   ]
  },
  {
   "cell_type": "code",
   "execution_count": 11,
   "metadata": {
    "collapsed": false
   },
   "outputs": [
    {
     "name": "stderr",
     "output_type": "stream",
     "text": [
      "C:\\Users\\zxu\\AppData\\Local\\Continuum\\Anaconda3\\lib\\site-packages\\plotly\\tools.py:1428: UserWarning:\n",
      "\n",
      "Looks like you used a newline character: '\\n'.\n",
      "\n",
      "Plotly uses a subset of HTML escape characters\n",
      "to do things like newline (<br>), bold (<b></b>),\n",
      "italics (<i></i>), etc. Your newline characters \n",
      "have been converted to '<br>' so they will show \n",
      "up right on your Plotly figure!\n",
      "\n"
     ]
    },
    {
     "data": {
      "text/html": [
       "<iframe id=\"igraph\" scrolling=\"no\" style=\"border:none;\" seamless=\"seamless\" src=\"https://plot.ly/~zhenxu66/17.embed\" height=\"525px\" width=\"100%\"></iframe>"
      ],
      "text/plain": [
       "<plotly.tools.PlotlyDisplay object>"
      ]
     },
     "execution_count": 11,
     "metadata": {},
     "output_type": "execute_result"
    }
   ],
   "source": [
    "#df_industry_symbols(df_allndlist_25,'Technology')\n",
    "#df_industry_symbols(df_allndlist,'Technology')\n",
    "#merge two plots together\n",
    "fig = {\n",
    "  \"data\": [\n",
    "    {\n",
    "      \"values\": df_industry_symbols(df_allndlist_25,'Technology')['counts'].tolist(),\n",
    "      \"labels\": df_industry_symbols(df_allndlist_25,'Technology')['industry'].tolist(),\n",
    "      \"text\":   df_industry_symbols(df_allndlist_25,'Technology').symbols.tolist(),\n",
    "      \"domain\": {\"x\": [0, .48]},\n",
    "      \"name\": \"NIRG >25%\",\n",
    "      \"hoverinfo\":\"label+percent+name+text\",\n",
    "      \"hole\": .4,\n",
    "      \"type\": \"pie\"\n",
    "    },\n",
    "    {\n",
    "      \"values\": df_industry_symbols(df_allndlist,'Technology')['counts'].tolist(),\n",
    "      \"labels\": df_industry_symbols(df_allndlist,'Technology')['industry'].tolist(),\n",
    "      \"text\":   df_industry_symbols(df_allndlist,'Technology').symbols.tolist(),\n",
    "      \"textposition\":\"none\",\n",
    "      \"domain\": {\"x\": [.52, 1]},\n",
    "      \"name\": \"All Nasdaq\",\n",
    "      \"hoverinfo\":\"label+percent+name+text\",\n",
    "      \"hole\": .4,\n",
    "      \"type\": \"pie\"\n",
    "    }],\n",
    "  \"layout\": {\n",
    "        \"title\":\"Technology Section Compare\",\n",
    "        \"annotations\": [\n",
    "            {\n",
    "                \"font\": {\n",
    "                    \"size\": 20\n",
    "                },\n",
    "                \"showarrow\": False,\n",
    "                \"text\": \"NIRG >25%\"+'\\n'+str(len(df_industry_symbols(df_allndlist_25,'Technology'))),\n",
    "                \"x\": 0.15,\n",
    "                \"y\": 0.5\n",
    "            },\n",
    "            {\n",
    "                \"font\": {\n",
    "                    \"size\": 20\n",
    "                },\n",
    "                \"showarrow\": False,\n",
    "                \"text\": \"All Nasdaq\"+'\\n'+str(len(df_industry_symbols(df_allndlist,'Technology'))),\n",
    "                \"x\": 0.85,\n",
    "                \"y\": 0.5\n",
    "            }\n",
    "        ]\n",
    "    }\n",
    "}\n",
    "py.iplot(fig, filename='donut')"
   ]
  },
  {
   "cell_type": "code",
   "execution_count": 22,
   "metadata": {
    "collapsed": false
   },
   "outputs": [
    {
     "name": "stderr",
     "output_type": "stream",
     "text": [
      "C:\\Users\\zxu\\AppData\\Local\\Continuum\\Anaconda3\\lib\\site-packages\\plotly\\tools.py:1428: UserWarning:\n",
      "\n",
      "Looks like you used a newline character: '\\n'.\n",
      "\n",
      "Plotly uses a subset of HTML escape characters\n",
      "to do things like newline (<br>), bold (<b></b>),\n",
      "italics (<i></i>), etc. Your newline characters \n",
      "have been converted to '<br>' so they will show \n",
      "up right on your Plotly figure!\n",
      "\n"
     ]
    },
    {
     "data": {
      "text/html": [
       "<iframe id=\"igraph\" scrolling=\"no\" style=\"border:none;\" seamless=\"seamless\" src=\"https://plot.ly/~zhenxu66/17.embed\" height=\"525px\" width=\"100%\"></iframe>"
      ],
      "text/plain": [
       "<plotly.tools.PlotlyDisplay object>"
      ]
     },
     "execution_count": 22,
     "metadata": {},
     "output_type": "execute_result"
    }
   ],
   "source": [
    "def sector_plot(sector):\n",
    "    fig = {\n",
    "      \"data\": [\n",
    "        {\n",
    "          \"values\": df_industry_symbols(df_allndlist_25,sector)['counts'].tolist(),\n",
    "          \"labels\": df_industry_symbols(df_allndlist_25,sector)['industry'].tolist(),\n",
    "          \"text\":   df_industry_symbols(df_allndlist_25,sector).symbols.tolist(),\n",
    "          \"domain\": {\"x\": [0, .48]},\n",
    "          \"name\": \"NIRG >25%\",\n",
    "          \"hoverinfo\":\"label+percent+name+text\",\n",
    "          \"hole\": .4,\n",
    "          \"type\": \"pie\"\n",
    "        },\n",
    "        {\n",
    "          \"values\": df_industry_symbols(df_allndlist,sector)['counts'].tolist(),\n",
    "          \"labels\": df_industry_symbols(df_allndlist,sector)['industry'].tolist(),\n",
    "          \"text\":   df_industry_symbols(df_allndlist,sector).symbols.tolist(),\n",
    "          \"textposition\":\"none\",\n",
    "          \"domain\": {\"x\": [.52, 1]},\n",
    "          \"name\": \"All Nasdaq\",\n",
    "          \"hoverinfo\":\"label+percent+name+text\",\n",
    "          \"hole\": .4,\n",
    "          \"type\": \"pie\"\n",
    "        }],\n",
    "      \"layout\": {\n",
    "            \"title\":\"Services Section Compare\",\n",
    "            \"annotations\": [\n",
    "                {\n",
    "                    \"font\": {\n",
    "                        \"size\": 20\n",
    "                    },\n",
    "                    \"showarrow\": False,\n",
    "                    \"text\": \"NIRG >25%\"+'\\n'+str(len(df_industry_symbols(df_allndlist_25,sector))),\n",
    "                    \"x\": 0.15,\n",
    "                    \"y\": 0.5\n",
    "                },\n",
    "                {\n",
    "                    \"font\": {\n",
    "                        \"size\": 20\n",
    "                    },\n",
    "                    \"showarrow\": False,\n",
    "                    \"text\": \"All Nasdaq\"+'\\n'+str(len(df_industry_symbols(df_allndlist,sector))),\n",
    "                    \"x\": 0.85,\n",
    "                    \"y\": 0.5\n",
    "                }\n",
    "            ]\n",
    "        }\n",
    "    }\n",
    "    return fig\n",
    "py.iplot(sector_plot('Technology'), filename='donut')"
   ]
  },
  {
   "cell_type": "code",
   "execution_count": 23,
   "metadata": {
    "collapsed": false
   },
   "outputs": [
    {
     "data": {
      "text/html": [
       "<iframe id=\"igraph\" scrolling=\"no\" style=\"border:none;\" seamless=\"seamless\" src=\"https://plot.ly/~zhenxu66/15.embed\" height=\"525px\" width=\"100%\"></iframe>"
      ],
      "text/plain": [
       "<plotly.tools.PlotlyDisplay object>"
      ]
     },
     "execution_count": 23,
     "metadata": {},
     "output_type": "execute_result"
    }
   ],
   "source": [
    "data_ipo_year = [go.Histogram(\n",
    "        x=df_allndlist['ipo_year'],\n",
    "        name='all',\n",
    "        marker=dict(\n",
    "            color='#FFD7E9',\n",
    "        ),\n",
    "        opacity=0.75\n",
    "    ),\n",
    "               go.Histogram(\n",
    "        x=df_allndlist_25['ipo_year'],\n",
    "        name='NIGR>25',\n",
    "        marker=dict(\n",
    "            color='#EB89B5',\n",
    "        ),\n",
    "        opacity=0.75\n",
    "    ),\n",
    "           ]\n",
    "\n",
    "layout = go.Layout(\n",
    "    title='ipo_year hist Results',\n",
    "    xaxis=dict(\n",
    "        title='ipo_year',\n",
    "    ),\n",
    "    yaxis=dict(\n",
    "        title='Count',\n",
    "        automargin=True,\n",
    "        type = 'log'\n",
    "    ),\n",
    "    bargap=0.2,\n",
    "    bargroupgap=0.1,\n",
    "    autosize=True\n",
    "\n",
    ")\n",
    "fig = go.Figure(data=data_ipo_year, layout=layout)\n",
    "py.iplot(fig, filename='styled histogram')"
   ]
  },
  {
   "cell_type": "code",
   "execution_count": 24,
   "metadata": {
    "collapsed": false,
    "scrolled": true
   },
   "outputs": [
    {
     "data": {
      "text/html": [
       "<iframe id=\"igraph\" scrolling=\"no\" style=\"border:none;\" seamless=\"seamless\" src=\"https://plot.ly/~zhenxu66/15.embed\" height=\"525px\" width=\"100%\"></iframe>"
      ],
      "text/plain": [
       "<plotly.tools.PlotlyDisplay object>"
      ]
     },
     "execution_count": 24,
     "metadata": {},
     "output_type": "execute_result"
    }
   ],
   "source": [
    "data_country = [go.Histogram(\n",
    "        x=df_allndlist['country'],\n",
    "        name='all',\n",
    "        marker=dict(\n",
    "            color='#FFD7E9',\n",
    "        ),\n",
    "        opacity=0.75\n",
    "    ),\n",
    "               go.Histogram(\n",
    "        x=df_allndlist_25['country'],\n",
    "        name='NIGR>25',\n",
    "        marker=dict(\n",
    "            color='#EB89B5',\n",
    "        ),\n",
    "        opacity=0.75\n",
    "    ),\n",
    "           ]\n",
    "\n",
    "layout = go.Layout(\n",
    "    title='country hist Results',\n",
    "    xaxis=dict(\n",
    "        title='country',\n",
    "    ),\n",
    "    yaxis=dict(\n",
    "        title='Count',\n",
    "        automargin=True,\n",
    "        type ='log'\n",
    "    ),\n",
    "    bargap=0.2,\n",
    "    bargroupgap=0.1,\n",
    "    autosize=True\n",
    "\n",
    ")\n",
    "fig = go.Figure(data=data_country, layout=layout)\n",
    "py.iplot(fig, filename='styled histogram')"
   ]
  },
  {
   "cell_type": "code",
   "execution_count": 25,
   "metadata": {
    "collapsed": false
   },
   "outputs": [
    {
     "name": "stdout",
     "output_type": "stream",
     "text": [
      "Total # of industries: 199\n",
      "\n",
      "industry\n",
      "Internet Information Providers         2151592.39\n",
      "Electronic Equipment                   1060722.88\n",
      "Business Software & Services           1029620.35\n",
      "Biotechnology                           924046.09\n",
      "Catalog & Mail Order Houses             855896.20\n",
      "Semiconductor - Broad Line              544566.00\n",
      "Application Software                    417224.51\n",
      "Communication Equipment                 385937.70\n",
      "CATV Systems                            311919.93\n",
      "Entertainment - Diversified             290403.41\n",
      "Business Services                       217370.64\n",
      "Semiconductor Equipment & Materials     207602.33\n",
      "Beverages - Soft Drinks                 205230.00\n",
      "Medical Instruments & Supplies          176791.88\n",
      "Credit Services                         162683.14\n",
      "Semiconductor - Specialized             150074.81\n",
      "Specialty Retail, Other                 146558.08\n",
      "Investment Brokerage - National         133950.01\n",
      "Discount, Variety Stores                132564.40\n",
      "Asset Management                        122076.90\n",
      "Wireless Communications                 115988.67\n",
      "Semiconductor - Integrated Circuits     100253.65\n",
      "Internet Software & Services             97894.04\n",
      "Specialty Eateries                       96768.32\n",
      "Telecom Services - Domestic              93841.75\n",
      "Food - Major Diversified                 90826.31\n",
      "Information Technology Services          89326.97\n",
      "Multimedia & Graphics Software           89229.50\n",
      "Lodging                                  84630.00\n",
      "Broadcasting - TV                        84327.56\n",
      "Name: marketCapMillion, dtype: float64\n"
     ]
    }
   ],
   "source": [
    "df_industry_sum = df_allndlist.groupby('industry').marketCapMillion.agg('sum')\n",
    "print('Total # of industries: '+ str(len(df_industry_sum))+ '\\n')\n",
    "print(df_industry_sum.sort_values(ascending=False)[:30])\n",
    "\n",
    "#df_allndlist_25.groupby('industry').marketCapMillion.agg('sum')"
   ]
  },
  {
   "cell_type": "code",
   "execution_count": 26,
   "metadata": {
    "collapsed": false
   },
   "outputs": [
    {
     "name": "stdout",
     "output_type": "stream",
     "text": [
      "Total # of industries: 63\n",
      "\n",
      "industry\n",
      "Catalog & Mail Order Houses              839600.00\n",
      "Internet Information Providers           438553.55\n",
      "Application Software                     131050.05\n",
      "Wireless Communications                   59490.00\n",
      "Biotechnology                             47818.77\n",
      "Semiconductor Equipment & Materials       24000.78\n",
      "Healthcare Information Services           15610.00\n",
      "CATV Systems                              15500.00\n",
      "Specialty Retail, Other                   14995.61\n",
      "Multimedia & Graphics Software            13620.00\n",
      "Broadcasting - TV                         12710.00\n",
      "Medical Instruments & Supplies            12689.24\n",
      "Lodging                                    7600.00\n",
      "Internet Software & Services               7370.00\n",
      "Regional - Southeast Banks                 5970.00\n",
      "Discount, Variety Stores                   5780.00\n",
      "Scientific & Technical Instruments         4940.00\n",
      "Semiconductor - Specialized                3788.91\n",
      "Gaming Activities                          3520.00\n",
      "Personal Services                          3070.00\n",
      "Foreign Regional Banks                     2890.00\n",
      "Restaurants                                2682.52\n",
      "Food - Major Diversified                   2600.00\n",
      "Computer Peripherals                       2500.00\n",
      "Aerospace/Defense Products & Services      2440.00\n",
      "Property Management                        2236.91\n",
      "Medical Laboratories & Research            2090.00\n",
      "Resorts & Casinos                          2060.00\n",
      "Regional - Pacific Banks                   1900.00\n",
      "Steel & Iron                               1851.05\n",
      "Name: marketCapMillion, dtype: float64\n"
     ]
    }
   ],
   "source": [
    "df_industry_25_sum = df_allndlist_25.groupby('industry').marketCapMillion.agg('sum')\n",
    "print('Total # of industries: '+ str(len(df_industry_25_sum))+ '\\n')\n",
    "print(df_industry_25_sum.sort_values(ascending=False)[:30])\n",
    "\n",
    "#df_allndlist_25.groupby('industry').marketCapMillion.agg('sum')"
   ]
  },
  {
   "cell_type": "code",
   "execution_count": 27,
   "metadata": {
    "collapsed": false
   },
   "outputs": [],
   "source": [
    "fig = {\n",
    "    'data': [\n",
    "        {\n",
    "            'x': df_allndlist_25['ppe'], \n",
    "            'y': df_allndlist_25['marketCapMillion'], \n",
    "            'text': df_allndlist_25.symbol + ' name:'+ df_allndlist_25.name,  #cannot access columns with '' '' \n",
    "            'mode': 'markers', #+text\n",
    "            'marker':dict(\n",
    "                size= 8, #30*df_allnd100list['inst_own'],\n",
    "                color = df_allndlist_25['recomm1buy5sell'], #set color equal to a variable\n",
    "                colorscale='Viridis',\n",
    "                showscale=True\n",
    "            ),\n",
    "            'name': 'Results'},      \n",
    "\n",
    "    ],\n",
    "    'layout': {\n",
    "        'title': 'market_volumn compared with price per earnings and profit_margin (%)',\n",
    "        'xaxis': {'title': 'price per earnings','autorange':True,'type': 'log'},\n",
    "        'yaxis': {'title': \"mark_volumn\",'autorange':True,'type': 'log'},\n",
    "        'showlegend': True,\n",
    "        'annotations':[ #not working\n",
    "            dict(\n",
    "                x=1100,#df_allnd100list[df_allnd100list.symbol=='AAPL']['mark_cap(billion)'].item(),\n",
    "                y=4800,#df_allnd100list[df_allnd100list.symbol=='AAPL']['shares_out(million)'].item(),\n",
    "                xref='x',\n",
    "                yref='y',\n",
    "                text='dict Text is here',\n",
    "                showarrow=True,\n",
    "                arrowhead=7,\n",
    "                ax=0,\n",
    "                ay=-40\n",
    "            ),\n",
    "        ]\n",
    "    }\n",
    "}"
   ]
  },
  {
   "cell_type": "code",
   "execution_count": 28,
   "metadata": {
    "collapsed": false
   },
   "outputs": [
    {
     "data": {
      "text/html": [
       "<iframe id=\"igraph\" scrolling=\"no\" style=\"border:none;\" seamless=\"seamless\" src=\"https://plot.ly/~zhenxu66/8.embed\" height=\"525px\" width=\"100%\"></iframe>"
      ],
      "text/plain": [
       "<plotly.tools.PlotlyDisplay object>"
      ]
     },
     "execution_count": 28,
     "metadata": {},
     "output_type": "execute_result"
    }
   ],
   "source": [
    "py.iplot(fig, filename='scatter')  #py.plot will generate a webpage"
   ]
  },
  {
   "cell_type": "code",
   "execution_count": 29,
   "metadata": {
    "collapsed": false
   },
   "outputs": [
    {
     "name": "stdout",
     "output_type": "stream",
     "text": [
      "['id', 'symbol', 'name', 'sector', 'industry', 'country', 'board', 'prof_marginPCT', 'ppe', 'marketCapMillion', 'descShort', 'url_reuter', 'url_marketwatch', 'ipo_year', 'url', 'EPS', 'insideOwnPCT', 'forwardPPE', 'nextYEPS', 'insideOwnTrans6monthPCT', 'instOwnPCT', 'thisYearGrowthEPSPCT', 'instOwnTrans3monthPCT', 'nextYearGrowthEPSPCT', 'ROAPCT', 'ROEPCT', 'dividAnn', 'ROIPCT', 'dividYieldAnnPCT', 'dividPayoutRatioPCT', 'avgVolumn3MonthMillion', 'priceNow', 'recomm1buy5sell', 'SMA20PCT', 'SMA50PCT', 'SMA200PCT', 'relVolumn', 'PEG', 'PSR', 'fiftytwoWeekRange', 'PBR', 'PFCF', 'DEBTtoEquity', 'Beta', 'Volatility', '2014to2013', '2015to2014', '2016to2015', '2017to2016']\n",
      "['prof_marginPCT', 'insideOwnPCT', 'insideOwnTrans6monthPCT', 'instOwnPCT', 'thisYearGrowthEPSPCT', 'instOwnTrans3monthPCT', 'nextYearGrowthEPSPCT', 'ROAPCT', 'ROEPCT', 'ROIPCT', 'dividYieldAnnPCT', 'dividPayoutRatioPCT', 'SMA20PCT', 'SMA50PCT', 'SMA200PCT']\n"
     ]
    }
   ],
   "source": [
    "column_PCT=[]\n",
    "for i in df_allndlist_25.columns.tolist():\n",
    "    if i[-3:]=='PCT':\n",
    "        column_PCT.append(i)\n",
    "print(df_allndlist_25.columns.tolist())\n",
    "print(column_PCT)\n"
   ]
  },
  {
   "cell_type": "code",
   "execution_count": 30,
   "metadata": {
    "collapsed": false
   },
   "outputs": [
    {
     "name": "stdout",
     "output_type": "stream",
     "text": [
      "['prof_marginPCT', 'ppe', 'marketCapMillion', 'EPS', 'insideOwnPCT', 'forwardPPE', 'nextYEPS', 'insideOwnTrans6monthPCT', 'instOwnPCT', 'thisYearGrowthEPSPCT', 'instOwnTrans3monthPCT', 'nextYearGrowthEPSPCT', 'ROAPCT', 'ROEPCT', 'dividAnn', 'ROIPCT', 'dividYieldAnnPCT', 'dividPayoutRatioPCT', 'avgVolumn3MonthMillion', 'priceNow', 'recomm1buy5sell', 'SMA20PCT', 'SMA50PCT', 'SMA200PCT', 'relVolumn', 'PEG', 'PSR', 'PBR', 'PFCF', 'DEBTtoEquity', 'Beta', '2014to2013', '2015to2014', '2016to2015', '2017to2016']\n"
     ]
    }
   ],
   "source": [
    "group = df_allndlist_25.columns.to_series().groupby(df_allndlist_25.dtypes).groups\n",
    "dict_group = {k.name: v for k, v in group.items()}\n",
    "float_column = dict_group.get('float64').tolist()\n",
    "print(float_column)"
   ]
  },
  {
   "cell_type": "code",
   "execution_count": 31,
   "metadata": {
    "collapsed": false
   },
   "outputs": [
    {
     "data": {
      "text/plain": [
       "priceNow                   1.000000\n",
       "marketCapMillion           0.889199\n",
       "nextYEPS                   0.763160\n",
       "EPS                        0.594718\n",
       "forwardPPE                 0.365136\n",
       "avgVolumn3MonthMillion     0.260587\n",
       "ppe                        0.260392\n",
       "PBR                        0.226999\n",
       "Beta                       0.099855\n",
       "SMA200PCT                  0.097993\n",
       "instOwnPCT                 0.071783\n",
       "PFCF                       0.064389\n",
       "recomm1buy5sell            0.055904\n",
       "ROEPCT                     0.049859\n",
       "2015to2014                 0.034413\n",
       "2014to2013                 0.031983\n",
       "dividAnn                   0.029032\n",
       "PSR                        0.021898\n",
       "PEG                        0.017047\n",
       "SMA20PCT                   0.014945\n",
       "ROAPCT                     0.003235\n",
       "SMA50PCT                  -0.002774\n",
       "relVolumn                 -0.005403\n",
       "insideOwnPCT              -0.006203\n",
       "insideOwnTrans6monthPCT   -0.006584\n",
       "DEBTtoEquity              -0.019637\n",
       "2016to2015                -0.024455\n",
       "instOwnTrans3monthPCT     -0.027946\n",
       "prof_marginPCT            -0.035927\n",
       "dividPayoutRatioPCT       -0.036675\n",
       "nextYearGrowthEPSPCT      -0.038398\n",
       "ROIPCT                    -0.050402\n",
       "dividYieldAnnPCT          -0.071801\n",
       "2017to2016                -0.104190\n",
       "thisYearGrowthEPSPCT      -0.122372\n",
       "Name: priceNow, dtype: float64"
      ]
     },
     "execution_count": 31,
     "metadata": {},
     "output_type": "execute_result"
    }
   ],
   "source": [
    "df_allndlist_25_float= df_allndlist_25[float_column]\n",
    "df_allndlist_25_float.corr()['priceNow'].sort_values(ascending = False)"
   ]
  },
  {
   "cell_type": "code",
   "execution_count": 38,
   "metadata": {
    "collapsed": false
   },
   "outputs": [
    {
     "data": {
      "text/plain": [
       "priceNow                   1.000000\n",
       "nextYEPS                   0.723199\n",
       "marketCapMillion           0.504105\n",
       "dividAnn                   0.221048\n",
       "prof_marginPCT             0.161146\n",
       "SMA200PCT                  0.145505\n",
       "ROAPCT                     0.141306\n",
       "instOwnPCT                 0.141167\n",
       "EPS                        0.115693\n",
       "SMA50PCT                   0.079350\n",
       "ROEPCT                     0.078904\n",
       "SMA20PCT                   0.074486\n",
       "forwardPPE                 0.063554\n",
       "ppe                        0.055682\n",
       "avgVolumn3MonthMillion     0.053753\n",
       "ROIPCT                     0.052175\n",
       "thisYearGrowthEPSPCT       0.049318\n",
       "recomm1buy5sell            0.045423\n",
       "2015to2014                 0.032536\n",
       "PEG                        0.031563\n",
       "Beta                       0.031484\n",
       "2014to2013                 0.021520\n",
       "dividPayoutRatioPCT        0.021223\n",
       "PFCF                       0.020378\n",
       "2016to2015                 0.003352\n",
       "2017to2016                 0.000565\n",
       "PBR                       -0.001155\n",
       "relVolumn                 -0.011479\n",
       "PSR                       -0.012422\n",
       "DEBTtoEquity              -0.013750\n",
       "nextYearGrowthEPSPCT      -0.023351\n",
       "dividYieldAnnPCT          -0.029143\n",
       "instOwnTrans3monthPCT     -0.031754\n",
       "insideOwnTrans6monthPCT   -0.067441\n",
       "insideOwnPCT              -0.090692\n",
       "Name: priceNow, dtype: float64"
      ]
     },
     "execution_count": 38,
     "metadata": {},
     "output_type": "execute_result"
    }
   ],
   "source": [
    "group = df_allndlist.columns.to_series().groupby(df_allndlist.dtypes).groups\n",
    "dict_group = {k.name: v for k, v in group.items()}\n",
    "float_column = dict_group.get('float64').tolist()\n",
    "#print(float_column)\n",
    "df_allndlist_float= df_allndlist[float_column]\n",
    "df_allndlist_float.corr()['priceNow'].sort_values(ascending = False)"
   ]
  },
  {
   "cell_type": "code",
   "execution_count": 32,
   "metadata": {
    "collapsed": false
   },
   "outputs": [],
   "source": [
    "df_allndlist_25_PCT= df_allndlist_25[column_PCT]"
   ]
  },
  {
   "cell_type": "code",
   "execution_count": 33,
   "metadata": {
    "collapsed": false
   },
   "outputs": [],
   "source": [
    "#df_allndlist_25_PCT.corr()"
   ]
  },
  {
   "cell_type": "code",
   "execution_count": 34,
   "metadata": {
    "collapsed": false
   },
   "outputs": [
    {
     "data": {
      "text/plain": [
       "SMA20PCT                   1.000000\n",
       "SMA50PCT                   0.815008\n",
       "SMA200PCT                  0.365499\n",
       "insideOwnPCT               0.226991\n",
       "ROIPCT                     0.103665\n",
       "ROAPCT                     0.098186\n",
       "nextYearGrowthEPSPCT       0.075079\n",
       "ROEPCT                     0.073216\n",
       "insideOwnTrans6monthPCT    0.055187\n",
       "dividPayoutRatioPCT        0.004675\n",
       "prof_marginPCT            -0.033893\n",
       "instOwnPCT                -0.051026\n",
       "dividYieldAnnPCT          -0.055846\n",
       "instOwnTrans3monthPCT     -0.161374\n",
       "thisYearGrowthEPSPCT      -0.211005\n",
       "Name: SMA20PCT, dtype: float64"
      ]
     },
     "execution_count": 34,
     "metadata": {},
     "output_type": "execute_result"
    }
   ],
   "source": [
    "df_allndlist_25_PCT.corr()['SMA20PCT'].sort_values(ascending = False)"
   ]
  },
  {
   "cell_type": "code",
   "execution_count": 35,
   "metadata": {
    "collapsed": false
   },
   "outputs": [],
   "source": [
    "#from pandas.plotting import scatter_matrix\n",
    "#scatter_matrix(df_allndlist_25_PCT,figsize= (16,12),alpha=0.3)"
   ]
  },
  {
   "cell_type": "code",
   "execution_count": 36,
   "metadata": {
    "collapsed": false
   },
   "outputs": [
    {
     "data": {
      "text/html": [
       "<iframe id=\"igraph\" scrolling=\"no\" style=\"border:none;\" seamless=\"seamless\" src=\"https://plot.ly/~zhenxu66/15.embed\" height=\"2000px\" width=\"1000px\"></iframe>"
      ],
      "text/plain": [
       "<plotly.tools.PlotlyDisplay object>"
      ]
     },
     "execution_count": 36,
     "metadata": {},
     "output_type": "execute_result"
    }
   ],
   "source": [
    "data_industry = [go.Histogram(\n",
    "        y=df_allndlist_25['industry'])\n",
    "           ]\n",
    "\n",
    "layout = go.Layout(\n",
    "    title='industry hist Results',\n",
    "    xaxis=dict(\n",
    "        title='Count',\n",
    "        type ='log'\n",
    "    ),\n",
    "    yaxis=dict(\n",
    "        title='industry',\n",
    "        automargin=True\n",
    "    ),\n",
    "    bargap=0.2,\n",
    "    autosize=False,\n",
    "    width=1000,\n",
    "    height=2000,\n",
    "    margin=go.layout.Margin(\n",
    "        l=50,\n",
    "        r=50,\n",
    "        b=100,\n",
    "        t=100,\n",
    "        pad=4\n",
    "    ),\n",
    "\n",
    ")\n",
    "fig = go.Figure(data=data_industry, layout=layout)\n",
    "py.iplot(fig, filename='styled histogram')"
   ]
  },
  {
   "cell_type": "code",
   "execution_count": 39,
   "metadata": {
    "collapsed": false
   },
   "outputs": [
    {
     "data": {
      "text/html": [
       "<iframe id=\"igraph\" scrolling=\"no\" style=\"border:none;\" seamless=\"seamless\" src=\"https://plot.ly/~zhenxu66/15.embed\" height=\"2000px\" width=\"1000px\"></iframe>"
      ],
      "text/plain": [
       "<plotly.tools.PlotlyDisplay object>"
      ]
     },
     "execution_count": 39,
     "metadata": {},
     "output_type": "execute_result"
    }
   ],
   "source": [
    "data_industry = [go.Histogram(\n",
    "        y=df_allndlist['industry'])\n",
    "           ]\n",
    "\n",
    "layout = go.Layout(\n",
    "    title='industry hist Results',\n",
    "    xaxis=dict(\n",
    "        title='Count',\n",
    "        type ='log'\n",
    "    ),\n",
    "    yaxis=dict(\n",
    "        title='industry',\n",
    "        automargin=True\n",
    "    ),\n",
    "    bargap=0.2,\n",
    "    autosize=False,\n",
    "    width=1000,\n",
    "    height=2000,\n",
    "    margin=go.layout.Margin(\n",
    "        l=50,\n",
    "        r=50,\n",
    "        b=100,\n",
    "        t=100,\n",
    "        pad=4\n",
    "    ),\n",
    "\n",
    ")\n",
    "fig = go.Figure(data=data_industry, layout=layout)\n",
    "py.iplot(fig, filename='styled histogram')"
   ]
  },
  {
   "cell_type": "code",
   "execution_count": null,
   "metadata": {
    "collapsed": true
   },
   "outputs": [],
   "source": []
  }
 ],
 "metadata": {
  "kernelspec": {
   "display_name": "Python 3",
   "language": "python",
   "name": "python3"
  },
  "language_info": {
   "codemirror_mode": {
    "name": "ipython",
    "version": 3
   },
   "file_extension": ".py",
   "mimetype": "text/x-python",
   "name": "python",
   "nbconvert_exporter": "python",
   "pygments_lexer": "ipython3",
   "version": "3.5.4"
  }
 },
 "nbformat": 4,
 "nbformat_minor": 0
}
