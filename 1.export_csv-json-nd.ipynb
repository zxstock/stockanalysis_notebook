{
 "cells": [
  {
   "cell_type": "code",
   "execution_count": 1,
   "metadata": {
    "collapsed": false
   },
   "outputs": [],
   "source": [
    "import numpy as np\n",
    "import matplotlib.pyplot as plt\n",
    "import pandas as pd\n",
    "import mysql.connector\n",
    "import json"
   ]
  },
  {
   "cell_type": "code",
   "execution_count": 2,
   "metadata": {
    "collapsed": false
   },
   "outputs": [],
   "source": [
    "#server = '192.168.10.138' remote\n",
    "server = '127.0.0.1'\n",
    "\n",
    "conn = mysql.connector.connect(user='root', password='gmw6504192658',\n",
    "                                            host=server, database='nd', charset='utf8',\n",
    "                                            use_unicode=True)\n",
    "cursor = conn.cursor()  # Database operation"
   ]
  },
  {
   "cell_type": "code",
   "execution_count": 3,
   "metadata": {
    "collapsed": false
   },
   "outputs": [],
   "source": [
    "df_allndlist= pd.read_sql('SELECT * FROM nd', con=conn)"
   ]
  },
  {
   "cell_type": "code",
   "execution_count": 4,
   "metadata": {
    "collapsed": false
   },
   "outputs": [
    {
     "data": {
      "text/html": [
       "<div>\n",
       "<style scoped>\n",
       "    .dataframe tbody tr th:only-of-type {\n",
       "        vertical-align: middle;\n",
       "    }\n",
       "\n",
       "    .dataframe tbody tr th {\n",
       "        vertical-align: top;\n",
       "    }\n",
       "\n",
       "    .dataframe thead th {\n",
       "        text-align: right;\n",
       "    }\n",
       "</style>\n",
       "<table border=\"1\" class=\"dataframe\">\n",
       "  <thead>\n",
       "    <tr style=\"text-align: right;\">\n",
       "      <th></th>\n",
       "      <th>id</th>\n",
       "      <th>symbol</th>\n",
       "      <th>name</th>\n",
       "      <th>sector</th>\n",
       "      <th>industry</th>\n",
       "      <th>country</th>\n",
       "      <th>board</th>\n",
       "      <th>prof_margin</th>\n",
       "      <th>ppe</th>\n",
       "      <th>vol</th>\n",
       "      <th>descShort</th>\n",
       "      <th>url_reuter</th>\n",
       "      <th>url_marketwatch</th>\n",
       "      <th>ipo_year</th>\n",
       "      <th>NIGR_result</th>\n",
       "    </tr>\n",
       "  </thead>\n",
       "  <tbody>\n",
       "    <tr>\n",
       "      <th>0</th>\n",
       "      <td>1</td>\n",
       "      <td>PIH</td>\n",
       "      <td>1347 Property Insurance Holdings, Inc.</td>\n",
       "      <td>Financial</td>\n",
       "      <td>Property &amp; Casualty Insurance</td>\n",
       "      <td>USA</td>\n",
       "      <td>[NASD]</td>\n",
       "      <td>42.00%</td>\n",
       "      <td>23.09</td>\n",
       "      <td>4,501</td>\n",
       "      <td>1347 Property Insurance Holdings, Inc., throug...</td>\n",
       "      <td>http://www.reuters.com/finance/stocks/financia...</td>\n",
       "      <td>https://www.marketwatch.com/investing/stock/PI...</td>\n",
       "      <td>2014.0</td>\n",
       "      <td>{\"2014-2013\": \"-\", \"2015-2014\": \"-153.18%\", \"2...</td>\n",
       "    </tr>\n",
       "    <tr>\n",
       "      <th>1</th>\n",
       "      <td>2</td>\n",
       "      <td>VNET</td>\n",
       "      <td>21Vianet Group, Inc.</td>\n",
       "      <td>Technology</td>\n",
       "      <td>Information Technology Services</td>\n",
       "      <td>China</td>\n",
       "      <td>[NASD]</td>\n",
       "      <td>-16.70%</td>\n",
       "      <td>-</td>\n",
       "      <td>216,347</td>\n",
       "      <td>21Vianet Group, Inc. provides carrier-neutral ...</td>\n",
       "      <td>http://www.reuters.com/finance/stocks/financia...</td>\n",
       "      <td>https://www.marketwatch.com/investing/stock/VN...</td>\n",
       "      <td>2011.0</td>\n",
       "      <td>{\"2014-2013\": \"-619.18%\", \"2015-2014\": \"-20.55...</td>\n",
       "    </tr>\n",
       "  </tbody>\n",
       "</table>\n",
       "</div>"
      ],
      "text/plain": [
       "   id symbol                                    name      sector  \\\n",
       "0   1    PIH  1347 Property Insurance Holdings, Inc.   Financial   \n",
       "1   2   VNET                    21Vianet Group, Inc.  Technology   \n",
       "\n",
       "                          industry country   board prof_margin    ppe  \\\n",
       "0    Property & Casualty Insurance     USA  [NASD]      42.00%  23.09   \n",
       "1  Information Technology Services   China  [NASD]     -16.70%      -   \n",
       "\n",
       "       vol                                          descShort  \\\n",
       "0    4,501  1347 Property Insurance Holdings, Inc., throug...   \n",
       "1  216,347  21Vianet Group, Inc. provides carrier-neutral ...   \n",
       "\n",
       "                                          url_reuter  \\\n",
       "0  http://www.reuters.com/finance/stocks/financia...   \n",
       "1  http://www.reuters.com/finance/stocks/financia...   \n",
       "\n",
       "                                     url_marketwatch ipo_year  \\\n",
       "0  https://www.marketwatch.com/investing/stock/PI...   2014.0   \n",
       "1  https://www.marketwatch.com/investing/stock/VN...   2011.0   \n",
       "\n",
       "                                         NIGR_result  \n",
       "0  {\"2014-2013\": \"-\", \"2015-2014\": \"-153.18%\", \"2...  \n",
       "1  {\"2014-2013\": \"-619.18%\", \"2015-2014\": \"-20.55...  "
      ]
     },
     "execution_count": 4,
     "metadata": {},
     "output_type": "execute_result"
    }
   ],
   "source": [
    "df_allndlist.head(2)"
   ]
  },
  {
   "cell_type": "code",
   "execution_count": 5,
   "metadata": {
    "collapsed": true
   },
   "outputs": [],
   "source": [
    "def CustomParser(data):\n",
    "    j1 = json.loads(data)\n",
    "    return j1"
   ]
  },
  {
   "cell_type": "code",
   "execution_count": 6,
   "metadata": {
    "collapsed": false
   },
   "outputs": [],
   "source": [
    "df_allndlist['NIGR_result'] = df_allndlist['NIGR_result'].apply(CustomParser)\n",
    "df_allndlist[sorted(df_allndlist['NIGR_result'][0].keys())] = df_allndlist['NIGR_result'].apply(pd.Series)\n",
    "df_allndlist.drop(columns='NIGR_result',inplace = True)"
   ]
  },
  {
   "cell_type": "code",
   "execution_count": 7,
   "metadata": {
    "collapsed": false
   },
   "outputs": [
    {
     "name": "stdout",
     "output_type": "stream",
     "text": [
      "<class 'pandas.core.frame.DataFrame'>\n",
      "RangeIndex: 890 entries, 0 to 889\n",
      "Data columns (total 18 columns):\n",
      "id                 890 non-null int64\n",
      "symbol             890 non-null object\n",
      "name               890 non-null object\n",
      "sector             890 non-null object\n",
      "industry           890 non-null object\n",
      "country            890 non-null object\n",
      "board              890 non-null object\n",
      "prof_margin        890 non-null object\n",
      "ppe                657 non-null object\n",
      "vol                890 non-null object\n",
      "descShort          890 non-null object\n",
      "url_reuter         890 non-null object\n",
      "url_marketwatch    890 non-null object\n",
      "ipo_year           890 non-null object\n",
      "2014-2013          890 non-null object\n",
      "2015-2014          890 non-null object\n",
      "2016-2015          890 non-null object\n",
      "2017-2016          890 non-null object\n",
      "dtypes: int64(1), object(17)\n",
      "memory usage: 125.2+ KB\n"
     ]
    }
   ],
   "source": [
    "df_allndlist.info()"
   ]
  },
  {
   "cell_type": "code",
   "execution_count": 8,
   "metadata": {
    "collapsed": false
   },
   "outputs": [],
   "source": [
    "df_allndlist['vol'] = df_allndlist['vol'].apply(lambda x: float(x.replace(',','')) if x!= '0.00%' else 0)\n",
    "df_allndlist['ppe'] = df_allndlist['ppe'].apply(lambda x: float(x) if (x!= '-' and x is not None)  else 0)\n",
    "df_allndlist['ipo_year'] = df_allndlist['ipo_year'].apply(lambda x: int(x[:-2]))\n",
    "df_allndlist['prof_margin'] = df_allndlist['prof_margin'].apply(lambda x: round(float((x[:-1]))/100,4))    "
   ]
  },
  {
   "cell_type": "code",
   "execution_count": 9,
   "metadata": {
    "collapsed": false
   },
   "outputs": [
    {
     "data": {
      "text/html": [
       "<div>\n",
       "<style scoped>\n",
       "    .dataframe tbody tr th:only-of-type {\n",
       "        vertical-align: middle;\n",
       "    }\n",
       "\n",
       "    .dataframe tbody tr th {\n",
       "        vertical-align: top;\n",
       "    }\n",
       "\n",
       "    .dataframe thead th {\n",
       "        text-align: right;\n",
       "    }\n",
       "</style>\n",
       "<table border=\"1\" class=\"dataframe\">\n",
       "  <thead>\n",
       "    <tr style=\"text-align: right;\">\n",
       "      <th></th>\n",
       "      <th>id</th>\n",
       "      <th>symbol</th>\n",
       "      <th>name</th>\n",
       "      <th>sector</th>\n",
       "      <th>industry</th>\n",
       "      <th>country</th>\n",
       "      <th>board</th>\n",
       "      <th>prof_margin</th>\n",
       "      <th>ppe</th>\n",
       "      <th>vol</th>\n",
       "      <th>descShort</th>\n",
       "      <th>url_reuter</th>\n",
       "      <th>url_marketwatch</th>\n",
       "      <th>ipo_year</th>\n",
       "      <th>2014-2013</th>\n",
       "      <th>2015-2014</th>\n",
       "      <th>2016-2015</th>\n",
       "      <th>2017-2016</th>\n",
       "    </tr>\n",
       "  </thead>\n",
       "  <tbody>\n",
       "    <tr>\n",
       "      <th>0</th>\n",
       "      <td>1</td>\n",
       "      <td>PIH</td>\n",
       "      <td>1347 Property Insurance Holdings, Inc.</td>\n",
       "      <td>Financial</td>\n",
       "      <td>Property &amp; Casualty Insurance</td>\n",
       "      <td>USA</td>\n",
       "      <td>[NASD]</td>\n",
       "      <td>0.420</td>\n",
       "      <td>23.09</td>\n",
       "      <td>4501.0</td>\n",
       "      <td>1347 Property Insurance Holdings, Inc., throug...</td>\n",
       "      <td>http://www.reuters.com/finance/stocks/financia...</td>\n",
       "      <td>https://www.marketwatch.com/investing/stock/PI...</td>\n",
       "      <td>2014</td>\n",
       "      <td>-</td>\n",
       "      <td>-153.18%</td>\n",
       "      <td>100.66%</td>\n",
       "      <td>2,572.73%</td>\n",
       "    </tr>\n",
       "    <tr>\n",
       "      <th>1</th>\n",
       "      <td>2</td>\n",
       "      <td>VNET</td>\n",
       "      <td>21Vianet Group, Inc.</td>\n",
       "      <td>Technology</td>\n",
       "      <td>Information Technology Services</td>\n",
       "      <td>China</td>\n",
       "      <td>[NASD]</td>\n",
       "      <td>-0.167</td>\n",
       "      <td>0.00</td>\n",
       "      <td>216347.0</td>\n",
       "      <td>21Vianet Group, Inc. provides carrier-neutral ...</td>\n",
       "      <td>http://www.reuters.com/finance/stocks/financia...</td>\n",
       "      <td>https://www.marketwatch.com/investing/stock/VN...</td>\n",
       "      <td>2011</td>\n",
       "      <td>-619.18%</td>\n",
       "      <td>-20.55%</td>\n",
       "      <td>-39.80%</td>\n",
       "      <td>-42.19%</td>\n",
       "    </tr>\n",
       "  </tbody>\n",
       "</table>\n",
       "</div>"
      ],
      "text/plain": [
       "   id symbol                                    name      sector  \\\n",
       "0   1    PIH  1347 Property Insurance Holdings, Inc.   Financial   \n",
       "1   2   VNET                    21Vianet Group, Inc.  Technology   \n",
       "\n",
       "                          industry country   board  prof_margin    ppe  \\\n",
       "0    Property & Casualty Insurance     USA  [NASD]        0.420  23.09   \n",
       "1  Information Technology Services   China  [NASD]       -0.167   0.00   \n",
       "\n",
       "        vol                                          descShort  \\\n",
       "0    4501.0  1347 Property Insurance Holdings, Inc., throug...   \n",
       "1  216347.0  21Vianet Group, Inc. provides carrier-neutral ...   \n",
       "\n",
       "                                          url_reuter  \\\n",
       "0  http://www.reuters.com/finance/stocks/financia...   \n",
       "1  http://www.reuters.com/finance/stocks/financia...   \n",
       "\n",
       "                                     url_marketwatch  ipo_year 2014-2013  \\\n",
       "0  https://www.marketwatch.com/investing/stock/PI...      2014         -   \n",
       "1  https://www.marketwatch.com/investing/stock/VN...      2011  -619.18%   \n",
       "\n",
       "  2015-2014 2016-2015  2017-2016  \n",
       "0  -153.18%   100.66%  2,572.73%  \n",
       "1   -20.55%   -39.80%    -42.19%  "
      ]
     },
     "execution_count": 9,
     "metadata": {},
     "output_type": "execute_result"
    }
   ],
   "source": [
    "df_allndlist.head(2)"
   ]
  },
  {
   "cell_type": "code",
   "execution_count": 10,
   "metadata": {
    "collapsed": false
   },
   "outputs": [],
   "source": [
    "def p2f(x):\n",
    "    if x!= '-':\n",
    "        return float((x.replace(',', \"\").strip('%')))/100\n",
    "    else:\n",
    "        return 0\n",
    "#p2f('24816.87%')\n",
    "df_allndlist['2017-2016'] = df_allndlist['2017-2016'].apply(p2f)\n",
    "df_allndlist['2016-2015'] = df_allndlist['2016-2015'].apply(p2f)\n",
    "df_allndlist['2015-2014'] = df_allndlist['2015-2014'].apply(p2f)\n",
    "df_allndlist['2014-2013'] = df_allndlist['2014-2013'].apply(p2f)"
   ]
  },
  {
   "cell_type": "code",
   "execution_count": 11,
   "metadata": {
    "collapsed": false
   },
   "outputs": [
    {
     "data": {
      "text/html": [
       "<div>\n",
       "<style scoped>\n",
       "    .dataframe tbody tr th:only-of-type {\n",
       "        vertical-align: middle;\n",
       "    }\n",
       "\n",
       "    .dataframe tbody tr th {\n",
       "        vertical-align: top;\n",
       "    }\n",
       "\n",
       "    .dataframe thead th {\n",
       "        text-align: right;\n",
       "    }\n",
       "</style>\n",
       "<table border=\"1\" class=\"dataframe\">\n",
       "  <thead>\n",
       "    <tr style=\"text-align: right;\">\n",
       "      <th></th>\n",
       "      <th>id</th>\n",
       "      <th>symbol</th>\n",
       "      <th>name</th>\n",
       "      <th>sector</th>\n",
       "      <th>industry</th>\n",
       "      <th>country</th>\n",
       "      <th>board</th>\n",
       "      <th>prof_margin</th>\n",
       "      <th>ppe</th>\n",
       "      <th>vol</th>\n",
       "      <th>descShort</th>\n",
       "      <th>url_reuter</th>\n",
       "      <th>url_marketwatch</th>\n",
       "      <th>ipo_year</th>\n",
       "      <th>2014-2013</th>\n",
       "      <th>2015-2014</th>\n",
       "      <th>2016-2015</th>\n",
       "      <th>2017-2016</th>\n",
       "    </tr>\n",
       "  </thead>\n",
       "  <tbody>\n",
       "    <tr>\n",
       "      <th>0</th>\n",
       "      <td>1</td>\n",
       "      <td>PIH</td>\n",
       "      <td>1347 Property Insurance Holdings, Inc.</td>\n",
       "      <td>Financial</td>\n",
       "      <td>Property &amp; Casualty Insurance</td>\n",
       "      <td>USA</td>\n",
       "      <td>[NASD]</td>\n",
       "      <td>0.420</td>\n",
       "      <td>23.09</td>\n",
       "      <td>4501.0</td>\n",
       "      <td>1347 Property Insurance Holdings, Inc., throug...</td>\n",
       "      <td>http://www.reuters.com/finance/stocks/financia...</td>\n",
       "      <td>https://www.marketwatch.com/investing/stock/PI...</td>\n",
       "      <td>2014</td>\n",
       "      <td>0.0000</td>\n",
       "      <td>-1.5318</td>\n",
       "      <td>1.0066</td>\n",
       "      <td>25.7273</td>\n",
       "    </tr>\n",
       "    <tr>\n",
       "      <th>1</th>\n",
       "      <td>2</td>\n",
       "      <td>VNET</td>\n",
       "      <td>21Vianet Group, Inc.</td>\n",
       "      <td>Technology</td>\n",
       "      <td>Information Technology Services</td>\n",
       "      <td>China</td>\n",
       "      <td>[NASD]</td>\n",
       "      <td>-0.167</td>\n",
       "      <td>0.00</td>\n",
       "      <td>216347.0</td>\n",
       "      <td>21Vianet Group, Inc. provides carrier-neutral ...</td>\n",
       "      <td>http://www.reuters.com/finance/stocks/financia...</td>\n",
       "      <td>https://www.marketwatch.com/investing/stock/VN...</td>\n",
       "      <td>2011</td>\n",
       "      <td>-6.1918</td>\n",
       "      <td>-0.2055</td>\n",
       "      <td>-0.3980</td>\n",
       "      <td>-0.4219</td>\n",
       "    </tr>\n",
       "  </tbody>\n",
       "</table>\n",
       "</div>"
      ],
      "text/plain": [
       "   id symbol                                    name      sector  \\\n",
       "0   1    PIH  1347 Property Insurance Holdings, Inc.   Financial   \n",
       "1   2   VNET                    21Vianet Group, Inc.  Technology   \n",
       "\n",
       "                          industry country   board  prof_margin    ppe  \\\n",
       "0    Property & Casualty Insurance     USA  [NASD]        0.420  23.09   \n",
       "1  Information Technology Services   China  [NASD]       -0.167   0.00   \n",
       "\n",
       "        vol                                          descShort  \\\n",
       "0    4501.0  1347 Property Insurance Holdings, Inc., throug...   \n",
       "1  216347.0  21Vianet Group, Inc. provides carrier-neutral ...   \n",
       "\n",
       "                                          url_reuter  \\\n",
       "0  http://www.reuters.com/finance/stocks/financia...   \n",
       "1  http://www.reuters.com/finance/stocks/financia...   \n",
       "\n",
       "                                     url_marketwatch  ipo_year  2014-2013  \\\n",
       "0  https://www.marketwatch.com/investing/stock/PI...      2014     0.0000   \n",
       "1  https://www.marketwatch.com/investing/stock/VN...      2011    -6.1918   \n",
       "\n",
       "   2015-2014  2016-2015  2017-2016  \n",
       "0    -1.5318     1.0066    25.7273  \n",
       "1    -0.2055    -0.3980    -0.4219  "
      ]
     },
     "execution_count": 11,
     "metadata": {},
     "output_type": "execute_result"
    }
   ],
   "source": [
    "df_allndlist.head(2)"
   ]
  },
  {
   "cell_type": "code",
   "execution_count": 12,
   "metadata": {
    "collapsed": false
   },
   "outputs": [],
   "source": [
    "#df_allnd100list.rename(index=str, columns={\"shares_out\": \"shares_out(million)\", \"mark_cap\": \"mark_cap(billion)\"},inplace= True)"
   ]
  },
  {
   "cell_type": "code",
   "execution_count": 13,
   "metadata": {
    "collapsed": false
   },
   "outputs": [],
   "source": [
    "#df_allnd100list.ix[df_allnd100list['symbol']=='AAPL']"
   ]
  },
  {
   "cell_type": "code",
   "execution_count": 14,
   "metadata": {
    "collapsed": false
   },
   "outputs": [],
   "source": [
    "#df_allnd100list.ix[df_allnd100list['shares_out'].idxmax()]"
   ]
  },
  {
   "cell_type": "code",
   "execution_count": 15,
   "metadata": {
    "collapsed": false
   },
   "outputs": [],
   "source": [
    "df_allndlist.to_csv('./csv/list_nd_all.csv',encoding='utf-8',index=False)"
   ]
  },
  {
   "cell_type": "code",
   "execution_count": null,
   "metadata": {
    "collapsed": true
   },
   "outputs": [],
   "source": []
  }
 ],
 "metadata": {
  "kernelspec": {
   "display_name": "Python 3",
   "language": "python",
   "name": "python3"
  },
  "language_info": {
   "codemirror_mode": {
    "name": "ipython",
    "version": 3
   },
   "file_extension": ".py",
   "mimetype": "text/x-python",
   "name": "python",
   "nbconvert_exporter": "python",
   "pygments_lexer": "ipython3",
   "version": "3.5.4"
  }
 },
 "nbformat": 4,
 "nbformat_minor": 0
}
