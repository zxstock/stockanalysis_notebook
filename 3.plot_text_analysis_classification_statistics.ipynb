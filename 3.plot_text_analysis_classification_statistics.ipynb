{
 "cells": [
  {
   "cell_type": "code",
   "execution_count": 1,
   "metadata": {
    "collapsed": false
   },
   "outputs": [],
   "source": [
    "import numpy as np\n",
    "import matplotlib.pyplot as plt\n",
    "import pandas as pd\n",
    "#import mysql.connector\n",
    "import plotly\n",
    "import plotly.plotly as py #library https://plot.ly/pandas/\n",
    "import plotly.graph_objs as go\n",
    "#import cufflinks as cf\n",
    "\n",
    "plotly.tools.set_credentials_file(username='zhenxu66', api_key='yZ5rrla4FGut06wbewMo')"
   ]
  },
  {
   "cell_type": "code",
   "execution_count": 2,
   "metadata": {
    "collapsed": false
   },
   "outputs": [],
   "source": [
    "df_allnd100list= pd.read_csv('./csv/list.csv')"
   ]
  },
  {
   "cell_type": "code",
   "execution_count": 4,
   "metadata": {
    "collapsed": false
   },
   "outputs": [
    {
     "data": {
      "text/html": [
       "<div>\n",
       "<style scoped>\n",
       "    .dataframe tbody tr th:only-of-type {\n",
       "        vertical-align: middle;\n",
       "    }\n",
       "\n",
       "    .dataframe tbody tr th {\n",
       "        vertical-align: top;\n",
       "    }\n",
       "\n",
       "    .dataframe thead th {\n",
       "        text-align: right;\n",
       "    }\n",
       "</style>\n",
       "<table border=\"1\" class=\"dataframe\">\n",
       "  <thead>\n",
       "    <tr style=\"text-align: right;\">\n",
       "      <th></th>\n",
       "      <th>id</th>\n",
       "      <th>symbol</th>\n",
       "      <th>url</th>\n",
       "      <th>descShort</th>\n",
       "      <th>descLong</th>\n",
       "      <th>CEO</th>\n",
       "      <th>address</th>\n",
       "      <th>shares_out(million)</th>\n",
       "      <th>inst_own</th>\n",
       "      <th>mark_cap(billion)</th>\n",
       "    </tr>\n",
       "  </thead>\n",
       "  <tbody>\n",
       "    <tr>\n",
       "      <th>0</th>\n",
       "      <td>1</td>\n",
       "      <td>AAL</td>\n",
       "      <td>http://www.cnbc.com/quotes/?symbol=AAL</td>\n",
       "      <td>American Airlines Group Inc. is a holding comp...</td>\n",
       "      <td>American Airlines Group Inc. is a holding comp...</td>\n",
       "      <td>William Douglas Parker</td>\n",
       "      <td>4333 Amon Carter Blvd, Fort Worth, Texas, Unit...</td>\n",
       "      <td>460.5</td>\n",
       "      <td>0.8186</td>\n",
       "      <td>14.2</td>\n",
       "    </tr>\n",
       "    <tr>\n",
       "      <th>1</th>\n",
       "      <td>2</td>\n",
       "      <td>COST</td>\n",
       "      <td>http://www.cnbc.com/quotes/?symbol=COST</td>\n",
       "      <td>Costco Wholesale Corporation is engaged in the...</td>\n",
       "      <td>Costco Wholesale Corporation is engaged in the...</td>\n",
       "      <td>W. Craig Jelinek</td>\n",
       "      <td>999 Lake Dr, Issaquah, Washington, United Stat...</td>\n",
       "      <td>438.2</td>\n",
       "      <td>0.7361</td>\n",
       "      <td>99.4</td>\n",
       "    </tr>\n",
       "  </tbody>\n",
       "</table>\n",
       "</div>"
      ],
      "text/plain": [
       "   id symbol                                      url  \\\n",
       "0   1    AAL   http://www.cnbc.com/quotes/?symbol=AAL   \n",
       "1   2   COST  http://www.cnbc.com/quotes/?symbol=COST   \n",
       "\n",
       "                                           descShort  \\\n",
       "0  American Airlines Group Inc. is a holding comp...   \n",
       "1  Costco Wholesale Corporation is engaged in the...   \n",
       "\n",
       "                                            descLong                     CEO  \\\n",
       "0  American Airlines Group Inc. is a holding comp...  William Douglas Parker   \n",
       "1  Costco Wholesale Corporation is engaged in the...        W. Craig Jelinek   \n",
       "\n",
       "                                             address  shares_out(million)  \\\n",
       "0  4333 Amon Carter Blvd, Fort Worth, Texas, Unit...                460.5   \n",
       "1  999 Lake Dr, Issaquah, Washington, United Stat...                438.2   \n",
       "\n",
       "   inst_own  mark_cap(billion)  \n",
       "0    0.8186               14.2  \n",
       "1    0.7361               99.4  "
      ]
     },
     "execution_count": 4,
     "metadata": {},
     "output_type": "execute_result"
    }
   ],
   "source": [
    "df_allnd100list.head(2)"
   ]
  },
  {
   "cell_type": "code",
   "execution_count": 5,
   "metadata": {
    "collapsed": false
   },
   "outputs": [
    {
     "name": "stdout",
     "output_type": "stream",
     "text": [
      "Texas\n"
     ]
    }
   ],
   "source": [
    "#my_string = \"4333 Amon Carter Blvd, Fort Worth, Texas, United States \"\n",
    "#print([x.strip() for x in my_string.split(',')][2])\n",
    "def get_state(address):\n",
    "    return [x.strip() for x in address.split(',')][2]\n",
    "\n",
    "def get_city(address):\n",
    "    return [x.strip() for x in address.split(',')][1]"
   ]
  },
  {
   "cell_type": "code",
   "execution_count": 6,
   "metadata": {
    "collapsed": true
   },
   "outputs": [],
   "source": [
    "df_allnd100list['state'] = df_allnd100list['address'].apply(get_state)\n",
    "df_allnd100list['city'] = df_allnd100list['address'].apply(get_city)"
   ]
  },
  {
   "cell_type": "code",
   "execution_count": 7,
   "metadata": {
    "collapsed": false
   },
   "outputs": [
    {
     "data": {
      "text/html": [
       "<div>\n",
       "<style scoped>\n",
       "    .dataframe tbody tr th:only-of-type {\n",
       "        vertical-align: middle;\n",
       "    }\n",
       "\n",
       "    .dataframe tbody tr th {\n",
       "        vertical-align: top;\n",
       "    }\n",
       "\n",
       "    .dataframe thead th {\n",
       "        text-align: right;\n",
       "    }\n",
       "</style>\n",
       "<table border=\"1\" class=\"dataframe\">\n",
       "  <thead>\n",
       "    <tr style=\"text-align: right;\">\n",
       "      <th></th>\n",
       "      <th>id</th>\n",
       "      <th>symbol</th>\n",
       "      <th>url</th>\n",
       "      <th>descShort</th>\n",
       "      <th>descLong</th>\n",
       "      <th>CEO</th>\n",
       "      <th>address</th>\n",
       "      <th>shares_out(million)</th>\n",
       "      <th>inst_own</th>\n",
       "      <th>mark_cap(billion)</th>\n",
       "      <th>state</th>\n",
       "      <th>city</th>\n",
       "    </tr>\n",
       "  </thead>\n",
       "  <tbody>\n",
       "    <tr>\n",
       "      <th>0</th>\n",
       "      <td>1</td>\n",
       "      <td>AAL</td>\n",
       "      <td>http://www.cnbc.com/quotes/?symbol=AAL</td>\n",
       "      <td>American Airlines Group Inc. is a holding comp...</td>\n",
       "      <td>American Airlines Group Inc. is a holding comp...</td>\n",
       "      <td>William Douglas Parker</td>\n",
       "      <td>4333 Amon Carter Blvd, Fort Worth, Texas, Unit...</td>\n",
       "      <td>460.5</td>\n",
       "      <td>0.8186</td>\n",
       "      <td>14.2</td>\n",
       "      <td>Texas</td>\n",
       "      <td>Fort Worth</td>\n",
       "    </tr>\n",
       "    <tr>\n",
       "      <th>1</th>\n",
       "      <td>2</td>\n",
       "      <td>COST</td>\n",
       "      <td>http://www.cnbc.com/quotes/?symbol=COST</td>\n",
       "      <td>Costco Wholesale Corporation is engaged in the...</td>\n",
       "      <td>Costco Wholesale Corporation is engaged in the...</td>\n",
       "      <td>W. Craig Jelinek</td>\n",
       "      <td>999 Lake Dr, Issaquah, Washington, United Stat...</td>\n",
       "      <td>438.2</td>\n",
       "      <td>0.7361</td>\n",
       "      <td>99.4</td>\n",
       "      <td>Washington</td>\n",
       "      <td>Issaquah</td>\n",
       "    </tr>\n",
       "    <tr>\n",
       "      <th>2</th>\n",
       "      <td>3</td>\n",
       "      <td>CTSH</td>\n",
       "      <td>http://www.cnbc.com/quotes/?symbol=CTSH</td>\n",
       "      <td>Cognizant Technology Solutions Corporation is ...</td>\n",
       "      <td>Cognizant Technology Solutions Corporation is ...</td>\n",
       "      <td>Francisco D'Souza</td>\n",
       "      <td>500 Frank W Burr Blvd, Teaneck, New Jersey, Un...</td>\n",
       "      <td>580.0</td>\n",
       "      <td>0.9236</td>\n",
       "      <td>41.9</td>\n",
       "      <td>New Jersey</td>\n",
       "      <td>Teaneck</td>\n",
       "    </tr>\n",
       "    <tr>\n",
       "      <th>3</th>\n",
       "      <td>4</td>\n",
       "      <td>EBAY</td>\n",
       "      <td>http://www.cnbc.com/quotes/?symbol=EBAY</td>\n",
       "      <td>eBay Inc. (eBay) is a commerce company, which ...</td>\n",
       "      <td>eBay Inc. (eBay) is a commerce company, which ...</td>\n",
       "      <td>Devin Norse Wenig</td>\n",
       "      <td>2025 Hamilton Ave, San Jose, California, Unite...</td>\n",
       "      <td>989.5</td>\n",
       "      <td>0.8723</td>\n",
       "      <td>31.4</td>\n",
       "      <td>California</td>\n",
       "      <td>San Jose</td>\n",
       "    </tr>\n",
       "    <tr>\n",
       "      <th>4</th>\n",
       "      <td>5</td>\n",
       "      <td>EA</td>\n",
       "      <td>http://www.cnbc.com/quotes/?symbol=EA</td>\n",
       "      <td>Electronic Arts Inc. develops, markets, publis...</td>\n",
       "      <td>Electronic Arts Inc. develops, markets, publis...</td>\n",
       "      <td>Andrew Wilson</td>\n",
       "      <td>209 Redwood Shores Pkwy, Redwood City, Califor...</td>\n",
       "      <td>304.8</td>\n",
       "      <td>0.9769</td>\n",
       "      <td>32.3</td>\n",
       "      <td>California</td>\n",
       "      <td>Redwood City</td>\n",
       "    </tr>\n",
       "  </tbody>\n",
       "</table>\n",
       "</div>"
      ],
      "text/plain": [
       "   id symbol                                      url  \\\n",
       "0   1    AAL   http://www.cnbc.com/quotes/?symbol=AAL   \n",
       "1   2   COST  http://www.cnbc.com/quotes/?symbol=COST   \n",
       "2   3   CTSH  http://www.cnbc.com/quotes/?symbol=CTSH   \n",
       "3   4   EBAY  http://www.cnbc.com/quotes/?symbol=EBAY   \n",
       "4   5     EA    http://www.cnbc.com/quotes/?symbol=EA   \n",
       "\n",
       "                                           descShort  \\\n",
       "0  American Airlines Group Inc. is a holding comp...   \n",
       "1  Costco Wholesale Corporation is engaged in the...   \n",
       "2  Cognizant Technology Solutions Corporation is ...   \n",
       "3  eBay Inc. (eBay) is a commerce company, which ...   \n",
       "4  Electronic Arts Inc. develops, markets, publis...   \n",
       "\n",
       "                                            descLong                     CEO  \\\n",
       "0  American Airlines Group Inc. is a holding comp...  William Douglas Parker   \n",
       "1  Costco Wholesale Corporation is engaged in the...        W. Craig Jelinek   \n",
       "2  Cognizant Technology Solutions Corporation is ...       Francisco D'Souza   \n",
       "3  eBay Inc. (eBay) is a commerce company, which ...       Devin Norse Wenig   \n",
       "4  Electronic Arts Inc. develops, markets, publis...           Andrew Wilson   \n",
       "\n",
       "                                             address  shares_out(million)  \\\n",
       "0  4333 Amon Carter Blvd, Fort Worth, Texas, Unit...                460.5   \n",
       "1  999 Lake Dr, Issaquah, Washington, United Stat...                438.2   \n",
       "2  500 Frank W Burr Blvd, Teaneck, New Jersey, Un...                580.0   \n",
       "3  2025 Hamilton Ave, San Jose, California, Unite...                989.5   \n",
       "4  209 Redwood Shores Pkwy, Redwood City, Califor...                304.8   \n",
       "\n",
       "   inst_own  mark_cap(billion)       state          city  \n",
       "0    0.8186               14.2       Texas    Fort Worth  \n",
       "1    0.7361               99.4  Washington      Issaquah  \n",
       "2    0.9236               41.9  New Jersey       Teaneck  \n",
       "3    0.8723               31.4  California      San Jose  \n",
       "4    0.9769               32.3  California  Redwood City  "
      ]
     },
     "execution_count": 7,
     "metadata": {},
     "output_type": "execute_result"
    }
   ],
   "source": [
    "df_allnd100list.head(5)"
   ]
  },
  {
   "cell_type": "code",
   "execution_count": 8,
   "metadata": {
    "collapsed": false
   },
   "outputs": [],
   "source": [
    "data_state = [go.Histogram(x=df_allnd100list['state'])]"
   ]
  },
  {
   "cell_type": "code",
   "execution_count": 9,
   "metadata": {
    "collapsed": false
   },
   "outputs": [
    {
     "data": {
      "text/html": [
       "<iframe id=\"igraph\" scrolling=\"no\" style=\"border:none;\" seamless=\"seamless\" src=\"https://plot.ly/~zhenxu66/11.embed\" height=\"525px\" width=\"100%\"></iframe>"
      ],
      "text/plain": [
       "<plotly.tools.PlotlyDisplay object>"
      ]
     },
     "execution_count": 9,
     "metadata": {},
     "output_type": "execute_result"
    }
   ],
   "source": [
    "py.iplot(data_state, filename='simple-histogram')"
   ]
  },
  {
   "cell_type": "code",
   "execution_count": 10,
   "metadata": {
    "collapsed": false
   },
   "outputs": [],
   "source": [
    "df_state = df_allnd100list[df_allnd100list['state']=='California']"
   ]
  },
  {
   "cell_type": "code",
   "execution_count": 11,
   "metadata": {
    "collapsed": false
   },
   "outputs": [],
   "source": [
    "def city_merge_company(city):\n",
    "    df_state_city = df_state[df_state['city']==city]\n",
    "    return df_state_city['symbol'].str.cat(sep=',')\n",
    "    \n",
    "#city_merge_company('Mountain View')"
   ]
  },
  {
   "cell_type": "code",
   "execution_count": 12,
   "metadata": {
    "collapsed": false
   },
   "outputs": [],
   "source": [
    "data_city = [go.Histogram(x=df_state.city)]"
   ]
  },
  {
   "cell_type": "code",
   "execution_count": 13,
   "metadata": {
    "collapsed": false
   },
   "outputs": [
    {
     "data": {
      "text/html": [
       "<iframe id=\"igraph\" scrolling=\"no\" style=\"border:none;\" seamless=\"seamless\" src=\"https://plot.ly/~zhenxu66/11.embed\" height=\"525px\" width=\"100%\"></iframe>"
      ],
      "text/plain": [
       "<plotly.tools.PlotlyDisplay object>"
      ]
     },
     "execution_count": 13,
     "metadata": {},
     "output_type": "execute_result"
    }
   ],
   "source": [
    "py.iplot(data_city, filename='simple-histogram')"
   ]
  },
  {
   "cell_type": "code",
   "execution_count": 14,
   "metadata": {
    "collapsed": false
   },
   "outputs": [
    {
     "name": "stdout",
     "output_type": "stream",
     "text": [
      "             city  counts                                           symbols\n",
      "0        San Jose      10  EBAY,CSCO,XLNX,WDC,PYPL,MXIM,CDNS,AVGO,ADBE,ALGN\n",
      "1   Mountain View       5                         SNPS,SYMC,INTU,GOOG,GOOGL\n",
      "2     Santa Clara       3                                    NVDA,INTC,AMAT\n",
      "3       San Diego       2                                         QCOM,ILMN\n",
      "4   Thousand Oaks       1                                              AMGN\n",
      "5          Dublin       1                                              ROST\n",
      "6       Palo Alto       1                                              TSLA\n",
      "7          Novato       1                                              BMRN\n",
      "8    Santa Monica       1                                              ATVI\n",
      "9        Milpitas       1                                              KLAC\n",
      "10     Pleasanton       1                                              WDAY\n",
      "11   Redwood City       1                                                EA\n",
      "12      Cupertino       1                                              AAPL\n",
      "13         Corona       1                                              MNST\n",
      "14      Los Gatos       1                                              NFLX\n",
      "15     Menlo Park       1                                                FB\n",
      "16        Fremont       1                                              LRCX\n",
      "17    Foster City       1                                              GILD\n",
      "18     San Rafael       1                                              ADSK\n",
      "19      Sunnyvale       1                                              ISRG\n"
     ]
    }
   ],
   "source": [
    "value_counts = df_state['city'].value_counts()\n",
    "df_city = value_counts.rename_axis('city').reset_index(name='counts')\n",
    "df_city['symbols'] = df_city['city'].apply(city_merge_company)\n",
    "print(df_city)"
   ]
  },
  {
   "cell_type": "code",
   "execution_count": 15,
   "metadata": {
    "collapsed": false
   },
   "outputs": [],
   "source": [
    "#df_city['symbols'].tolist()"
   ]
  },
  {
   "cell_type": "code",
   "execution_count": 16,
   "metadata": {
    "collapsed": false
   },
   "outputs": [
    {
     "data": {
      "text/html": [
       "<iframe id=\"igraph\" scrolling=\"no\" style=\"border:none;\" seamless=\"seamless\" src=\"https://plot.ly/~zhenxu66/13.embed\" height=\"525px\" width=\"100%\"></iframe>"
      ],
      "text/plain": [
       "<plotly.tools.PlotlyDisplay object>"
      ]
     },
     "execution_count": 16,
     "metadata": {},
     "output_type": "execute_result"
    }
   ],
   "source": [
    "trace = go.Pie(labels=df_city['city'], values=df_city['counts'], text = df_city.symbols, textinfo='label+value')\n",
    "py.iplot([trace],filename='basic_pie_chart')"
   ]
  },
  {
   "cell_type": "code",
   "execution_count": 17,
   "metadata": {
    "collapsed": false
   },
   "outputs": [],
   "source": [
    "fig_state = {\n",
    "    'data': [\n",
    "        {\n",
    "            'x': df_state['mark_cap(billion)'], \n",
    "            'y': df_state['shares_out(million)'], \n",
    "            'text': df_state.symbol + ' City:'+ df_state.city, \n",
    "            'orientation': 'h',\n",
    "            'mode': 'markers', #+text  markers\n",
    "            'marker':dict(\n",
    "                size= 8, #30*df_allnd100list['inst_own'],\n",
    "                color = df_state['inst_own'], #set color equal to a variable\n",
    "                colorscale='Viridis',\n",
    "                showscale=True\n",
    "            ),\n",
    "            'name': 'Results'},      \n",
    "\n",
    "    ],\n",
    "    'layout': {\n",
    "        'title': 'inst_own compared with shares_out (million) and mark_cap (billion)',\n",
    "        'xaxis': {'title': 'mark_cap(billion)', 'type': 'log'},\n",
    "        'yaxis': {'title': \"shares_out(million)\"},\n",
    "        'showlegend': True,\n",
    "        'annotations':[ #not working\n",
    "            dict(\n",
    "                x=1100,#df_allnd100list[df_allnd100list.symbol=='AAPL']['mark_cap(billion)'].item(),\n",
    "                y=4800,#df_allnd100list[df_allnd100list.symbol=='AAPL']['shares_out(million)'].item(),\n",
    "                xref='x',\n",
    "                yref='y',\n",
    "                text='dict Text is here',\n",
    "                showarrow=True,\n",
    "                arrowhead=7,\n",
    "                ax=0,\n",
    "                ay=-40\n",
    "            ),\n",
    "        ]\n",
    "    }\n",
    "}"
   ]
  },
  {
   "cell_type": "code",
   "execution_count": 18,
   "metadata": {
    "collapsed": false
   },
   "outputs": [
    {
     "data": {
      "text/html": [
       "<iframe id=\"igraph\" scrolling=\"no\" style=\"border:none;\" seamless=\"seamless\" src=\"https://plot.ly/~zhenxu66/8.embed\" height=\"525px\" width=\"100%\"></iframe>"
      ],
      "text/plain": [
       "<plotly.tools.PlotlyDisplay object>"
      ]
     },
     "execution_count": 18,
     "metadata": {},
     "output_type": "execute_result"
    }
   ],
   "source": [
    "py.iplot(fig_state, filename='scatter') "
   ]
  },
  {
   "cell_type": "code",
   "execution_count": 41,
   "metadata": {
    "collapsed": false
   },
   "outputs": [
    {
     "data": {
      "text/html": [
       "<iframe id=\"igraph\" scrolling=\"no\" style=\"border:none;\" seamless=\"seamless\" src=\"https://plot.ly/~zhenxu66/15.embed\" height=\"525px\" width=\"100%\"></iframe>"
      ],
      "text/plain": [
       "<plotly.tools.PlotlyDisplay object>"
      ]
     },
     "execution_count": 41,
     "metadata": {},
     "output_type": "execute_result"
    }
   ],
   "source": [
    "trace1 = go.Histogram(\n",
    "    x=df_state['mark_cap(billion)'],\n",
    "    #histnorm='percent',\n",
    "    name='california',\n",
    "    xbins=dict(\n",
    "        start=10.0,\n",
    "        end=100.0,\n",
    "        size=10\n",
    "    ),\n",
    "    marker=dict(\n",
    "        color='#0000ff',\n",
    "    ),\n",
    "    opacity=0.75\n",
    "    #text = df_state['symbol']\n",
    ")\n",
    "trace2 = go.Histogram(\n",
    "    x=df_allnd100list['mark_cap(billion)'],\n",
    "    name='all',\n",
    "    xbins=dict(\n",
    "        start=10.0,\n",
    "        end=100,\n",
    "        size=10\n",
    "    ),\n",
    "    marker=dict(\n",
    "        color='#EB89B5'\n",
    "    ),\n",
    "    opacity=0.75\n",
    "    #text = df_allnd100list['symbol']\n",
    ")\n",
    "data = [trace1, trace2]\n",
    "\n",
    "layout = go.Layout(\n",
    "    title='mark_cap(billion) comparison of California with all US (NASDAQ100)',\n",
    "    xaxis=dict(\n",
    "        title='mark_cap(billion)'\n",
    "    ),\n",
    "    yaxis=dict(\n",
    "        title='Count'\n",
    "    ),\n",
    "    bargap=0.2,\n",
    "    bargroupgap=0.1\n",
    ")\n",
    "fig = go.Figure(data=data, layout=layout)\n",
    "py.iplot(fig, filename='styled histogram')"
   ]
  },
  {
   "cell_type": "code",
   "execution_count": null,
   "metadata": {
    "collapsed": true
   },
   "outputs": [],
   "source": []
  }
 ],
 "metadata": {
  "kernelspec": {
   "display_name": "Python 3",
   "language": "python",
   "name": "python3"
  },
  "language_info": {
   "codemirror_mode": {
    "name": "ipython",
    "version": 3
   },
   "file_extension": ".py",
   "mimetype": "text/x-python",
   "name": "python",
   "nbconvert_exporter": "python",
   "pygments_lexer": "ipython3",
   "version": "3.5.4"
  }
 },
 "nbformat": 4,
 "nbformat_minor": 0
}
