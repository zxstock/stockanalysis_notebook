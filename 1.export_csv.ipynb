{
 "cells": [
  {
   "cell_type": "code",
   "execution_count": 1,
   "metadata": {
    "collapsed": false
   },
   "outputs": [],
   "source": [
    "import numpy as np\n",
    "import matplotlib.pyplot as plt\n",
    "import pandas as pd\n",
    "import mysql.connector"
   ]
  },
  {
   "cell_type": "code",
   "execution_count": 2,
   "metadata": {
    "collapsed": false
   },
   "outputs": [],
   "source": [
    "#server = '192.168.10.138' remote\n",
    "server = '127.0.0.1'\n",
    "\n",
    "conn = mysql.connector.connect(user='root', password='gmw6504192658',\n",
    "                                            host=server, database='nd100list', charset='utf8',\n",
    "                                            use_unicode=True)\n",
    "cursor = conn.cursor()  # Database operation"
   ]
  },
  {
   "cell_type": "code",
   "execution_count": 3,
   "metadata": {
    "collapsed": false
   },
   "outputs": [],
   "source": [
    "df_allnd100list= pd.read_sql('SELECT * FROM nd100list', con=conn)"
   ]
  },
  {
   "cell_type": "code",
   "execution_count": 4,
   "metadata": {
    "collapsed": false
   },
   "outputs": [
    {
     "data": {
      "text/html": [
       "<div>\n",
       "<table border=\"1\" class=\"dataframe\">\n",
       "  <thead>\n",
       "    <tr style=\"text-align: right;\">\n",
       "      <th></th>\n",
       "      <th>id</th>\n",
       "      <th>symbol</th>\n",
       "      <th>url</th>\n",
       "      <th>descShort</th>\n",
       "      <th>descLong</th>\n",
       "      <th>CEO</th>\n",
       "      <th>address</th>\n",
       "      <th>shares_out</th>\n",
       "      <th>inst_own</th>\n",
       "      <th>mark_cap</th>\n",
       "    </tr>\n",
       "  </thead>\n",
       "  <tbody>\n",
       "    <tr>\n",
       "      <th>0</th>\n",
       "      <td>1</td>\n",
       "      <td>AAL</td>\n",
       "      <td>http://www.cnbc.com/quotes/?symbol=AAL</td>\n",
       "      <td>American Airlines Group Inc. is a holding comp...</td>\n",
       "      <td>American Airlines Group Inc. is a holding comp...</td>\n",
       "      <td>William Douglas Parker</td>\n",
       "      <td>4333 Amon Carter Blvd, Fort Worth, Texas, Unit...</td>\n",
       "      <td>460.5M</td>\n",
       "      <td>81.86%</td>\n",
       "      <td>14.2B</td>\n",
       "    </tr>\n",
       "    <tr>\n",
       "      <th>1</th>\n",
       "      <td>2</td>\n",
       "      <td>COST</td>\n",
       "      <td>http://www.cnbc.com/quotes/?symbol=COST</td>\n",
       "      <td>Costco Wholesale Corporation is engaged in the...</td>\n",
       "      <td>Costco Wholesale Corporation is engaged in the...</td>\n",
       "      <td>W. Craig Jelinek</td>\n",
       "      <td>999 Lake Dr, Issaquah, Washington, United Stat...</td>\n",
       "      <td>438.2M</td>\n",
       "      <td>73.61%</td>\n",
       "      <td>99.4B</td>\n",
       "    </tr>\n",
       "    <tr>\n",
       "      <th>2</th>\n",
       "      <td>3</td>\n",
       "      <td>CTSH</td>\n",
       "      <td>http://www.cnbc.com/quotes/?symbol=CTSH</td>\n",
       "      <td>Cognizant Technology Solutions Corporation is ...</td>\n",
       "      <td>Cognizant Technology Solutions Corporation is ...</td>\n",
       "      <td>Francisco D'Souza</td>\n",
       "      <td>500 Frank W Burr Blvd, Teaneck, New Jersey, Un...</td>\n",
       "      <td>580.0M</td>\n",
       "      <td>92.36%</td>\n",
       "      <td>41.9B</td>\n",
       "    </tr>\n",
       "    <tr>\n",
       "      <th>3</th>\n",
       "      <td>4</td>\n",
       "      <td>EBAY</td>\n",
       "      <td>http://www.cnbc.com/quotes/?symbol=EBAY</td>\n",
       "      <td>eBay Inc. (eBay) is a commerce company, which ...</td>\n",
       "      <td>eBay Inc. (eBay) is a commerce company, which ...</td>\n",
       "      <td>Devin Norse Wenig</td>\n",
       "      <td>2025 Hamilton Ave, San Jose, California, Unite...</td>\n",
       "      <td>989.5M</td>\n",
       "      <td>87.23%</td>\n",
       "      <td>31.4B</td>\n",
       "    </tr>\n",
       "    <tr>\n",
       "      <th>4</th>\n",
       "      <td>5</td>\n",
       "      <td>EA</td>\n",
       "      <td>http://www.cnbc.com/quotes/?symbol=EA</td>\n",
       "      <td>Electronic Arts Inc. develops, markets, publis...</td>\n",
       "      <td>Electronic Arts Inc. develops, markets, publis...</td>\n",
       "      <td>Andrew Wilson</td>\n",
       "      <td>209 Redwood Shores Pkwy, Redwood City, Califor...</td>\n",
       "      <td>304.8M</td>\n",
       "      <td>97.69%</td>\n",
       "      <td>32.3B</td>\n",
       "    </tr>\n",
       "  </tbody>\n",
       "</table>\n",
       "</div>"
      ],
      "text/plain": [
       "   id symbol                                      url  \\\n",
       "0   1    AAL   http://www.cnbc.com/quotes/?symbol=AAL   \n",
       "1   2   COST  http://www.cnbc.com/quotes/?symbol=COST   \n",
       "2   3   CTSH  http://www.cnbc.com/quotes/?symbol=CTSH   \n",
       "3   4   EBAY  http://www.cnbc.com/quotes/?symbol=EBAY   \n",
       "4   5     EA    http://www.cnbc.com/quotes/?symbol=EA   \n",
       "\n",
       "                                           descShort  \\\n",
       "0  American Airlines Group Inc. is a holding comp...   \n",
       "1  Costco Wholesale Corporation is engaged in the...   \n",
       "2  Cognizant Technology Solutions Corporation is ...   \n",
       "3  eBay Inc. (eBay) is a commerce company, which ...   \n",
       "4  Electronic Arts Inc. develops, markets, publis...   \n",
       "\n",
       "                                            descLong                     CEO  \\\n",
       "0  American Airlines Group Inc. is a holding comp...  William Douglas Parker   \n",
       "1  Costco Wholesale Corporation is engaged in the...        W. Craig Jelinek   \n",
       "2  Cognizant Technology Solutions Corporation is ...       Francisco D'Souza   \n",
       "3  eBay Inc. (eBay) is a commerce company, which ...       Devin Norse Wenig   \n",
       "4  Electronic Arts Inc. develops, markets, publis...           Andrew Wilson   \n",
       "\n",
       "                                             address shares_out inst_own  \\\n",
       "0  4333 Amon Carter Blvd, Fort Worth, Texas, Unit...     460.5M   81.86%   \n",
       "1  999 Lake Dr, Issaquah, Washington, United Stat...     438.2M   73.61%   \n",
       "2  500 Frank W Burr Blvd, Teaneck, New Jersey, Un...     580.0M   92.36%   \n",
       "3  2025 Hamilton Ave, San Jose, California, Unite...     989.5M   87.23%   \n",
       "4  209 Redwood Shores Pkwy, Redwood City, Califor...     304.8M   97.69%   \n",
       "\n",
       "  mark_cap  \n",
       "0    14.2B  \n",
       "1    99.4B  \n",
       "2    41.9B  \n",
       "3    31.4B  \n",
       "4    32.3B  "
      ]
     },
     "execution_count": 4,
     "metadata": {},
     "output_type": "execute_result"
    }
   ],
   "source": [
    "df_allnd100list.head()"
   ]
  },
  {
   "cell_type": "code",
   "execution_count": 5,
   "metadata": {
    "collapsed": true
   },
   "outputs": [],
   "source": [
    "def conv_str_TB(str):  #[round(float(i), 2) for i in mylist]\n",
    "    if str[-1] == 'T':\n",
    "        return round(float(str[:-1])*1000, 3)\n",
    "    else:\n",
    "        return round(float(str[:-1]), 3)\n",
    "\n",
    "def conv_str_BM(str):  #[round(float(i), 2) for i in mylist]\n",
    "    if str[-1] == 'B':\n",
    "        return round(float(str[:-1])*1000, 3)\n",
    "    else:\n",
    "        return round(float(str[:-1]), 3)"
   ]
  },
  {
   "cell_type": "code",
   "execution_count": 6,
   "metadata": {
    "collapsed": false
   },
   "outputs": [],
   "source": [
    "df_allnd100list['mark_cap'] = df_allnd100list['mark_cap'].apply(conv_str_TB)\n",
    "df_allnd100list['shares_out'] = df_allnd100list['shares_out'].apply(conv_str_BM)\n",
    "df_allnd100list['inst_own'] = df_allnd100list['inst_own'].apply(lambda x: round(float((x[:-1]))/100,4))"
   ]
  },
  {
   "cell_type": "code",
   "execution_count": 7,
   "metadata": {
    "collapsed": false
   },
   "outputs": [
    {
     "data": {
      "text/html": [
       "<div>\n",
       "<table border=\"1\" class=\"dataframe\">\n",
       "  <thead>\n",
       "    <tr style=\"text-align: right;\">\n",
       "      <th></th>\n",
       "      <th>id</th>\n",
       "      <th>symbol</th>\n",
       "      <th>url</th>\n",
       "      <th>descShort</th>\n",
       "      <th>descLong</th>\n",
       "      <th>CEO</th>\n",
       "      <th>address</th>\n",
       "      <th>shares_out</th>\n",
       "      <th>inst_own</th>\n",
       "      <th>mark_cap</th>\n",
       "    </tr>\n",
       "  </thead>\n",
       "  <tbody>\n",
       "    <tr>\n",
       "      <th>0</th>\n",
       "      <td>1</td>\n",
       "      <td>AAL</td>\n",
       "      <td>http://www.cnbc.com/quotes/?symbol=AAL</td>\n",
       "      <td>American Airlines Group Inc. is a holding comp...</td>\n",
       "      <td>American Airlines Group Inc. is a holding comp...</td>\n",
       "      <td>William Douglas Parker</td>\n",
       "      <td>4333 Amon Carter Blvd, Fort Worth, Texas, Unit...</td>\n",
       "      <td>460.5</td>\n",
       "      <td>0.8186</td>\n",
       "      <td>14.2</td>\n",
       "    </tr>\n",
       "    <tr>\n",
       "      <th>1</th>\n",
       "      <td>2</td>\n",
       "      <td>COST</td>\n",
       "      <td>http://www.cnbc.com/quotes/?symbol=COST</td>\n",
       "      <td>Costco Wholesale Corporation is engaged in the...</td>\n",
       "      <td>Costco Wholesale Corporation is engaged in the...</td>\n",
       "      <td>W. Craig Jelinek</td>\n",
       "      <td>999 Lake Dr, Issaquah, Washington, United Stat...</td>\n",
       "      <td>438.2</td>\n",
       "      <td>0.7361</td>\n",
       "      <td>99.4</td>\n",
       "    </tr>\n",
       "    <tr>\n",
       "      <th>2</th>\n",
       "      <td>3</td>\n",
       "      <td>CTSH</td>\n",
       "      <td>http://www.cnbc.com/quotes/?symbol=CTSH</td>\n",
       "      <td>Cognizant Technology Solutions Corporation is ...</td>\n",
       "      <td>Cognizant Technology Solutions Corporation is ...</td>\n",
       "      <td>Francisco D'Souza</td>\n",
       "      <td>500 Frank W Burr Blvd, Teaneck, New Jersey, Un...</td>\n",
       "      <td>580.0</td>\n",
       "      <td>0.9236</td>\n",
       "      <td>41.9</td>\n",
       "    </tr>\n",
       "    <tr>\n",
       "      <th>3</th>\n",
       "      <td>4</td>\n",
       "      <td>EBAY</td>\n",
       "      <td>http://www.cnbc.com/quotes/?symbol=EBAY</td>\n",
       "      <td>eBay Inc. (eBay) is a commerce company, which ...</td>\n",
       "      <td>eBay Inc. (eBay) is a commerce company, which ...</td>\n",
       "      <td>Devin Norse Wenig</td>\n",
       "      <td>2025 Hamilton Ave, San Jose, California, Unite...</td>\n",
       "      <td>989.5</td>\n",
       "      <td>0.8723</td>\n",
       "      <td>31.4</td>\n",
       "    </tr>\n",
       "    <tr>\n",
       "      <th>4</th>\n",
       "      <td>5</td>\n",
       "      <td>EA</td>\n",
       "      <td>http://www.cnbc.com/quotes/?symbol=EA</td>\n",
       "      <td>Electronic Arts Inc. develops, markets, publis...</td>\n",
       "      <td>Electronic Arts Inc. develops, markets, publis...</td>\n",
       "      <td>Andrew Wilson</td>\n",
       "      <td>209 Redwood Shores Pkwy, Redwood City, Califor...</td>\n",
       "      <td>304.8</td>\n",
       "      <td>0.9769</td>\n",
       "      <td>32.3</td>\n",
       "    </tr>\n",
       "  </tbody>\n",
       "</table>\n",
       "</div>"
      ],
      "text/plain": [
       "   id symbol                                      url  \\\n",
       "0   1    AAL   http://www.cnbc.com/quotes/?symbol=AAL   \n",
       "1   2   COST  http://www.cnbc.com/quotes/?symbol=COST   \n",
       "2   3   CTSH  http://www.cnbc.com/quotes/?symbol=CTSH   \n",
       "3   4   EBAY  http://www.cnbc.com/quotes/?symbol=EBAY   \n",
       "4   5     EA    http://www.cnbc.com/quotes/?symbol=EA   \n",
       "\n",
       "                                           descShort  \\\n",
       "0  American Airlines Group Inc. is a holding comp...   \n",
       "1  Costco Wholesale Corporation is engaged in the...   \n",
       "2  Cognizant Technology Solutions Corporation is ...   \n",
       "3  eBay Inc. (eBay) is a commerce company, which ...   \n",
       "4  Electronic Arts Inc. develops, markets, publis...   \n",
       "\n",
       "                                            descLong                     CEO  \\\n",
       "0  American Airlines Group Inc. is a holding comp...  William Douglas Parker   \n",
       "1  Costco Wholesale Corporation is engaged in the...        W. Craig Jelinek   \n",
       "2  Cognizant Technology Solutions Corporation is ...       Francisco D'Souza   \n",
       "3  eBay Inc. (eBay) is a commerce company, which ...       Devin Norse Wenig   \n",
       "4  Electronic Arts Inc. develops, markets, publis...           Andrew Wilson   \n",
       "\n",
       "                                             address  shares_out  inst_own  \\\n",
       "0  4333 Amon Carter Blvd, Fort Worth, Texas, Unit...       460.5    0.8186   \n",
       "1  999 Lake Dr, Issaquah, Washington, United Stat...       438.2    0.7361   \n",
       "2  500 Frank W Burr Blvd, Teaneck, New Jersey, Un...       580.0    0.9236   \n",
       "3  2025 Hamilton Ave, San Jose, California, Unite...       989.5    0.8723   \n",
       "4  209 Redwood Shores Pkwy, Redwood City, Califor...       304.8    0.9769   \n",
       "\n",
       "   mark_cap  \n",
       "0      14.2  \n",
       "1      99.4  \n",
       "2      41.9  \n",
       "3      31.4  \n",
       "4      32.3  "
      ]
     },
     "execution_count": 7,
     "metadata": {},
     "output_type": "execute_result"
    }
   ],
   "source": [
    "df_allnd100list.head()"
   ]
  },
  {
   "cell_type": "code",
   "execution_count": 13,
   "metadata": {
    "collapsed": false
   },
   "outputs": [],
   "source": [
    "df_allnd100list.rename(index=str, columns={\"shares_out\": \"shares_out(million)\", \"mark_cap\": \"mark_cap(billion)\"},inplace= True)"
   ]
  },
  {
   "cell_type": "code",
   "execution_count": 14,
   "metadata": {
    "collapsed": false
   },
   "outputs": [],
   "source": [
    "#df_allnd100list.ix[df_allnd100list['mark_cap'].idxmax()]"
   ]
  },
  {
   "cell_type": "code",
   "execution_count": 15,
   "metadata": {
    "collapsed": false
   },
   "outputs": [],
   "source": [
    "#df_allnd100list.ix[df_allnd100list['symbol']=='AAPL']"
   ]
  },
  {
   "cell_type": "code",
   "execution_count": 16,
   "metadata": {
    "collapsed": false
   },
   "outputs": [],
   "source": [
    "#df_allnd100list.ix[df_allnd100list['shares_out'].idxmax()]"
   ]
  },
  {
   "cell_type": "code",
   "execution_count": 17,
   "metadata": {
    "collapsed": true
   },
   "outputs": [],
   "source": [
    "df_allnd100list.to_csv('./csv/list.csv',encoding='utf-8',index=False)"
   ]
  },
  {
   "cell_type": "code",
   "execution_count": null,
   "metadata": {
    "collapsed": true
   },
   "outputs": [],
   "source": []
  }
 ],
 "metadata": {
  "kernelspec": {
   "display_name": "Python 3",
   "language": "python",
   "name": "python3"
  },
  "language_info": {
   "codemirror_mode": {
    "name": "ipython",
    "version": 3
   },
   "file_extension": ".py",
   "mimetype": "text/x-python",
   "name": "python",
   "nbconvert_exporter": "python",
   "pygments_lexer": "ipython3",
   "version": "3.5.4"
  }
 },
 "nbformat": 4,
 "nbformat_minor": 0
}
