{
 "cells": [
  {
   "cell_type": "code",
   "execution_count": 1,
   "metadata": {
    "collapsed": false
   },
   "outputs": [],
   "source": [
    "import numpy as np\n",
    "import matplotlib.pyplot as plt\n",
    "%matplotlib inline\n",
    "import pandas as pd\n",
    "#import mysql.connector\n",
    "import plotly\n",
    "import plotly.plotly as py #library https://plot.ly/pandas/\n",
    "import plotly.graph_objs as go\n",
    "#NASAQ 3 Year NIGR>25, preIPO 招股说明书上市前两年净收入。分析数字背后的故事，看懂数字背后的金融来去，包括投资到未来有成长空间的。软件和电商类优先。\n",
    "plotly.tools.set_credentials_file(username='zhenxu66', api_key='yZ5rrla4FGut06wbewMo')"
   ]
  },
  {
   "cell_type": "code",
   "execution_count": 2,
   "metadata": {
    "collapsed": false
   },
   "outputs": [],
   "source": [
    "df_allndlist= pd.read_csv('./csv/list_nd_all.csv')"
   ]
  },
  {
   "cell_type": "code",
   "execution_count": 3,
   "metadata": {
    "collapsed": false
   },
   "outputs": [
    {
     "data": {
      "text/html": [
       "<div>\n",
       "<style scoped>\n",
       "    .dataframe tbody tr th:only-of-type {\n",
       "        vertical-align: middle;\n",
       "    }\n",
       "\n",
       "    .dataframe tbody tr th {\n",
       "        vertical-align: top;\n",
       "    }\n",
       "\n",
       "    .dataframe thead th {\n",
       "        text-align: right;\n",
       "    }\n",
       "</style>\n",
       "<table border=\"1\" class=\"dataframe\">\n",
       "  <thead>\n",
       "    <tr style=\"text-align: right;\">\n",
       "      <th></th>\n",
       "      <th>id</th>\n",
       "      <th>symbol</th>\n",
       "      <th>name</th>\n",
       "      <th>sector</th>\n",
       "      <th>industry</th>\n",
       "      <th>country</th>\n",
       "      <th>board</th>\n",
       "      <th>prof_margin</th>\n",
       "      <th>ppe</th>\n",
       "      <th>vol</th>\n",
       "      <th>descShort</th>\n",
       "      <th>url_reuter</th>\n",
       "      <th>url_marketwatch</th>\n",
       "      <th>ipo_year</th>\n",
       "      <th>2014-2013</th>\n",
       "      <th>2015-2014</th>\n",
       "      <th>2016-2015</th>\n",
       "      <th>2017-2016</th>\n",
       "    </tr>\n",
       "  </thead>\n",
       "  <tbody>\n",
       "    <tr>\n",
       "      <th>0</th>\n",
       "      <td>1</td>\n",
       "      <td>PIH</td>\n",
       "      <td>1347 Property Insurance Holdings, Inc.</td>\n",
       "      <td>Financial</td>\n",
       "      <td>Property &amp; Casualty Insurance</td>\n",
       "      <td>USA</td>\n",
       "      <td>[NASD]</td>\n",
       "      <td>0.420</td>\n",
       "      <td>23.09</td>\n",
       "      <td>4501.0</td>\n",
       "      <td>1347 Property Insurance Holdings, Inc., throug...</td>\n",
       "      <td>http://www.reuters.com/finance/stocks/financia...</td>\n",
       "      <td>https://www.marketwatch.com/investing/stock/PI...</td>\n",
       "      <td>2014</td>\n",
       "      <td>0.0000</td>\n",
       "      <td>-1.5318</td>\n",
       "      <td>1.0066</td>\n",
       "      <td>25.7273</td>\n",
       "    </tr>\n",
       "    <tr>\n",
       "      <th>1</th>\n",
       "      <td>2</td>\n",
       "      <td>VNET</td>\n",
       "      <td>21Vianet Group, Inc.</td>\n",
       "      <td>Technology</td>\n",
       "      <td>Information Technology Services</td>\n",
       "      <td>China</td>\n",
       "      <td>[NASD]</td>\n",
       "      <td>-0.167</td>\n",
       "      <td>0.00</td>\n",
       "      <td>216347.0</td>\n",
       "      <td>21Vianet Group, Inc. provides carrier-neutral ...</td>\n",
       "      <td>http://www.reuters.com/finance/stocks/financia...</td>\n",
       "      <td>https://www.marketwatch.com/investing/stock/VN...</td>\n",
       "      <td>2011</td>\n",
       "      <td>-6.1918</td>\n",
       "      <td>-0.2055</td>\n",
       "      <td>-0.3980</td>\n",
       "      <td>-0.4219</td>\n",
       "    </tr>\n",
       "  </tbody>\n",
       "</table>\n",
       "</div>"
      ],
      "text/plain": [
       "   id symbol                                    name      sector  \\\n",
       "0   1    PIH  1347 Property Insurance Holdings, Inc.   Financial   \n",
       "1   2   VNET                    21Vianet Group, Inc.  Technology   \n",
       "\n",
       "                          industry country   board  prof_margin    ppe  \\\n",
       "0    Property & Casualty Insurance     USA  [NASD]        0.420  23.09   \n",
       "1  Information Technology Services   China  [NASD]       -0.167   0.00   \n",
       "\n",
       "        vol                                          descShort  \\\n",
       "0    4501.0  1347 Property Insurance Holdings, Inc., throug...   \n",
       "1  216347.0  21Vianet Group, Inc. provides carrier-neutral ...   \n",
       "\n",
       "                                          url_reuter  \\\n",
       "0  http://www.reuters.com/finance/stocks/financia...   \n",
       "1  http://www.reuters.com/finance/stocks/financia...   \n",
       "\n",
       "                                     url_marketwatch  ipo_year  2014-2013  \\\n",
       "0  https://www.marketwatch.com/investing/stock/PI...      2014     0.0000   \n",
       "1  https://www.marketwatch.com/investing/stock/VN...      2011    -6.1918   \n",
       "\n",
       "   2015-2014  2016-2015  2017-2016  \n",
       "0    -1.5318     1.0066    25.7273  \n",
       "1    -0.2055    -0.3980    -0.4219  "
      ]
     },
     "execution_count": 3,
     "metadata": {},
     "output_type": "execute_result"
    }
   ],
   "source": [
    "df_allndlist.head(2)"
   ]
  },
  {
   "cell_type": "code",
   "execution_count": 4,
   "metadata": {
    "collapsed": false
   },
   "outputs": [
    {
     "name": "stdout",
     "output_type": "stream",
     "text": [
      "Total stocks that satisfy four year continous NIGR>25%:52 out of 890 total nasdaq stock that IPO before 2014\n",
      "\n",
      "['Adobe Inc.', 'Weibo Corporation', 'U.S. Auto Parts Network, Inc.', 'Truett-Hurst, Inc.', 'Tristate Capital Holdings, Inc.', 'Tecogen Inc.', 'Take-Two Interactive Software, Inc.', 'Spark Energy, Inc.', 'Shutterfly, Inc.', 'Schnitzer Steel Industries, Inc.', 'Regeneron Pharmaceuticals, Inc.', 'Qualstar Corporation', 'PRGX Global, Inc.', 'Penn National Gaming, Inc.', 'Paylocity Holding Corporation', 'Orthofix Medical Inc.', 'NV5 Global, Inc.', 'Momo Inc.', 'Mercury Systems, Inc.', 'Melrose Bancorp, Inc.', 'Medidata Solutions, Inc.', 'LGI Homes, Inc.', 'LeMaitre Vascular, Inc.', 'Lantronix, Inc.', 'Landmark Infrastructure Partners LP', 'Lam Research Corporation', 'Itron, Inc.', 'Independent Bank Group, Inc.', 'Image Sensing Systems, Inc.', 'Huazhu Group Limited', 'Hologic, Inc.', 'Heritage-Crystal Clean, Inc', 'HealthEquity, Inc.', 'Health Insurance Innovations, Inc.', 'Gibraltar Industries, Inc.', 'Facebook, Inc.', 'Exelixis, Inc.', 'Energy Recovery, Inc.', 'Emmis Communications Corporation', 'Del Taco Restaurants, Inc.', \"Dave & Buster's Entertainment, Inc.\", 'Cutera, Inc.', 'Cross Country Healthcare, Inc.', 'Corcept Therapeutics Incorporated', 'Coherus BioSciences, Inc.', 'Central Garden & Pet Company', 'Beasley Broadcast Group, Inc.', 'athenahealth, Inc.', 'Applied Optoelectronics, Inc.', 'Amedica Corporation', 'Amazon.com, Inc.', 'AeroVironment, Inc.']\n",
      "['ADBE', 'WB', 'PRTS', 'THST', 'TSC', 'TGEN', 'TTWO', 'SPKE', 'SFLY', 'SCHN', 'REGN', 'QBAK', 'PRGX', 'PENN', 'PCTY', 'OFIX', 'NVEE', 'MOMO', 'MRCY', 'MELR', 'MDSO', 'LGIH', 'LMAT', 'LTRX', 'LMRK', 'LRCX', 'ITRI', 'IBTX', 'ISNS', 'HTHT', 'HOLX', 'HCCI', 'HQY', 'HIIQ', 'ROCK', 'FB', 'EXEL', 'ERII', 'EMMS', 'TACO', 'PLAY', 'CUTR', 'CCRN', 'CORT', 'CHRS', 'CENT', 'BBGI', 'ATHN', 'AAOI', 'AMDA', 'AMZN', 'AVAV']\n"
     ]
    }
   ],
   "source": [
    "df_allndlist_25 = df_allndlist[(df_allndlist['2015-2014']>0.25)\n",
    "                                     & (df_allndlist['2016-2015']>0.25) & (df_allndlist['2017-2016']>0.25)]\n",
    "print('Total stocks that satisfy four year continous NIGR>25%:'+str(len(df_allndlist_25))+ ' out of '\n",
    "      +str(len(df_allndlist))+ ' total nasdaq stock that IPO before 2014'+'\\n' )\n",
    "if len(df_allndlist_25)<10:\n",
    "    print(df_allndlist_25)\n",
    "else:\n",
    "    print(df_allndlist_25.name.tolist())\n",
    "    print(df_allndlist_25.symbol.tolist())"
   ]
  },
  {
   "cell_type": "code",
   "execution_count": 6,
   "metadata": {
    "collapsed": false
   },
   "outputs": [],
   "source": [
    "\n",
    "fig = {\n",
    "    'data': [\n",
    "        {\n",
    "            'x': df_allndlist_25['ppe'], \n",
    "            'y': df_allndlist_25['vol'], \n",
    "            'text': df_allndlist_25.symbol + ' name:'+ df_allndlist_25.name+' industry:'+ df_allndlist_25.industry,  #cannot access columns with '' '' \n",
    "            'mode': 'markers', #+text\n",
    "            'marker':dict(\n",
    "                size= 8, #30*df_allnd100list['inst_own'],\n",
    "                color = df_allndlist_25['prof_margin'], #set color equal to a variable\n",
    "                colorscale='Viridis',\n",
    "                showscale=True\n",
    "            ),\n",
    "            'name': 'Results'},      \n",
    "\n",
    "    ],\n",
    "    'layout': {\n",
    "        'title': 'market_volumn compared with price per earnings and profit_margin (%)',\n",
    "        'xaxis': {'title': 'price per earnings','autorange':True,'type': 'log'},\n",
    "        'yaxis': {'title': \"mark_volumn\",'autorange':True,'type': 'log'},\n",
    "        'showlegend': True,\n",
    "        'annotations':[ #not working\n",
    "            dict(\n",
    "                x=1100,#df_allnd100list[df_allnd100list.symbol=='AAPL']['mark_cap(billion)'].item(),\n",
    "                y=4800,#df_allnd100list[df_allnd100list.symbol=='AAPL']['shares_out(million)'].item(),\n",
    "                xref='x',\n",
    "                yref='y',\n",
    "                text='dict Text is here',\n",
    "                showarrow=True,\n",
    "                arrowhead=7,\n",
    "                ax=0,\n",
    "                ay=-40\n",
    "            ),\n",
    "        ]\n",
    "    }\n",
    "}"
   ]
  },
  {
   "cell_type": "code",
   "execution_count": 7,
   "metadata": {
    "collapsed": false
   },
   "outputs": [
    {
     "data": {
      "text/html": [
       "<iframe id=\"igraph\" scrolling=\"no\" style=\"border:none;\" seamless=\"seamless\" src=\"https://plot.ly/~zhenxu66/8.embed\" height=\"525px\" width=\"100%\"></iframe>"
      ],
      "text/plain": [
       "<plotly.tools.PlotlyDisplay object>"
      ]
     },
     "execution_count": 7,
     "metadata": {},
     "output_type": "execute_result"
    }
   ],
   "source": [
    "py.iplot(fig, filename='scatter')  #py.plot will generate a webpage"
   ]
  },
  {
   "cell_type": "code",
   "execution_count": 8,
   "metadata": {
    "collapsed": false
   },
   "outputs": [
    {
     "data": {
      "text/html": [
       "<iframe id=\"igraph\" scrolling=\"no\" style=\"border:none;\" seamless=\"seamless\" src=\"https://plot.ly/~zhenxu66/15.embed\" height=\"525px\" width=\"100%\"></iframe>"
      ],
      "text/plain": [
       "<plotly.tools.PlotlyDisplay object>"
      ]
     },
     "execution_count": 8,
     "metadata": {},
     "output_type": "execute_result"
    }
   ],
   "source": [
    "data_ipo = [go.Histogram(\n",
    "        x=df_allndlist['ipo_year'])\n",
    "           ]\n",
    "\n",
    "layout = go.Layout(\n",
    "    title='IPO year hist Results',\n",
    "    xaxis=dict(\n",
    "        title='IPO year'\n",
    "    ),\n",
    "    yaxis=dict(\n",
    "        title='Count'\n",
    "    ),\n",
    "    bargap=0.2\n",
    "\n",
    ")\n",
    "fig = go.Figure(data=data_ipo, layout=layout)\n",
    "py.iplot(fig, filename='styled histogram')"
   ]
  },
  {
   "cell_type": "code",
   "execution_count": 9,
   "metadata": {
    "collapsed": false
   },
   "outputs": [
    {
     "data": {
      "text/html": [
       "<iframe id=\"igraph\" scrolling=\"no\" style=\"border:none;\" seamless=\"seamless\" src=\"https://plot.ly/~zhenxu66/15.embed\" height=\"2000px\" width=\"1000px\"></iframe>"
      ],
      "text/plain": [
       "<plotly.tools.PlotlyDisplay object>"
      ]
     },
     "execution_count": 9,
     "metadata": {},
     "output_type": "execute_result"
    }
   ],
   "source": [
    "data_industry = [go.Histogram(\n",
    "        y=df_allndlist['industry'])\n",
    "           ]\n",
    "\n",
    "layout = go.Layout(\n",
    "    title='industry hist Results',\n",
    "    xaxis=dict(\n",
    "        title='Count',\n",
    "        type ='log'\n",
    "    ),\n",
    "    yaxis=dict(\n",
    "        title='industry',\n",
    "        automargin=True\n",
    "    ),\n",
    "    bargap=0.2,\n",
    "    autosize=False,\n",
    "    width=1000,\n",
    "    height=2000,\n",
    "    margin=go.layout.Margin(\n",
    "        l=50,\n",
    "        r=50,\n",
    "        b=100,\n",
    "        t=100,\n",
    "        pad=4\n",
    "    ),\n",
    "\n",
    ")\n",
    "fig = go.Figure(data=data_industry, layout=layout)\n",
    "py.iplot(fig, filename='styled histogram')"
   ]
  },
  {
   "cell_type": "code",
   "execution_count": 10,
   "metadata": {
    "collapsed": false
   },
   "outputs": [
    {
     "data": {
      "text/html": [
       "<iframe id=\"igraph\" scrolling=\"no\" style=\"border:none;\" seamless=\"seamless\" src=\"https://plot.ly/~zhenxu66/15.embed\" height=\"525px\" width=\"100%\"></iframe>"
      ],
      "text/plain": [
       "<plotly.tools.PlotlyDisplay object>"
      ]
     },
     "execution_count": 10,
     "metadata": {},
     "output_type": "execute_result"
    }
   ],
   "source": [
    "data_sector = [go.Histogram(\n",
    "        x=df_allndlist['sector'],\n",
    "        name='all',\n",
    "        marker=dict(\n",
    "            color='#FFD7E9',\n",
    "        ),\n",
    "        opacity=0.75\n",
    "    ),\n",
    "               go.Histogram(\n",
    "        x=df_allndlist_25['sector'],\n",
    "        name='NIGR>25',\n",
    "        marker=dict(\n",
    "            color='#EB89B5',\n",
    "        ),\n",
    "        opacity=0.75\n",
    "    ),\n",
    "           ]\n",
    "\n",
    "layout = go.Layout(\n",
    "    title='Sector hist Results',\n",
    "    xaxis=dict(\n",
    "        title='Sector',\n",
    "    ),\n",
    "    yaxis=dict(\n",
    "        title='Count',\n",
    "        automargin=True\n",
    "    ),\n",
    "    bargap=0.2,\n",
    "    bargroupgap=0.1,\n",
    "    autosize=True\n",
    "\n",
    ")\n",
    "fig = go.Figure(data=data_sector, layout=layout)\n",
    "py.iplot(fig, filename='styled histogram')"
   ]
  },
  {
   "cell_type": "code",
   "execution_count": 11,
   "metadata": {
    "collapsed": true
   },
   "outputs": [],
   "source": [
    "df_sector = df_allndlist[df_allndlist['sector']=='Technology']"
   ]
  },
  {
   "cell_type": "code",
   "execution_count": 12,
   "metadata": {
    "collapsed": false
   },
   "outputs": [],
   "source": [
    "def industry_merge_company(industry):\n",
    "    df_sector_industry = df_sector[df_sector['industry']==industry]\n",
    "    return df_sector_industry['symbol'].str.cat(sep=',')\n",
    "\n",
    "value_counts = df_sector['industry'].value_counts()\n",
    "df_industry = value_counts.rename_axis('industry').reset_index(name='counts')\n",
    "df_industry['symbols'] = df_industry['industry'].apply(industry_merge_company)\n",
    "#print(df_industry)"
   ]
  },
  {
   "cell_type": "code",
   "execution_count": 13,
   "metadata": {
    "collapsed": false
   },
   "outputs": [
    {
     "data": {
      "text/html": [
       "<iframe id=\"igraph\" scrolling=\"no\" style=\"border:none;\" seamless=\"seamless\" src=\"https://plot.ly/~zhenxu66/13.embed\" height=\"525px\" width=\"100%\"></iframe>"
      ],
      "text/plain": [
       "<plotly.tools.PlotlyDisplay object>"
      ]
     },
     "execution_count": 13,
     "metadata": {},
     "output_type": "execute_result"
    }
   ],
   "source": [
    "trace = go.Pie(labels=df_industry['industry'], values=df_industry['counts'], text = df_industry.symbols, textinfo='label+value')\n",
    "py.iplot([trace],filename='basic_pie_chart')"
   ]
  },
  {
   "cell_type": "code",
   "execution_count": 14,
   "metadata": {
    "collapsed": false
   },
   "outputs": [],
   "source": [
    "def plot_df_industry_symbols(df, sector):\n",
    "    df_sector = df[df['sector']==sector]\n",
    "    def industry_merge_company(industry):\n",
    "        df_sector_industry = df_sector[df_sector['industry']==industry]\n",
    "        return df_sector_industry['symbol'].str.cat(sep=',')\n",
    "    \n",
    "    value_counts = df_sector['industry'].value_counts()\n",
    "    df_industry = value_counts.rename_axis('industry').reset_index(name='counts')\n",
    "    df_industry['symbols'] = df_industry['industry'].apply(industry_merge_company)\n",
    "    trace = go.Pie(labels=df_industry['industry'], values=df_industry['counts'], text = df_industry.symbols, textinfo='label+value')\n",
    "    return trace\n",
    "\n",
    "def df_industry_symbols(df, sector):\n",
    "    df_sector = df[df['sector']==sector]\n",
    "    def industry_merge_company(industry):\n",
    "        df_sector_industry = df_sector[df_sector['industry']==industry]\n",
    "        return df_sector_industry['symbol'].str.cat(sep=',')\n",
    "    \n",
    "    value_counts = df_sector['industry'].value_counts()\n",
    "    df_industry = value_counts.rename_axis('industry').reset_index(name='counts')\n",
    "    df_industry['symbols'] = df_industry['industry'].apply(industry_merge_company)\n",
    "    return df_industry"
   ]
  },
  {
   "cell_type": "code",
   "execution_count": 15,
   "metadata": {
    "collapsed": false
   },
   "outputs": [
    {
     "data": {
      "text/html": [
       "<iframe id=\"igraph\" scrolling=\"no\" style=\"border:none;\" seamless=\"seamless\" src=\"https://plot.ly/~zhenxu66/13.embed\" height=\"525px\" width=\"100%\"></iframe>"
      ],
      "text/plain": [
       "<plotly.tools.PlotlyDisplay object>"
      ]
     },
     "execution_count": 15,
     "metadata": {},
     "output_type": "execute_result"
    }
   ],
   "source": [
    "trace_25 = plot_df_industry_symbols(df_allndlist,'Technology')\n",
    "py.iplot([trace_25],filename='basic_pie_chart')"
   ]
  },
  {
   "cell_type": "code",
   "execution_count": 16,
   "metadata": {
    "collapsed": false
   },
   "outputs": [],
   "source": [
    "#trace_all = plot_df_industry_symbols(df_allndlist,'Technology')\n",
    "#py.iplot([trace_all],filename='basic_pie_chart')"
   ]
  },
  {
   "cell_type": "code",
   "execution_count": 17,
   "metadata": {
    "collapsed": false
   },
   "outputs": [
    {
     "name": "stderr",
     "output_type": "stream",
     "text": [
      "C:\\Users\\zxu\\AppData\\Local\\Continuum\\Anaconda3\\lib\\site-packages\\plotly\\tools.py:1428: UserWarning:\n",
      "\n",
      "Looks like you used a newline character: '\\n'.\n",
      "\n",
      "Plotly uses a subset of HTML escape characters\n",
      "to do things like newline (<br>), bold (<b></b>),\n",
      "italics (<i></i>), etc. Your newline characters \n",
      "have been converted to '<br>' so they will show \n",
      "up right on your Plotly figure!\n",
      "\n"
     ]
    },
    {
     "data": {
      "text/html": [
       "<iframe id=\"igraph\" scrolling=\"no\" style=\"border:none;\" seamless=\"seamless\" src=\"https://plot.ly/~zhenxu66/17.embed\" height=\"525px\" width=\"100%\"></iframe>"
      ],
      "text/plain": [
       "<plotly.tools.PlotlyDisplay object>"
      ]
     },
     "execution_count": 17,
     "metadata": {},
     "output_type": "execute_result"
    }
   ],
   "source": [
    "#df_industry_symbols(df_allndlist_25,'Technology')\n",
    "#df_industry_symbols(df_allndlist,'Technology')\n",
    "#merge two plots together\n",
    "fig = {\n",
    "  \"data\": [\n",
    "    {\n",
    "      \"values\": df_industry_symbols(df_allndlist_25,'Technology')['counts'].tolist(),\n",
    "      \"labels\": df_industry_symbols(df_allndlist_25,'Technology')['industry'].tolist(),\n",
    "      \"text\":   df_industry_symbols(df_allndlist_25,'Technology').symbols.tolist(),\n",
    "      \"domain\": {\"x\": [0, .48]},\n",
    "      \"name\": \"NIRG >25%\",\n",
    "      \"hoverinfo\":\"label+percent+name+text\",\n",
    "      \"hole\": .4,\n",
    "      \"type\": \"pie\"\n",
    "    },\n",
    "    {\n",
    "      \"values\": df_industry_symbols(df_allndlist,'Technology')['counts'].tolist(),\n",
    "      \"labels\": df_industry_symbols(df_allndlist,'Technology')['industry'].tolist(),\n",
    "      \"text\":   df_industry_symbols(df_allndlist,'Technology').symbols.tolist(),\n",
    "      \"textposition\":\"none\",\n",
    "      \"domain\": {\"x\": [.52, 1]},\n",
    "      \"name\": \"All Nasdaq\",\n",
    "      \"hoverinfo\":\"label+percent+name+text\",\n",
    "      \"hole\": .4,\n",
    "      \"type\": \"pie\"\n",
    "    }],\n",
    "  \"layout\": {\n",
    "        \"title\":\"Technology Section Compare\",\n",
    "        \"annotations\": [\n",
    "            {\n",
    "                \"font\": {\n",
    "                    \"size\": 20\n",
    "                },\n",
    "                \"showarrow\": False,\n",
    "                \"text\": \"NIRG >25%\"+'\\n'+str(len(df_industry_symbols(df_allndlist_25,'Technology'))),\n",
    "                \"x\": 0.15,\n",
    "                \"y\": 0.5\n",
    "            },\n",
    "            {\n",
    "                \"font\": {\n",
    "                    \"size\": 20\n",
    "                },\n",
    "                \"showarrow\": False,\n",
    "                \"text\": \"All Nasdaq\"+'\\n'+str(len(df_industry_symbols(df_allndlist,'Technology'))),\n",
    "                \"x\": 0.85,\n",
    "                \"y\": 0.5\n",
    "            }\n",
    "        ]\n",
    "    }\n",
    "}\n",
    "py.iplot(fig, filename='donut')"
   ]
  },
  {
   "cell_type": "code",
   "execution_count": 18,
   "metadata": {
    "collapsed": true
   },
   "outputs": [],
   "source": [
    "def sector_plot(sector):\n",
    "    fig = {\n",
    "      \"data\": [\n",
    "        {\n",
    "          \"values\": df_industry_symbols(df_allndlist_25,sector)['counts'].tolist(),\n",
    "          \"labels\": df_industry_symbols(df_allndlist_25,sector)['industry'].tolist(),\n",
    "          \"text\":   df_industry_symbols(df_allndlist_25,sector).symbols.tolist(),\n",
    "          \"domain\": {\"x\": [0, .48]},\n",
    "          \"name\": \"NIRG >25%\",\n",
    "          \"hoverinfo\":\"label+percent+name+text\",\n",
    "          \"hole\": .4,\n",
    "          \"type\": \"pie\"\n",
    "        },\n",
    "        {\n",
    "          \"values\": df_industry_symbols(df_allndlist,sector)['counts'].tolist(),\n",
    "          \"labels\": df_industry_symbols(df_allndlist,sector)['industry'].tolist(),\n",
    "          \"text\":   df_industry_symbols(df_allndlist,sector).symbols.tolist(),\n",
    "          \"textposition\":\"none\",\n",
    "          \"domain\": {\"x\": [.52, 1]},\n",
    "          \"name\": \"All Nasdaq\",\n",
    "          \"hoverinfo\":\"label+percent+name+text\",\n",
    "          \"hole\": .4,\n",
    "          \"type\": \"pie\"\n",
    "        }],\n",
    "      \"layout\": {\n",
    "            \"title\":\"Technology Section Compare\",\n",
    "            \"annotations\": [\n",
    "                {\n",
    "                    \"font\": {\n",
    "                        \"size\": 20\n",
    "                    },\n",
    "                    \"showarrow\": False,\n",
    "                    \"text\": \"NIRG >25%\"+'\\n'+str(len(df_industry_symbols(df_allndlist_25,sector))),\n",
    "                    \"x\": 0.15,\n",
    "                    \"y\": 0.5\n",
    "                },\n",
    "                {\n",
    "                    \"font\": {\n",
    "                        \"size\": 20\n",
    "                    },\n",
    "                    \"showarrow\": False,\n",
    "                    \"text\": \"All Nasdaq\"+'\\n'+str(len(df_industry_symbols(df_allndlist,sector))),\n",
    "                    \"x\": 0.85,\n",
    "                    \"y\": 0.5\n",
    "                }\n",
    "            ]\n",
    "        }\n",
    "    }\n",
    "    return fig"
   ]
  },
  {
   "cell_type": "code",
   "execution_count": 20,
   "metadata": {
    "collapsed": false
   },
   "outputs": [
    {
     "name": "stdout",
     "output_type": "stream",
     "text": [
      "['Financial' 'Technology' 'Healthcare' 'Services' 'Industrial Goods'\n",
      " 'Basic Materials' 'Consumer Goods' 'Utilities' 'Conglomerates']\n"
     ]
    }
   ],
   "source": [
    "print(df_allndlist.sector.unique())"
   ]
  },
  {
   "cell_type": "code",
   "execution_count": 24,
   "metadata": {
    "collapsed": false
   },
   "outputs": [
    {
     "name": "stderr",
     "output_type": "stream",
     "text": [
      "C:\\Users\\zxu\\AppData\\Local\\Continuum\\Anaconda3\\lib\\site-packages\\plotly\\tools.py:1428: UserWarning:\n",
      "\n",
      "Looks like you used a newline character: '\\n'.\n",
      "\n",
      "Plotly uses a subset of HTML escape characters\n",
      "to do things like newline (<br>), bold (<b></b>),\n",
      "italics (<i></i>), etc. Your newline characters \n",
      "have been converted to '<br>' so they will show \n",
      "up right on your Plotly figure!\n",
      "\n"
     ]
    },
    {
     "data": {
      "text/html": [
       "<iframe id=\"igraph\" scrolling=\"no\" style=\"border:none;\" seamless=\"seamless\" src=\"https://plot.ly/~zhenxu66/17.embed\" height=\"525px\" width=\"100%\"></iframe>"
      ],
      "text/plain": [
       "<plotly.tools.PlotlyDisplay object>"
      ]
     },
     "execution_count": 24,
     "metadata": {},
     "output_type": "execute_result"
    }
   ],
   "source": [
    "py.iplot(sector_plot('Consumer Goods'), filename='donut')"
   ]
  },
  {
   "cell_type": "code",
   "execution_count": null,
   "metadata": {
    "collapsed": true
   },
   "outputs": [],
   "source": []
  }
 ],
 "metadata": {
  "kernelspec": {
   "display_name": "Python 3",
   "language": "python",
   "name": "python3"
  },
  "language_info": {
   "codemirror_mode": {
    "name": "ipython",
    "version": 3
   },
   "file_extension": ".py",
   "mimetype": "text/x-python",
   "name": "python",
   "nbconvert_exporter": "python",
   "pygments_lexer": "ipython3",
   "version": "3.5.4"
  }
 },
 "nbformat": 4,
 "nbformat_minor": 0
}
