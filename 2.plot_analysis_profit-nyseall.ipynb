{
 "cells": [
  {
   "cell_type": "code",
   "execution_count": 5,
   "metadata": {
    "collapsed": false
   },
   "outputs": [],
   "source": [
    "import numpy as np\n",
    "import matplotlib.pyplot as plt\n",
    "%matplotlib inline\n",
    "import pandas as pd\n",
    "#import mysql.connector\n",
    "import plotly\n",
    "import plotly.plotly as py #library https://plot.ly/pandas/\n",
    "import plotly.graph_objs as go\n",
    "#NASAQ 3 Year NIGR>25, preIPO 招股说明书上市前两年净收入。分析数字背后的故事，看懂数字背后的金融来去，包括投资到未来有成长空间的。软件和电商类优先。\n",
    "plotly.tools.set_credentials_file(username='zhenxu66', api_key='yZ5rrla4FGut06wbewMo')"
   ]
  },
  {
   "cell_type": "code",
   "execution_count": 6,
   "metadata": {
    "collapsed": false
   },
   "outputs": [],
   "source": [
    "df_allndlist= pd.read_csv('./csv/list_nyseall.csv')"
   ]
  },
  {
   "cell_type": "code",
   "execution_count": 7,
   "metadata": {
    "collapsed": false
   },
   "outputs": [
    {
     "data": {
      "text/html": [
       "<div>\n",
       "<style scoped>\n",
       "    .dataframe tbody tr th:only-of-type {\n",
       "        vertical-align: middle;\n",
       "    }\n",
       "\n",
       "    .dataframe tbody tr th {\n",
       "        vertical-align: top;\n",
       "    }\n",
       "\n",
       "    .dataframe thead th {\n",
       "        text-align: right;\n",
       "    }\n",
       "</style>\n",
       "<table border=\"1\" class=\"dataframe\">\n",
       "  <thead>\n",
       "    <tr style=\"text-align: right;\">\n",
       "      <th></th>\n",
       "      <th>id</th>\n",
       "      <th>symbol</th>\n",
       "      <th>name</th>\n",
       "      <th>sector</th>\n",
       "      <th>industry</th>\n",
       "      <th>country</th>\n",
       "      <th>board</th>\n",
       "      <th>prof_marginPCT</th>\n",
       "      <th>ppe</th>\n",
       "      <th>marketCapMillion</th>\n",
       "      <th>...</th>\n",
       "      <th>priceNow</th>\n",
       "      <th>recomm1buy5sell</th>\n",
       "      <th>SMA20PCT</th>\n",
       "      <th>SMA50PCT</th>\n",
       "      <th>SMA200PCT</th>\n",
       "      <th>relVolumn</th>\n",
       "      <th>2014to2013</th>\n",
       "      <th>2015to2014</th>\n",
       "      <th>2016to2015</th>\n",
       "      <th>2017to2016</th>\n",
       "    </tr>\n",
       "  </thead>\n",
       "  <tbody>\n",
       "    <tr>\n",
       "      <th>0</th>\n",
       "      <td>1</td>\n",
       "      <td>AWP</td>\n",
       "      <td>Alpine Global Premier Properties Fund</td>\n",
       "      <td>Financial</td>\n",
       "      <td>Closed-End Fund - Foreign</td>\n",
       "      <td>USA</td>\n",
       "      <td>[NYSE]</td>\n",
       "      <td>0.0</td>\n",
       "      <td>0.0</td>\n",
       "      <td>0.0</td>\n",
       "      <td>...</td>\n",
       "      <td>0.0554</td>\n",
       "      <td>0.0</td>\n",
       "      <td>0.0062</td>\n",
       "      <td>-0.0662</td>\n",
       "      <td>-0.1123</td>\n",
       "      <td>0.0072</td>\n",
       "      <td>0.0</td>\n",
       "      <td>0.0</td>\n",
       "      <td>0.0</td>\n",
       "      <td>0.0</td>\n",
       "    </tr>\n",
       "    <tr>\n",
       "      <th>1</th>\n",
       "      <td>2</td>\n",
       "      <td>AGD</td>\n",
       "      <td>Alpine Global Dynamic Dividend Fund</td>\n",
       "      <td>Financial</td>\n",
       "      <td>Closed-End Fund - Foreign</td>\n",
       "      <td>USA</td>\n",
       "      <td>[NYSE]</td>\n",
       "      <td>0.0</td>\n",
       "      <td>0.0</td>\n",
       "      <td>0.0</td>\n",
       "      <td>...</td>\n",
       "      <td>0.0939</td>\n",
       "      <td>0.0</td>\n",
       "      <td>-0.0079</td>\n",
       "      <td>-0.0606</td>\n",
       "      <td>-0.1043</td>\n",
       "      <td>0.0137</td>\n",
       "      <td>0.0</td>\n",
       "      <td>0.0</td>\n",
       "      <td>0.0</td>\n",
       "      <td>0.0</td>\n",
       "    </tr>\n",
       "  </tbody>\n",
       "</table>\n",
       "<p>2 rows × 41 columns</p>\n",
       "</div>"
      ],
      "text/plain": [
       "   id symbol                                   name     sector  \\\n",
       "0   1    AWP  Alpine Global Premier Properties Fund  Financial   \n",
       "1   2    AGD    Alpine Global Dynamic Dividend Fund  Financial   \n",
       "\n",
       "                    industry country   board  prof_marginPCT  ppe  \\\n",
       "0  Closed-End Fund - Foreign     USA  [NYSE]             0.0  0.0   \n",
       "1  Closed-End Fund - Foreign     USA  [NYSE]             0.0  0.0   \n",
       "\n",
       "   marketCapMillion     ...     priceNow recomm1buy5sell SMA20PCT  SMA50PCT  \\\n",
       "0               0.0     ...       0.0554             0.0   0.0062   -0.0662   \n",
       "1               0.0     ...       0.0939             0.0  -0.0079   -0.0606   \n",
       "\n",
       "  SMA200PCT  relVolumn  2014to2013  2015to2014  2016to2015  2017to2016  \n",
       "0   -0.1123     0.0072         0.0         0.0         0.0         0.0  \n",
       "1   -0.1043     0.0137         0.0         0.0         0.0         0.0  \n",
       "\n",
       "[2 rows x 41 columns]"
      ]
     },
     "execution_count": 7,
     "metadata": {},
     "output_type": "execute_result"
    }
   ],
   "source": [
    "df_allndlist.head(2)"
   ]
  },
  {
   "cell_type": "code",
   "execution_count": 8,
   "metadata": {
    "collapsed": false
   },
   "outputs": [
    {
     "name": "stdout",
     "output_type": "stream",
     "text": [
      "        id symbol                            name      sector  \\\n",
      "549    550    MPW  Medical Properties Trust, Inc.   Financial   \n",
      "1007  1008   CIEN               Ciena Corporation  Technology   \n",
      "\n",
      "                          industry country   board  prof_marginPCT    ppe  \\\n",
      "549   REIT - Healthcare Facilities     USA  [NYSE]           0.394  0.171   \n",
      "1007       Communication Equipment     USA  [NYSE]           0.256  0.051   \n",
      "\n",
      "      marketCapMillion     ...     priceNow recomm1buy5sell SMA20PCT  \\\n",
      "549             6020.0     ...       0.1633            0.03   0.1044   \n",
      "1007            4880.0     ...       0.3404            0.02   0.1210   \n",
      "\n",
      "      SMA50PCT SMA200PCT  relVolumn  2014to2013  2015to2014  2016to2015  \\\n",
      "549     0.1075    0.1895     0.0229     -0.4382      1.7920      0.6201   \n",
      "1007    0.1180    0.2833     0.0147      0.5243      1.2871      5.2213   \n",
      "\n",
      "      2017to2016  \n",
      "549       0.2846  \n",
      "1007     16.3861  \n",
      "\n",
      "[2 rows x 41 columns]\n"
     ]
    }
   ],
   "source": [
    "df_allndlist_good = df_allndlist[(df_allndlist['SMA20PCT']>0.1)\n",
    "                                     & (df_allndlist['SMA50PCT']>0.1) & (df_allndlist['SMA200PCT']>0.1)\n",
    "                                 & (df_allndlist['2015to2014']>0) & (df_allndlist['2016to2015']>0)\n",
    "                                & (df_allndlist['2017to2016']>0)]\n",
    "print(df_allndlist_good.sort_values(by=['SMA200PCT']))"
   ]
  },
  {
   "cell_type": "code",
   "execution_count": 9,
   "metadata": {
    "collapsed": false
   },
   "outputs": [
    {
     "name": "stdout",
     "output_type": "stream",
     "text": [
      "Total stocks that satisfy four year continous NIGR>25%:56 out of 1283 total nasdaq stock that IPO before 2014\n",
      "\n",
      "['ZTO Express (Cayman) Inc.', 'Western Alliance Bancorporation', 'WellCare Health Plans, Inc.', 'Walker & Dunlop, Inc.', 'Vivint Solar, Inc.', 'Veeva Systems Inc.', 'Vail Resorts, Inc.', 'US Foods Holding Corp.', 'TriNet Group, Inc.', 'TransUnion', 'Summit Materials, Inc.', 'Sprint Corporation', 'Sogou Inc.', 'Rosetta Stone Inc.', 'Rexford Industrial Realty, Inc.', 'ReneSola Ltd', 'Regis Corporation', 'Rayonier Advanced Materials Inc.', 'Post Holdings, Inc.', 'Physicians Realty Trust', 'Phillips 66 Partners LP', 'PennyMac Financial Services, Inc.', 'Paycom Software, Inc.', 'NexPoint Residential Trust, Inc.', 'Medical Properties Trust, Inc.', 'Mechel PAO', 'Martin Marietta Materials, Inc.', 'Mallinckrodt Public Limited Company', 'MagnaChip Semiconductor Corporation', 'Jupai Holdings Limited', 'Invesco Mortgage Capital Inc.', 'Grupo Supervielle S.A.', 'GrubHub Inc.', 'GoDaddy Inc.', 'GMS Inc.', 'Gates Industrial Corporation plc', 'Floor & Decor Holdings, Inc.', 'First Industrial Realty Trust, Inc.', 'FCB Financial Holdings, Inc.', 'Farmland Partners Inc.', 'Essent Group Ltd.', 'Ellie Mae, Inc.', 'Dominion Energy Midstream Partners, LP', 'CoreSite Realty Corporation', 'Ciena Corporation', 'Cherry Hill Mortgage Investment Corporation', 'Care.com, Inc.', 'Burlington Stores, Inc.', 'Black Knight, Inc.', 'Berry Global Group, Inc.', 'Atkore International Group Inc.', 'Arista Networks, Inc.', 'Arcos Dorados Holdings Inc.', 'Americold Realty Trust', 'Aluminum Corporation of China Limited', 'Advanced Drainage Systems, Inc.']\n",
      "['ZTO', 'WAL', 'WCG', 'WD', 'VSLR', 'VEEV', 'MTN', 'USFD', 'TNET', 'TRU', 'SUM', 'S', 'SOGO', 'RST', 'REXR', 'SOL', 'RGS', 'RYAM', 'POST', 'DOC', 'PSXP', 'PFSI', 'PAYC', 'NXRT', 'MPW', 'MTL', 'MLM', 'MNK', 'MX', 'JP', 'IVR', 'SUPV', 'GRUB', 'GDDY', 'GMS', 'GTES', 'FND', 'FR', 'FCB', 'FPI', 'ESNT', 'ELLI', 'DM', 'COR', 'CIEN', 'CHMI', 'CRCM', 'BURL', 'BKI', 'BERY', 'ATKR', 'ANET', 'ARCO', 'COLD', 'ACH', 'WMS']\n"
     ]
    }
   ],
   "source": [
    "df_allndlist_25 = df_allndlist[(df_allndlist['2015to2014']>0.25)\n",
    "                                     & (df_allndlist['2016to2015']>0.25) & (df_allndlist['2017to2016']>0.25)]\n",
    "print('Total stocks that satisfy four year continous NIGR>25%:'+str(len(df_allndlist_25))+ ' out of '\n",
    "      +str(len(df_allndlist))+ ' total nasdaq stock that IPO before 2014'+'\\n' )\n",
    "if len(df_allndlist_25)<10:\n",
    "    print(df_allndlist_25)\n",
    "else:\n",
    "    print(df_allndlist_25.name.tolist())\n",
    "    print(df_allndlist_25.symbol.tolist())"
   ]
  },
  {
   "cell_type": "code",
   "execution_count": 10,
   "metadata": {
    "collapsed": false
   },
   "outputs": [],
   "source": [
    "#df_allndlist_25.info()"
   ]
  },
  {
   "cell_type": "code",
   "execution_count": 11,
   "metadata": {
    "collapsed": false
   },
   "outputs": [
    {
     "data": {
      "text/html": [
       "<iframe id=\"igraph\" scrolling=\"no\" style=\"border:none;\" seamless=\"seamless\" src=\"https://plot.ly/~zhenxu66/15.embed\" height=\"525px\" width=\"100%\"></iframe>"
      ],
      "text/plain": [
       "<plotly.tools.PlotlyDisplay object>"
      ]
     },
     "execution_count": 11,
     "metadata": {},
     "output_type": "execute_result"
    }
   ],
   "source": [
    "df_sector = df_allndlist[df_allndlist['sector']=='Technology']\n",
    "data_sector = [go.Histogram(\n",
    "        x=df_allndlist['sector'],\n",
    "        name='all',\n",
    "        marker=dict(\n",
    "            color='#FFD7E9',\n",
    "        ),\n",
    "        opacity=0.75\n",
    "    ),\n",
    "               go.Histogram(\n",
    "        x=df_allndlist_25['sector'],\n",
    "        name='NIGR>25',\n",
    "        marker=dict(\n",
    "            color='#EB89B5',\n",
    "        ),\n",
    "        opacity=0.75\n",
    "    ),\n",
    "           ]\n",
    "\n",
    "layout = go.Layout(\n",
    "    title='Sector hist Results',\n",
    "    xaxis=dict(\n",
    "        title='Sector',\n",
    "    ),\n",
    "    yaxis=dict(\n",
    "        title='Count',\n",
    "        automargin=True,\n",
    "        type = 'log'\n",
    "    ),\n",
    "    bargap=0.2,\n",
    "    bargroupgap=0.1,\n",
    "    autosize=True\n",
    "\n",
    ")\n",
    "fig = go.Figure(data=data_sector, layout=layout)\n",
    "py.iplot(fig, filename='styled histogram')"
   ]
  },
  {
   "cell_type": "code",
   "execution_count": 12,
   "metadata": {
    "collapsed": false
   },
   "outputs": [
    {
     "data": {
      "text/html": [
       "<iframe id=\"igraph\" scrolling=\"no\" style=\"border:none;\" seamless=\"seamless\" src=\"https://plot.ly/~zhenxu66/13.embed\" height=\"525px\" width=\"100%\"></iframe>"
      ],
      "text/plain": [
       "<plotly.tools.PlotlyDisplay object>"
      ]
     },
     "execution_count": 12,
     "metadata": {},
     "output_type": "execute_result"
    }
   ],
   "source": [
    "def plot_df_industry_symbols(df, sector):\n",
    "    df_sector = df[df['sector']==sector]\n",
    "    def industry_merge_company(industry):\n",
    "        df_sector_industry = df_sector[df_sector['industry']==industry]\n",
    "        return df_sector_industry['symbol'].str.cat(sep=',')\n",
    "    \n",
    "    value_counts = df_sector['industry'].value_counts()\n",
    "    df_industry = value_counts.rename_axis('industry').reset_index(name='counts')\n",
    "    df_industry['symbols'] = df_industry['industry'].apply(industry_merge_company)\n",
    "    trace = go.Pie(labels=df_industry['industry'], values=df_industry['counts'], text = df_industry.symbols, textinfo='label+value')\n",
    "    return trace\n",
    "\n",
    "def df_industry_symbols(df, sector):\n",
    "    df_sector = df[df['sector']==sector]\n",
    "    def industry_merge_company(industry):\n",
    "        df_sector_industry = df_sector[df_sector['industry']==industry]\n",
    "        return df_sector_industry['symbol'].str.cat(sep=',')\n",
    "    \n",
    "    value_counts = df_sector['industry'].value_counts()\n",
    "    df_industry = value_counts.rename_axis('industry').reset_index(name='counts')\n",
    "    df_industry['symbols'] = df_industry['industry'].apply(industry_merge_company)\n",
    "    return df_industry\n",
    "trace_25 = plot_df_industry_symbols(df_allndlist,'Technology')\n",
    "py.iplot([trace_25],filename='basic_pie_chart')"
   ]
  },
  {
   "cell_type": "code",
   "execution_count": 13,
   "metadata": {
    "collapsed": false
   },
   "outputs": [
    {
     "data": {
      "text/plain": [
       "26"
      ]
     },
     "execution_count": 13,
     "metadata": {},
     "output_type": "execute_result"
    }
   ],
   "source": [
    "len(df_industry_symbols(df_allndlist,'Technology'))"
   ]
  },
  {
   "cell_type": "code",
   "execution_count": 14,
   "metadata": {
    "collapsed": false
   },
   "outputs": [
    {
     "name": "stderr",
     "output_type": "stream",
     "text": [
      "C:\\Users\\zxu\\AppData\\Local\\Continuum\\Anaconda3\\lib\\site-packages\\plotly\\tools.py:1428: UserWarning:\n",
      "\n",
      "Looks like you used a newline character: '\\n'.\n",
      "\n",
      "Plotly uses a subset of HTML escape characters\n",
      "to do things like newline (<br>), bold (<b></b>),\n",
      "italics (<i></i>), etc. Your newline characters \n",
      "have been converted to '<br>' so they will show \n",
      "up right on your Plotly figure!\n",
      "\n"
     ]
    },
    {
     "data": {
      "text/html": [
       "<iframe id=\"igraph\" scrolling=\"no\" style=\"border:none;\" seamless=\"seamless\" src=\"https://plot.ly/~zhenxu66/17.embed\" height=\"525px\" width=\"100%\"></iframe>"
      ],
      "text/plain": [
       "<plotly.tools.PlotlyDisplay object>"
      ]
     },
     "execution_count": 14,
     "metadata": {},
     "output_type": "execute_result"
    }
   ],
   "source": [
    "#df_industry_symbols(df_allndlist_25,'Technology')\n",
    "#df_industry_symbols(df_allndlist,'Technology')\n",
    "#merge two plots together\n",
    "fig = {\n",
    "  \"data\": [\n",
    "    {\n",
    "      \"values\": df_industry_symbols(df_allndlist_25,'Technology')['counts'].tolist(),\n",
    "      \"labels\": df_industry_symbols(df_allndlist_25,'Technology')['industry'].tolist(),\n",
    "      \"text\":   df_industry_symbols(df_allndlist_25,'Technology').symbols.tolist(),\n",
    "      \"domain\": {\"x\": [0, .48]},\n",
    "      \"name\": \"NIRG >25%\",\n",
    "      \"hoverinfo\":\"label+percent+name+text\",\n",
    "      \"hole\": .4,\n",
    "      \"type\": \"pie\"\n",
    "    },\n",
    "    {\n",
    "      \"values\": df_industry_symbols(df_allndlist,'Technology')['counts'].tolist(),\n",
    "      \"labels\": df_industry_symbols(df_allndlist,'Technology')['industry'].tolist(),\n",
    "      \"text\":   df_industry_symbols(df_allndlist,'Technology').symbols.tolist(),\n",
    "      \"textposition\":\"none\",\n",
    "      \"domain\": {\"x\": [.52, 1]},\n",
    "      \"name\": \"All Nasdaq\",\n",
    "      \"hoverinfo\":\"label+percent+name+text\",\n",
    "      \"hole\": .4,\n",
    "      \"type\": \"pie\"\n",
    "    }],\n",
    "  \"layout\": {\n",
    "        \"title\":\"Technology Section Compare\",\n",
    "        \"annotations\": [\n",
    "            {\n",
    "                \"font\": {\n",
    "                    \"size\": 20\n",
    "                },\n",
    "                \"showarrow\": False,\n",
    "                \"text\": \"NIRG >25%\"+'\\n'+str(len(df_industry_symbols(df_allndlist_25,'Technology'))),\n",
    "                \"x\": 0.15,\n",
    "                \"y\": 0.5\n",
    "            },\n",
    "            {\n",
    "                \"font\": {\n",
    "                    \"size\": 20\n",
    "                },\n",
    "                \"showarrow\": False,\n",
    "                \"text\": \"All Nasdaq\"+'\\n'+str(len(df_industry_symbols(df_allndlist,'Technology'))),\n",
    "                \"x\": 0.85,\n",
    "                \"y\": 0.5\n",
    "            }\n",
    "        ]\n",
    "    }\n",
    "}\n",
    "py.iplot(fig, filename='donut')"
   ]
  },
  {
   "cell_type": "code",
   "execution_count": 15,
   "metadata": {
    "collapsed": false
   },
   "outputs": [
    {
     "name": "stderr",
     "output_type": "stream",
     "text": [
      "C:\\Users\\zxu\\AppData\\Local\\Continuum\\Anaconda3\\lib\\site-packages\\plotly\\tools.py:1428: UserWarning:\n",
      "\n",
      "Looks like you used a newline character: '\\n'.\n",
      "\n",
      "Plotly uses a subset of HTML escape characters\n",
      "to do things like newline (<br>), bold (<b></b>),\n",
      "italics (<i></i>), etc. Your newline characters \n",
      "have been converted to '<br>' so they will show \n",
      "up right on your Plotly figure!\n",
      "\n"
     ]
    },
    {
     "data": {
      "text/html": [
       "<iframe id=\"igraph\" scrolling=\"no\" style=\"border:none;\" seamless=\"seamless\" src=\"https://plot.ly/~zhenxu66/17.embed\" height=\"525px\" width=\"100%\"></iframe>"
      ],
      "text/plain": [
       "<plotly.tools.PlotlyDisplay object>"
      ]
     },
     "execution_count": 15,
     "metadata": {},
     "output_type": "execute_result"
    }
   ],
   "source": [
    "def sector_plot(sector):\n",
    "    fig = {\n",
    "      \"data\": [\n",
    "        {\n",
    "          \"values\": df_industry_symbols(df_allndlist_25,sector)['counts'].tolist(),\n",
    "          \"labels\": df_industry_symbols(df_allndlist_25,sector)['industry'].tolist(),\n",
    "          \"text\":   df_industry_symbols(df_allndlist_25,sector).symbols.tolist(),\n",
    "          \"domain\": {\"x\": [0, .48]},\n",
    "          \"name\": \"NIRG >25%\",\n",
    "          \"hoverinfo\":\"label+percent+name+text\",\n",
    "          \"hole\": .4,\n",
    "          \"type\": \"pie\"\n",
    "        },\n",
    "        {\n",
    "          \"values\": df_industry_symbols(df_allndlist,sector)['counts'].tolist(),\n",
    "          \"labels\": df_industry_symbols(df_allndlist,sector)['industry'].tolist(),\n",
    "          \"text\":   df_industry_symbols(df_allndlist,sector).symbols.tolist(),\n",
    "          \"textposition\":\"none\",\n",
    "          \"domain\": {\"x\": [.52, 1]},\n",
    "          \"name\": \"All Nasdaq\",\n",
    "          \"hoverinfo\":\"label+percent+name+text\",\n",
    "          \"hole\": .4,\n",
    "          \"type\": \"pie\"\n",
    "        }],\n",
    "      \"layout\": {\n",
    "            \"title\":\"Services Section Compare\",\n",
    "            \"annotations\": [\n",
    "                {\n",
    "                    \"font\": {\n",
    "                        \"size\": 20\n",
    "                    },\n",
    "                    \"showarrow\": False,\n",
    "                    \"text\": \"NIRG >25%\"+'\\n'+str(len(df_industry_symbols(df_allndlist_25,sector))),\n",
    "                    \"x\": 0.15,\n",
    "                    \"y\": 0.5\n",
    "                },\n",
    "                {\n",
    "                    \"font\": {\n",
    "                        \"size\": 20\n",
    "                    },\n",
    "                    \"showarrow\": False,\n",
    "                    \"text\": \"All Nasdaq\"+'\\n'+str(len(df_industry_symbols(df_allndlist,sector))),\n",
    "                    \"x\": 0.85,\n",
    "                    \"y\": 0.5\n",
    "                }\n",
    "            ]\n",
    "        }\n",
    "    }\n",
    "    return fig\n",
    "py.iplot(sector_plot('Services'), filename='donut')"
   ]
  },
  {
   "cell_type": "code",
   "execution_count": 16,
   "metadata": {
    "collapsed": false
   },
   "outputs": [
    {
     "data": {
      "text/html": [
       "<iframe id=\"igraph\" scrolling=\"no\" style=\"border:none;\" seamless=\"seamless\" src=\"https://plot.ly/~zhenxu66/15.embed\" height=\"525px\" width=\"100%\"></iframe>"
      ],
      "text/plain": [
       "<plotly.tools.PlotlyDisplay object>"
      ]
     },
     "execution_count": 16,
     "metadata": {},
     "output_type": "execute_result"
    }
   ],
   "source": [
    "data_ipo_year = [go.Histogram(\n",
    "        x=df_allndlist['ipo_year'],\n",
    "        name='all',\n",
    "        marker=dict(\n",
    "            color='#FFD7E9',\n",
    "        ),\n",
    "        opacity=0.75\n",
    "    ),\n",
    "               go.Histogram(\n",
    "        x=df_allndlist_25['ipo_year'],\n",
    "        name='NIGR>25',\n",
    "        marker=dict(\n",
    "            color='#EB89B5',\n",
    "        ),\n",
    "        opacity=0.75\n",
    "    ),\n",
    "           ]\n",
    "\n",
    "layout = go.Layout(\n",
    "    title='ipo_year hist Results',\n",
    "    xaxis=dict(\n",
    "        title='ipo_year',\n",
    "    ),\n",
    "    yaxis=dict(\n",
    "        title='Count',\n",
    "        automargin=True,\n",
    "        type = 'log'\n",
    "    ),\n",
    "    bargap=0.2,\n",
    "    bargroupgap=0.1,\n",
    "    autosize=True\n",
    "\n",
    ")\n",
    "fig = go.Figure(data=data_ipo_year, layout=layout)\n",
    "py.iplot(fig, filename='styled histogram')"
   ]
  },
  {
   "cell_type": "code",
   "execution_count": 17,
   "metadata": {
    "collapsed": false,
    "scrolled": true
   },
   "outputs": [
    {
     "data": {
      "text/html": [
       "<iframe id=\"igraph\" scrolling=\"no\" style=\"border:none;\" seamless=\"seamless\" src=\"https://plot.ly/~zhenxu66/15.embed\" height=\"525px\" width=\"100%\"></iframe>"
      ],
      "text/plain": [
       "<plotly.tools.PlotlyDisplay object>"
      ]
     },
     "execution_count": 17,
     "metadata": {},
     "output_type": "execute_result"
    }
   ],
   "source": [
    "data_country = [go.Histogram(\n",
    "        x=df_allndlist['country'],\n",
    "        name='all',\n",
    "        marker=dict(\n",
    "            color='#FFD7E9',\n",
    "        ),\n",
    "        opacity=0.75\n",
    "    ),\n",
    "               go.Histogram(\n",
    "        x=df_allndlist_25['country'],\n",
    "        name='NIGR>25',\n",
    "        marker=dict(\n",
    "            color='#EB89B5',\n",
    "        ),\n",
    "        opacity=0.75\n",
    "    ),\n",
    "           ]\n",
    "\n",
    "layout = go.Layout(\n",
    "    title='country hist Results',\n",
    "    xaxis=dict(\n",
    "        title='country',\n",
    "    ),\n",
    "    yaxis=dict(\n",
    "        title='Count',\n",
    "        automargin=True,\n",
    "        type ='log'\n",
    "    ),\n",
    "    bargap=0.2,\n",
    "    bargroupgap=0.1,\n",
    "    autosize=True\n",
    "\n",
    ")\n",
    "fig = go.Figure(data=data_country, layout=layout)\n",
    "py.iplot(fig, filename='styled histogram')"
   ]
  },
  {
   "cell_type": "code",
   "execution_count": 18,
   "metadata": {
    "collapsed": false
   },
   "outputs": [
    {
     "name": "stdout",
     "output_type": "stream",
     "text": [
      "Total # of industries: 173\n",
      "\n",
      "industry\n",
      "Specialty Retail, Other                419934.77\n",
      "Application Software                   406230.50\n",
      "Credit Services                        301443.07\n",
      "Life Insurance                         226570.00\n",
      "Semiconductor - Integrated Circuits    206445.79\n",
      "Asset Management                       183304.25\n",
      "Chemicals - Major Diversified          176902.74\n",
      "Oil & Gas Pipelines                    175984.63\n",
      "Information Technology Services        165360.25\n",
      "Drugs - Generic                        128690.00\n",
      "Industrial Metals & Minerals           128247.07\n",
      "Drug Manufacturers - Major             127720.00\n",
      "Foreign Regional Banks                 126920.51\n",
      "Business Services                      126806.37\n",
      "Resorts & Casinos                      125430.67\n",
      "Oil & Gas Drilling & Exploration       124903.60\n",
      "Telecom Services - Domestic            118714.62\n",
      "Air Delivery & Freight Services        107802.00\n",
      "Electric Utilities                     106296.55\n",
      "Auto Manufacturers - Major             106200.00\n",
      "Diversified Machinery                   92909.63\n",
      "Investment Brokerage - National         89331.00\n",
      "Independent Oil & Gas                   86627.89\n",
      "Communication Equipment                 85178.83\n",
      "Telecom Services - Foreign              82760.00\n",
      "Personal Products                       78176.04\n",
      "Oil & Gas Equipment & Services          74970.70\n",
      "REIT - Office                           72901.10\n",
      "Beverages - Brewers                     69668.06\n",
      "REIT - Residential                      68062.65\n",
      "Name: marketCapMillion, dtype: float64\n"
     ]
    }
   ],
   "source": [
    "df_industry_sum = df_allndlist.groupby('industry').marketCapMillion.agg('sum')\n",
    "print('Total # of industries: '+ str(len(df_industry_sum))+ '\\n')\n",
    "print(df_industry_sum.sort_values(ascending=False)[:30])\n",
    "\n",
    "#df_allndlist_25.groupby('industry').marketCapMillion.agg('sum')"
   ]
  },
  {
   "cell_type": "code",
   "execution_count": 19,
   "metadata": {
    "collapsed": false
   },
   "outputs": [
    {
     "name": "stdout",
     "output_type": "stream",
     "text": [
      "Total # of industries: 40\n",
      "\n",
      "industry\n",
      "Wireless Communications            25260.00\n",
      "Diversified Computer Systems       17140.00\n",
      "Business Services                  15770.00\n",
      "General Building Materials         14233.65\n",
      "Healthcare Information Services    13330.00\n",
      "Health Care Plans                  13250.00\n",
      "Air Delivery & Freight Services    13080.00\n",
      "Internet Software & Services       12600.00\n",
      "Discount, Variety Stores           11700.00\n",
      "Internet Information Providers     11379.46\n",
      "REIT - Industrial                  10730.00\n",
      "Resorts & Casinos                  10440.00\n",
      "Application Software               10052.59\n",
      "REIT - Healthcare Facilities        9140.00\n",
      "Aluminum                            7790.00\n",
      "Paper & Paper Products              7400.00\n",
      "Food Wholesale                      6930.00\n",
      "Food - Major Diversified            6260.00\n",
      "Oil & Gas Refining & Marketing      6110.00\n",
      "Mortgage Investment                 6052.05\n",
      "Packaging & Containers              5930.00\n",
      "Regional - Pacific Banks            5110.00\n",
      "Communication Equipment             4880.00\n",
      "REIT - Office                       4680.00\n",
      "Diversified Machinery               4270.00\n",
      "Home Improvement Stores             3140.00\n",
      "Drugs - Generic                     2480.00\n",
      "Oil & Gas Pipelines                 2300.00\n",
      "REIT - Diversified                  1929.05\n",
      "Regional - Southeast Banks          1870.00\n",
      "Name: marketCapMillion, dtype: float64\n"
     ]
    }
   ],
   "source": [
    "df_industry_25_sum = df_allndlist_25.groupby('industry').marketCapMillion.agg('sum')\n",
    "print('Total # of industries: '+ str(len(df_industry_25_sum))+ '\\n')\n",
    "print(df_industry_25_sum.sort_values(ascending=False)[:30])\n",
    "\n",
    "#df_allndlist_25.groupby('industry').marketCapMillion.agg('sum')"
   ]
  },
  {
   "cell_type": "code",
   "execution_count": 20,
   "metadata": {
    "collapsed": false
   },
   "outputs": [],
   "source": [
    "fig = {\n",
    "    'data': [\n",
    "        {\n",
    "            'x': df_allndlist_25['ppe'], \n",
    "            'y': df_allndlist_25['marketCapMillion'], \n",
    "            'text': df_allndlist_25.symbol + ' name:'+ df_allndlist_25.name,  #cannot access columns with '' '' \n",
    "            'mode': 'markers', #+text\n",
    "            'marker':dict(\n",
    "                size= 8, #30*df_allnd100list['inst_own'],\n",
    "                color = df_allndlist_25['recomm1buy5sell'], #set color equal to a variable\n",
    "                colorscale='Viridis',\n",
    "                showscale=True\n",
    "            ),\n",
    "            'name': 'Results'},      \n",
    "\n",
    "    ],\n",
    "    'layout': {\n",
    "        'title': 'market_volumn compared with price per earnings and profit_margin (%)',\n",
    "        'xaxis': {'title': 'price per earnings','autorange':True,'type': 'log'},\n",
    "        'yaxis': {'title': \"mark_volumn\",'autorange':True,'type': 'log'},\n",
    "        'showlegend': True,\n",
    "        'annotations':[ #not working\n",
    "            dict(\n",
    "                x=1100,#df_allnd100list[df_allnd100list.symbol=='AAPL']['mark_cap(billion)'].item(),\n",
    "                y=4800,#df_allnd100list[df_allnd100list.symbol=='AAPL']['shares_out(million)'].item(),\n",
    "                xref='x',\n",
    "                yref='y',\n",
    "                text='dict Text is here',\n",
    "                showarrow=True,\n",
    "                arrowhead=7,\n",
    "                ax=0,\n",
    "                ay=-40\n",
    "            ),\n",
    "        ]\n",
    "    }\n",
    "}"
   ]
  },
  {
   "cell_type": "code",
   "execution_count": 21,
   "metadata": {
    "collapsed": false
   },
   "outputs": [
    {
     "data": {
      "text/html": [
       "<iframe id=\"igraph\" scrolling=\"no\" style=\"border:none;\" seamless=\"seamless\" src=\"https://plot.ly/~zhenxu66/8.embed\" height=\"525px\" width=\"100%\"></iframe>"
      ],
      "text/plain": [
       "<plotly.tools.PlotlyDisplay object>"
      ]
     },
     "execution_count": 21,
     "metadata": {},
     "output_type": "execute_result"
    }
   ],
   "source": [
    "py.iplot(fig, filename='scatter')  #py.plot will generate a webpage"
   ]
  },
  {
   "cell_type": "code",
   "execution_count": 22,
   "metadata": {
    "collapsed": false
   },
   "outputs": [
    {
     "name": "stdout",
     "output_type": "stream",
     "text": [
      "['id', 'symbol', 'name', 'sector', 'industry', 'country', 'board', 'prof_marginPCT', 'ppe', 'marketCapMillion', 'descShort', 'url_reuter', 'url_marketwatch', 'ipo_year', 'url', 'EPS', 'insideOwnPCT', 'forwardPPE', 'nextYEPS', 'insideOwnTrans6monthPCT', 'instOwnPCT', 'thisYearGrowthEPSPCT', 'instOwnTrans3monthPCT', 'nextYearGrowthEPSPCT', 'ROAPCT', 'ROEPCT', 'dividAnn', 'ROIPCT', 'dividYieldAnnPCT', 'dividPayoutRatioPCT', 'avgVolumn3MonthMillion', 'priceNow', 'recomm1buy5sell', 'SMA20PCT', 'SMA50PCT', 'SMA200PCT', 'relVolumn', '2014to2013', '2015to2014', '2016to2015', '2017to2016']\n",
      "['prof_marginPCT', 'insideOwnPCT', 'insideOwnTrans6monthPCT', 'instOwnPCT', 'thisYearGrowthEPSPCT', 'instOwnTrans3monthPCT', 'nextYearGrowthEPSPCT', 'ROAPCT', 'ROEPCT', 'ROIPCT', 'dividYieldAnnPCT', 'dividPayoutRatioPCT', 'SMA20PCT', 'SMA50PCT', 'SMA200PCT']\n"
     ]
    }
   ],
   "source": [
    "column_PCT=[]\n",
    "for i in df_allndlist_25.columns.tolist():\n",
    "    if i[-3:]=='PCT':\n",
    "        column_PCT.append(i)\n",
    "print(df_allndlist_25.columns.tolist())\n",
    "print(column_PCT)\n"
   ]
  },
  {
   "cell_type": "code",
   "execution_count": 23,
   "metadata": {
    "collapsed": false
   },
   "outputs": [
    {
     "name": "stdout",
     "output_type": "stream",
     "text": [
      "['prof_marginPCT', 'ppe', 'marketCapMillion', 'EPS', 'insideOwnPCT', 'forwardPPE', 'nextYEPS', 'insideOwnTrans6monthPCT', 'instOwnPCT', 'thisYearGrowthEPSPCT', 'instOwnTrans3monthPCT', 'nextYearGrowthEPSPCT', 'ROAPCT', 'ROEPCT', 'dividAnn', 'ROIPCT', 'dividYieldAnnPCT', 'dividPayoutRatioPCT', 'avgVolumn3MonthMillion', 'priceNow', 'recomm1buy5sell', 'SMA20PCT', 'SMA50PCT', 'SMA200PCT', 'relVolumn', '2014to2013', '2015to2014', '2016to2015', '2017to2016']\n"
     ]
    }
   ],
   "source": [
    "group = df_allndlist_25.columns.to_series().groupby(df_allndlist_25.dtypes).groups\n",
    "dict_group = {k.name: v for k, v in group.items()}\n",
    "float_column = dict_group.get('float64').tolist()\n",
    "print(float_column)"
   ]
  },
  {
   "cell_type": "code",
   "execution_count": 24,
   "metadata": {
    "collapsed": false
   },
   "outputs": [
    {
     "data": {
      "text/plain": [
       "priceNow                   1.000000\n",
       "nextYEPS                   0.828604\n",
       "marketCapMillion           0.574053\n",
       "EPS                        0.504525\n",
       "dividAnn                   0.354914\n",
       "ppe                        0.274769\n",
       "SMA200PCT                  0.189820\n",
       "ROIPCT                     0.154654\n",
       "2014to2013                 0.125684\n",
       "ROAPCT                     0.124230\n",
       "ROEPCT                     0.116366\n",
       "forwardPPE                 0.072897\n",
       "instOwnPCT                 0.011437\n",
       "instOwnTrans3monthPCT      0.011387\n",
       "relVolumn                 -0.004085\n",
       "nextYearGrowthEPSPCT      -0.033090\n",
       "recomm1buy5sell           -0.035372\n",
       "thisYearGrowthEPSPCT      -0.043944\n",
       "2016to2015                -0.053245\n",
       "dividPayoutRatioPCT       -0.062907\n",
       "SMA20PCT                  -0.071095\n",
       "avgVolumn3MonthMillion    -0.077171\n",
       "SMA50PCT                  -0.094723\n",
       "prof_marginPCT            -0.105485\n",
       "2017to2016                -0.135566\n",
       "insideOwnPCT              -0.146934\n",
       "dividYieldAnnPCT          -0.149166\n",
       "2015to2014                -0.189379\n",
       "insideOwnTrans6monthPCT   -0.238424\n",
       "Name: priceNow, dtype: float64"
      ]
     },
     "execution_count": 24,
     "metadata": {},
     "output_type": "execute_result"
    }
   ],
   "source": [
    "df_allndlist_25_float= df_allndlist_25[float_column]\n",
    "df_allndlist_25_float.corr()['priceNow'].sort_values(ascending = False)"
   ]
  },
  {
   "cell_type": "code",
   "execution_count": 25,
   "metadata": {
    "collapsed": false
   },
   "outputs": [],
   "source": [
    "df_allndlist_25_PCT= df_allndlist_25[column_PCT]"
   ]
  },
  {
   "cell_type": "code",
   "execution_count": 26,
   "metadata": {
    "collapsed": false
   },
   "outputs": [],
   "source": [
    "#df_allndlist_25_PCT.corr()"
   ]
  },
  {
   "cell_type": "code",
   "execution_count": 27,
   "metadata": {
    "collapsed": false
   },
   "outputs": [
    {
     "data": {
      "text/plain": [
       "SMA20PCT                   1.000000\n",
       "SMA50PCT                   0.769581\n",
       "ROAPCT                     0.364736\n",
       "ROIPCT                     0.275794\n",
       "prof_marginPCT             0.210393\n",
       "nextYearGrowthEPSPCT       0.182171\n",
       "dividYieldAnnPCT           0.119912\n",
       "thisYearGrowthEPSPCT       0.085216\n",
       "SMA200PCT                  0.083009\n",
       "dividPayoutRatioPCT       -0.008114\n",
       "insideOwnTrans6monthPCT   -0.053142\n",
       "instOwnPCT                -0.053720\n",
       "ROEPCT                    -0.087247\n",
       "instOwnTrans3monthPCT     -0.088584\n",
       "insideOwnPCT              -0.229444\n",
       "Name: SMA20PCT, dtype: float64"
      ]
     },
     "execution_count": 27,
     "metadata": {},
     "output_type": "execute_result"
    }
   ],
   "source": [
    "df_allndlist_25_PCT.corr()['SMA20PCT'].sort_values(ascending = False)"
   ]
  },
  {
   "cell_type": "code",
   "execution_count": 28,
   "metadata": {
    "collapsed": false
   },
   "outputs": [],
   "source": [
    "#from pandas.plotting import scatter_matrix\n",
    "#scatter_matrix(df_allndlist_25_PCT,figsize= (16,12),alpha=0.3)"
   ]
  },
  {
   "cell_type": "code",
   "execution_count": 29,
   "metadata": {
    "collapsed": false
   },
   "outputs": [
    {
     "data": {
      "text/html": [
       "<iframe id=\"igraph\" scrolling=\"no\" style=\"border:none;\" seamless=\"seamless\" src=\"https://plot.ly/~zhenxu66/15.embed\" height=\"2000px\" width=\"1000px\"></iframe>"
      ],
      "text/plain": [
       "<plotly.tools.PlotlyDisplay object>"
      ]
     },
     "execution_count": 29,
     "metadata": {},
     "output_type": "execute_result"
    }
   ],
   "source": [
    "data_industry = [go.Histogram(\n",
    "        y=df_allndlist_25['industry'])\n",
    "           ]\n",
    "\n",
    "layout = go.Layout(\n",
    "    title='industry hist Results',\n",
    "    xaxis=dict(\n",
    "        title='Count',\n",
    "        type ='log'\n",
    "    ),\n",
    "    yaxis=dict(\n",
    "        title='industry',\n",
    "        automargin=True\n",
    "    ),\n",
    "    bargap=0.2,\n",
    "    autosize=False,\n",
    "    width=1000,\n",
    "    height=2000,\n",
    "    margin=go.layout.Margin(\n",
    "        l=50,\n",
    "        r=50,\n",
    "        b=100,\n",
    "        t=100,\n",
    "        pad=4\n",
    "    ),\n",
    "\n",
    ")\n",
    "fig = go.Figure(data=data_industry, layout=layout)\n",
    "py.iplot(fig, filename='styled histogram')"
   ]
  },
  {
   "cell_type": "code",
   "execution_count": 30,
   "metadata": {
    "collapsed": false
   },
   "outputs": [
    {
     "data": {
      "text/html": [
       "<iframe id=\"igraph\" scrolling=\"no\" style=\"border:none;\" seamless=\"seamless\" src=\"https://plot.ly/~zhenxu66/15.embed\" height=\"2000px\" width=\"1000px\"></iframe>"
      ],
      "text/plain": [
       "<plotly.tools.PlotlyDisplay object>"
      ]
     },
     "execution_count": 30,
     "metadata": {},
     "output_type": "execute_result"
    }
   ],
   "source": [
    "data_industry = [go.Histogram(\n",
    "        y=df_allndlist['industry'])\n",
    "           ]\n",
    "\n",
    "layout = go.Layout(\n",
    "    title='industry hist Results',\n",
    "    xaxis=dict(\n",
    "        title='Count',\n",
    "        type ='log'\n",
    "    ),\n",
    "    yaxis=dict(\n",
    "        title='industry',\n",
    "        automargin=True\n",
    "    ),\n",
    "    bargap=0.2,\n",
    "    autosize=False,\n",
    "    width=1000,\n",
    "    height=2000,\n",
    "    margin=go.layout.Margin(\n",
    "        l=50,\n",
    "        r=50,\n",
    "        b=100,\n",
    "        t=100,\n",
    "        pad=4\n",
    "    ),\n",
    "\n",
    ")\n",
    "fig = go.Figure(data=data_industry, layout=layout)\n",
    "py.iplot(fig, filename='styled histogram')"
   ]
  },
  {
   "cell_type": "code",
   "execution_count": null,
   "metadata": {
    "collapsed": true
   },
   "outputs": [],
   "source": []
  }
 ],
 "metadata": {
  "kernelspec": {
   "display_name": "Python 3",
   "language": "python",
   "name": "python3"
  },
  "language_info": {
   "codemirror_mode": {
    "name": "ipython",
    "version": 3
   },
   "file_extension": ".py",
   "mimetype": "text/x-python",
   "name": "python",
   "nbconvert_exporter": "python",
   "pygments_lexer": "ipython3",
   "version": "3.5.4"
  }
 },
 "nbformat": 4,
 "nbformat_minor": 0
}
