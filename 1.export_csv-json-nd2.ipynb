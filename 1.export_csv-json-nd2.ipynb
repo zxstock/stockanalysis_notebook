{
 "cells": [
  {
   "cell_type": "code",
   "execution_count": 99,
   "metadata": {
    "collapsed": false
   },
   "outputs": [],
   "source": [
    "import numpy as np\n",
    "import matplotlib.pyplot as plt\n",
    "import pandas as pd\n",
    "import mysql.connector\n",
    "import json"
   ]
  },
  {
   "cell_type": "code",
   "execution_count": 100,
   "metadata": {
    "collapsed": false
   },
   "outputs": [],
   "source": [
    "#server = '192.168.10.138' remote\n",
    "server = '127.0.0.1'\n",
    "\n",
    "conn = mysql.connector.connect(user='root', password='gmw6504192658',\n",
    "                                            host=server, database='nd', charset='utf8',\n",
    "                                            use_unicode=True)\n",
    "cursor = conn.cursor()  # Database operation"
   ]
  },
  {
   "cell_type": "code",
   "execution_count": 101,
   "metadata": {
    "collapsed": false
   },
   "outputs": [],
   "source": [
    "df_allndlist= pd.read_sql('SELECT * FROM nd2', con=conn)"
   ]
  },
  {
   "cell_type": "code",
   "execution_count": 102,
   "metadata": {
    "collapsed": false
   },
   "outputs": [
    {
     "data": {
      "text/html": [
       "<div>\n",
       "<style scoped>\n",
       "    .dataframe tbody tr th:only-of-type {\n",
       "        vertical-align: middle;\n",
       "    }\n",
       "\n",
       "    .dataframe tbody tr th {\n",
       "        vertical-align: top;\n",
       "    }\n",
       "\n",
       "    .dataframe thead th {\n",
       "        text-align: right;\n",
       "    }\n",
       "</style>\n",
       "<table border=\"1\" class=\"dataframe\">\n",
       "  <thead>\n",
       "    <tr style=\"text-align: right;\">\n",
       "      <th></th>\n",
       "      <th>id</th>\n",
       "      <th>symbol</th>\n",
       "      <th>name</th>\n",
       "      <th>sector</th>\n",
       "      <th>industry</th>\n",
       "      <th>country</th>\n",
       "      <th>board</th>\n",
       "      <th>prof_margin</th>\n",
       "      <th>ppe</th>\n",
       "      <th>marketCap</th>\n",
       "      <th>...</th>\n",
       "      <th>dividAnn</th>\n",
       "      <th>ROI</th>\n",
       "      <th>dividYieldAnn</th>\n",
       "      <th>dividPayoutRatio</th>\n",
       "      <th>avgVolumn3Month</th>\n",
       "      <th>priceNow</th>\n",
       "      <th>recomm</th>\n",
       "      <th>SMA20</th>\n",
       "      <th>SMA50</th>\n",
       "      <th>SMA200</th>\n",
       "    </tr>\n",
       "  </thead>\n",
       "  <tbody>\n",
       "    <tr>\n",
       "      <th>0</th>\n",
       "      <td>1</td>\n",
       "      <td>PIH</td>\n",
       "      <td>1347 Property Insurance Holdings, Inc.</td>\n",
       "      <td>Financial</td>\n",
       "      <td>Property &amp; Casualty Insurance</td>\n",
       "      <td>USA</td>\n",
       "      <td>[NASD]</td>\n",
       "      <td>38.11M</td>\n",
       "      <td>22.17</td>\n",
       "      <td>38.11M</td>\n",
       "      <td>...</td>\n",
       "      <td>-</td>\n",
       "      <td>1.50%</td>\n",
       "      <td>-</td>\n",
       "      <td>0.00%</td>\n",
       "      <td>5.86K</td>\n",
       "      <td>6.03</td>\n",
       "      <td>2.00</td>\n",
       "      <td>-3.30%</td>\n",
       "      <td>-7.43%</td>\n",
       "      <td>-13.42%</td>\n",
       "    </tr>\n",
       "    <tr>\n",
       "      <th>1</th>\n",
       "      <td>2</td>\n",
       "      <td>ABIL</td>\n",
       "      <td>Ability Inc.</td>\n",
       "      <td>Technology</td>\n",
       "      <td>Communication Equipment</td>\n",
       "      <td>Israel</td>\n",
       "      <td>[NASD]</td>\n",
       "      <td>9.38M</td>\n",
       "      <td>-</td>\n",
       "      <td>9.38M</td>\n",
       "      <td>...</td>\n",
       "      <td>-</td>\n",
       "      <td>-</td>\n",
       "      <td>-</td>\n",
       "      <td>-</td>\n",
       "      <td>771.56K</td>\n",
       "      <td>2.75</td>\n",
       "      <td>3.00</td>\n",
       "      <td>-14.55%</td>\n",
       "      <td>-21.56%</td>\n",
       "      <td>-28.43%</td>\n",
       "    </tr>\n",
       "  </tbody>\n",
       "</table>\n",
       "<p>2 rows × 37 columns</p>\n",
       "</div>"
      ],
      "text/plain": [
       "   id symbol                                    name      sector  \\\n",
       "0   1    PIH  1347 Property Insurance Holdings, Inc.   Financial   \n",
       "1   2   ABIL                            Ability Inc.  Technology   \n",
       "\n",
       "                        industry country   board prof_margin    ppe marketCap  \\\n",
       "0  Property & Casualty Insurance     USA  [NASD]      38.11M  22.17    38.11M   \n",
       "1        Communication Equipment  Israel  [NASD]       9.38M      -     9.38M   \n",
       "\n",
       "    ...    dividAnn    ROI dividYieldAnn dividPayoutRatio avgVolumn3Month  \\\n",
       "0   ...           -  1.50%             -            0.00%           5.86K   \n",
       "1   ...           -      -             -                -         771.56K   \n",
       "\n",
       "  priceNow recomm    SMA20    SMA50   SMA200  \n",
       "0     6.03   2.00   -3.30%   -7.43%  -13.42%  \n",
       "1     2.75   3.00  -14.55%  -21.56%  -28.43%  \n",
       "\n",
       "[2 rows x 37 columns]"
      ]
     },
     "execution_count": 102,
     "metadata": {},
     "output_type": "execute_result"
    }
   ],
   "source": [
    "#df_allndlist.head(2)"
   ]
  },
  {
   "cell_type": "code",
   "execution_count": 103,
   "metadata": {
    "collapsed": true
   },
   "outputs": [],
   "source": [
    "def CustomParser(data):\n",
    "    j1 = json.loads(data)\n",
    "    return j1"
   ]
  },
  {
   "cell_type": "code",
   "execution_count": 104,
   "metadata": {
    "collapsed": false
   },
   "outputs": [],
   "source": [
    "df_allndlist['NIGR_result'] = df_allndlist['NIGR_result'].apply(CustomParser)\n",
    "df_allndlist[sorted(df_allndlist['NIGR_result'][0].keys())] = df_allndlist['NIGR_result'].apply(pd.Series)\n",
    "df_allndlist.drop(columns='NIGR_result',inplace = True)"
   ]
  },
  {
   "cell_type": "code",
   "execution_count": 105,
   "metadata": {
    "collapsed": false
   },
   "outputs": [],
   "source": [
    "#df_allndlist.info()"
   ]
  },
  {
   "cell_type": "code",
   "execution_count": 106,
   "metadata": {
    "collapsed": false
   },
   "outputs": [],
   "source": [
    "def conv_str_BM(text):  #[round(float(i), 2) for i in mylist]\n",
    "    if text!= '-':\n",
    "        if text[-1] == 'B':\n",
    "            return round(float(text[:-1])*1000, 3)\n",
    "        else:\n",
    "            return round(float(text[:-1])*1, 3)\n",
    "    else:\n",
    "        return 0\n",
    "    \n",
    "def conv_str_KM(text):  #[round(float(i), 2) for i in mylist]\n",
    "    if text!= '-':\n",
    "        if text[-1] == 'K':\n",
    "            return round(float(text[:-1])/1000, 3)\n",
    "        else:\n",
    "            return round(float(text[:-1])*1, 3)\n",
    "    else:\n",
    "        return 0\n",
    "df_allndlist['marketCap'] = df_allndlist['marketCap'].apply(conv_str_BM)\n",
    "df_allndlist.rename(columns={'marketCap':'marketCapMillion'}, inplace=True)\n",
    "\n",
    "df_allndlist['avgVolumn3Month'] = df_allndlist['avgVolumn3Month'].apply(conv_str_KM)\n",
    "df_allndlist.rename(columns={'avgVolumn3Month':'avgVolumn3MonthMillion'}, inplace=True)\n",
    "#print(df_allndlist['marketCap'].unique())"
   ]
  },
  {
   "cell_type": "code",
   "execution_count": 107,
   "metadata": {
    "collapsed": false
   },
   "outputs": [],
   "source": [
    "def p2f_comma(x):\n",
    "    if x!= '-':\n",
    "        return float((x.replace(',', \"\").strip('%')))/100\n",
    "    else:\n",
    "        return 0\n",
    "\n",
    "def p2f(x):\n",
    "    if x!= '-':\n",
    "        return round(float(x.strip('%'))/100,4)\n",
    "    else:\n",
    "        return 0\n",
    "\n",
    "def str2float(x):\n",
    "    if x!= '-':\n",
    "        return round(float(x)/100,4)\n",
    "    else:\n",
    "        return 0\n",
    "    "
   ]
  },
  {
   "cell_type": "code",
   "execution_count": 108,
   "metadata": {
    "collapsed": false
   },
   "outputs": [],
   "source": [
    "df_allndlist['ppe'] =df_allndlist['ppe'].apply(str2float) \n",
    "df_allndlist['EPS'] =df_allndlist['EPS'].apply(str2float)\n",
    "df_allndlist['forwardPPE'] =df_allndlist['forwardPPE'].apply(str2float) \n",
    "df_allndlist['nextYEPS'] =df_allndlist['nextYEPS'].apply(str2float) \n",
    "df_allndlist['dividAnn'] =df_allndlist['dividAnn'].apply(str2float)\n",
    "df_allndlist['priceNow'] =df_allndlist['priceNow'].apply(str2float)\n",
    "df_allndlist['recomm'] =df_allndlist['recomm'].apply(str2float)\n",
    "df_allndlist.rename(columns={'recomm':'recomm1buy5sell'}, inplace=True)\n",
    "\n",
    "\n",
    "df_allndlist['ipo_year'] = df_allndlist['ipo_year'].apply(lambda x: int(x[:-2]))\n",
    "\n",
    "\n",
    "\n",
    "#df_allndlist['prof_margin'] need to update the scrapy raw data\n",
    "df_allndlist['insideOwn']=df_allndlist['insideOwn'].apply(p2f)\n",
    "df_allndlist.rename(columns={'insideOwn':'insideOwnPCT'}, inplace=True)\n",
    "df_allndlist['insideOwnTrans']=df_allndlist['insideOwnTrans'].apply(p2f)\n",
    "df_allndlist.rename(columns={'insideOwnTrans':'insideOwnTrans6monthPCT'}, inplace=True)\n",
    "df_allndlist['instOwn']=df_allndlist['instOwn'].apply(p2f)\n",
    "df_allndlist.rename(columns={'instOwn':'instOwnPCT'}, inplace=True)\n",
    "df_allndlist['thisYGEPS']=df_allndlist['thisYGEPS'].apply(p2f)\n",
    "df_allndlist.rename(columns={'thisYGEPS':'thisYearGrowthEPSPCT'}, inplace=True)\n",
    "df_allndlist['instOwnTrans']=df_allndlist['instOwnTrans'].apply(p2f)\n",
    "df_allndlist.rename(columns={'instOwnTrans':'instOwnTrans3monthPCT'}, inplace=True)\n",
    "df_allndlist['nextYGEPS']=df_allndlist['nextYGEPS'].apply(p2f)\n",
    "df_allndlist.rename(columns={'nextYGEPS':'nextYearGrowthEPSPCT'}, inplace=True)\n",
    "df_allndlist['ROA']=df_allndlist['ROA'].apply(p2f)\n",
    "df_allndlist.rename(columns={'ROA':'ROAPCT'}, inplace=True)\n",
    "df_allndlist['ROE']=df_allndlist['ROE'].apply(p2f)\n",
    "df_allndlist.rename(columns={'ROE':'ROEPCT'}, inplace=True)\n",
    "df_allndlist['ROI']=df_allndlist['ROI'].apply(p2f)\n",
    "df_allndlist.rename(columns={'ROI':'ROIPCT'}, inplace=True)\n",
    "df_allndlist['dividYieldAnn']=df_allndlist['dividYieldAnn'].apply(p2f)\n",
    "df_allndlist.rename(columns={'dividYieldAnn':'dividYieldAnnPCT'}, inplace=True)\n",
    "df_allndlist['dividPayoutRatio']=df_allndlist['dividPayoutRatio'].apply(p2f)\n",
    "df_allndlist.rename(columns={'dividPayoutRatio':'dividPayoutRatioPCT'}, inplace=True)\n",
    "df_allndlist['SMA20']=df_allndlist['SMA20'].apply(p2f)\n",
    "df_allndlist.rename(columns={'SMA20':'SMA20PCT'}, inplace=True)\n",
    "df_allndlist['SMA50']=df_allndlist['SMA50'].apply(p2f)\n",
    "df_allndlist.rename(columns={'SMA50':'SMA50PCT'}, inplace=True)\n",
    "df_allndlist['SMA200']=df_allndlist['SMA200'].apply(p2f)\n",
    "df_allndlist.rename(columns={'SMA200':'SMA200PCT'}, inplace=True)\n",
    "\n",
    "df_allndlist['2017-2016'] = df_allndlist['2017-2016'].apply(p2f_comma)\n",
    "df_allndlist['2016-2015'] = df_allndlist['2016-2015'].apply(p2f_comma)\n",
    "df_allndlist['2015-2014'] = df_allndlist['2015-2014'].apply(p2f_comma)\n",
    "df_allndlist['2014-2013'] = df_allndlist['2014-2013'].apply(p2f_comma)\n",
    "df_allndlist.rename(columns={'2014-2013':'2014to2013'}, inplace=True)\n",
    "df_allndlist.rename(columns={'2015-2014':'2015to2014'}, inplace=True)\n",
    "df_allndlist.rename(columns={'2016-2015':'2016to2015'}, inplace=True) \n",
    "df_allndlist.rename(columns={'2017-2016':'2017to2016'}, inplace=True)"
   ]
  },
  {
   "cell_type": "code",
   "execution_count": 110,
   "metadata": {
    "collapsed": false
   },
   "outputs": [
    {
     "name": "stdout",
     "output_type": "stream",
     "text": [
      "<class 'pandas.core.frame.DataFrame'>\n",
      "RangeIndex: 891 entries, 0 to 890\n",
      "Data columns (total 40 columns):\n",
      "id                         891 non-null int64\n",
      "symbol                     891 non-null object\n",
      "name                       891 non-null object\n",
      "sector                     891 non-null object\n",
      "industry                   891 non-null object\n",
      "country                    891 non-null object\n",
      "board                      891 non-null object\n",
      "prof_margin                891 non-null object\n",
      "ppe                        891 non-null float64\n",
      "marketCapMillion           891 non-null float64\n",
      "descShort                  891 non-null object\n",
      "url_reuter                 891 non-null object\n",
      "url_marketwatch            891 non-null object\n",
      "ipo_year                   891 non-null int64\n",
      "url                        891 non-null object\n",
      "EPS                        891 non-null float64\n",
      "insideOwnPCT               891 non-null float64\n",
      "forwardPPE                 891 non-null float64\n",
      "nextYEPS                   891 non-null float64\n",
      "insideOwnTrans6monthPCT    891 non-null float64\n",
      "instOwnPCT                 891 non-null float64\n",
      "thisYearGrowthEPSPCT       891 non-null float64\n",
      "instOwnTrans3monthPCT      891 non-null float64\n",
      "nextYearGrowthEPSPCT       891 non-null float64\n",
      "ROAPCT                     891 non-null float64\n",
      "ROEPCT                     891 non-null float64\n",
      "dividAnn                   891 non-null float64\n",
      "ROIPCT                     891 non-null float64\n",
      "dividYieldAnnPCT           891 non-null float64\n",
      "dividPayoutRatioPCT        891 non-null float64\n",
      "avgVolumn3MonthMillion     891 non-null float64\n",
      "priceNow                   891 non-null float64\n",
      "recomm1buy5sell            891 non-null float64\n",
      "SMA20PCT                   891 non-null float64\n",
      "SMA50PCT                   891 non-null float64\n",
      "SMA200PCT                  891 non-null float64\n",
      "2014to2013                 891 non-null float64\n",
      "2015to2014                 891 non-null float64\n",
      "2016to2015                 891 non-null float64\n",
      "2017to2016                 891 non-null float64\n",
      "dtypes: float64(27), int64(2), object(11)\n",
      "memory usage: 278.5+ KB\n"
     ]
    }
   ],
   "source": [
    "#df_allndlist.info()"
   ]
  },
  {
   "cell_type": "code",
   "execution_count": 111,
   "metadata": {
    "collapsed": false
   },
   "outputs": [],
   "source": [
    "#df_allnd100list.rename(index=str, columns={\"shares_out\": \"shares_out(million)\", \"mark_cap\": \"mark_cap(billion)\"},inplace= True)"
   ]
  },
  {
   "cell_type": "code",
   "execution_count": 112,
   "metadata": {
    "collapsed": false
   },
   "outputs": [],
   "source": [
    "#df_allnd100list.ix[df_allnd100list['symbol']=='AAPL']"
   ]
  },
  {
   "cell_type": "code",
   "execution_count": 113,
   "metadata": {
    "collapsed": false
   },
   "outputs": [],
   "source": [
    "#df_allnd100list.ix[df_allnd100list['shares_out'].idxmax()]"
   ]
  },
  {
   "cell_type": "code",
   "execution_count": 114,
   "metadata": {
    "collapsed": false
   },
   "outputs": [],
   "source": [
    "df_allndlist.to_csv('./csv/list_nd2_all.csv',encoding='utf-8',index=False)"
   ]
  },
  {
   "cell_type": "code",
   "execution_count": null,
   "metadata": {
    "collapsed": true
   },
   "outputs": [],
   "source": []
  }
 ],
 "metadata": {
  "kernelspec": {
   "display_name": "Python 3",
   "language": "python",
   "name": "python3"
  },
  "language_info": {
   "codemirror_mode": {
    "name": "ipython",
    "version": 3
   },
   "file_extension": ".py",
   "mimetype": "text/x-python",
   "name": "python",
   "nbconvert_exporter": "python",
   "pygments_lexer": "ipython3",
   "version": "3.5.4"
  }
 },
 "nbformat": 4,
 "nbformat_minor": 0
}
