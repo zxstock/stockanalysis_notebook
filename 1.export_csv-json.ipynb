{
 "cells": [
  {
   "cell_type": "code",
   "execution_count": 1,
   "metadata": {
    "collapsed": false
   },
   "outputs": [],
   "source": [
    "import numpy as np\n",
    "import matplotlib.pyplot as plt\n",
    "import pandas as pd\n",
    "import mysql.connector\n",
    "import json"
   ]
  },
  {
   "cell_type": "code",
   "execution_count": 2,
   "metadata": {
    "collapsed": false
   },
   "outputs": [],
   "source": [
    "#server = '192.168.10.138' remote\n",
    "server = '127.0.0.1'\n",
    "\n",
    "conn = mysql.connector.connect(user='root', password='gmw6504192658',\n",
    "                                            host=server, database='nd100list', charset='utf8',\n",
    "                                            use_unicode=True)\n",
    "cursor = conn.cursor()  # Database operation"
   ]
  },
  {
   "cell_type": "code",
   "execution_count": 3,
   "metadata": {
    "collapsed": false
   },
   "outputs": [],
   "source": [
    "df_allnd100list= pd.read_sql('SELECT * FROM nd100list', con=conn)"
   ]
  },
  {
   "cell_type": "code",
   "execution_count": 4,
   "metadata": {
    "collapsed": false
   },
   "outputs": [
    {
     "data": {
      "text/html": [
       "<div>\n",
       "<style scoped>\n",
       "    .dataframe tbody tr th:only-of-type {\n",
       "        vertical-align: middle;\n",
       "    }\n",
       "\n",
       "    .dataframe tbody tr th {\n",
       "        vertical-align: top;\n",
       "    }\n",
       "\n",
       "    .dataframe thead th {\n",
       "        text-align: right;\n",
       "    }\n",
       "</style>\n",
       "<table border=\"1\" class=\"dataframe\">\n",
       "  <thead>\n",
       "    <tr style=\"text-align: right;\">\n",
       "      <th></th>\n",
       "      <th>id</th>\n",
       "      <th>symbol</th>\n",
       "      <th>url</th>\n",
       "      <th>descShort</th>\n",
       "      <th>descLong</th>\n",
       "      <th>CEO</th>\n",
       "      <th>address</th>\n",
       "      <th>shares_out</th>\n",
       "      <th>inst_own</th>\n",
       "      <th>mark_cap</th>\n",
       "      <th>NIGR_result</th>\n",
       "    </tr>\n",
       "  </thead>\n",
       "  <tbody>\n",
       "    <tr>\n",
       "      <th>0</th>\n",
       "      <td>2</td>\n",
       "      <td>AAL</td>\n",
       "      <td>http://www.cnbc.com/quotes/?symbol=AAL</td>\n",
       "      <td>American Airlines Group Inc. is a holding comp...</td>\n",
       "      <td>American Airlines Group Inc. is a holding comp...</td>\n",
       "      <td>William Douglas Parker</td>\n",
       "      <td>4333 Amon Carter Blvd, Fort Worth, Texas, Unit...</td>\n",
       "      <td>460.5M</td>\n",
       "      <td>81.82%</td>\n",
       "      <td>14.2B</td>\n",
       "      <td>{\"2014-2013\": \"257.14%\", \"2015-2014\": \"164.05%...</td>\n",
       "    </tr>\n",
       "    <tr>\n",
       "      <th>1</th>\n",
       "      <td>3</td>\n",
       "      <td>DLTR</td>\n",
       "      <td>http://www.cnbc.com/quotes/?symbol=DLTR</td>\n",
       "      <td>Dollar Tree, Inc. is an operator of discount v...</td>\n",
       "      <td>Dollar Tree, Inc. is an operator of discount v...</td>\n",
       "      <td>Gary M. Philbin</td>\n",
       "      <td>500 Volvo Pkwy, Chesapeake, Virginia, United S...</td>\n",
       "      <td>237.9M</td>\n",
       "      <td>93.89%</td>\n",
       "      <td>19.3B</td>\n",
       "      <td>{\"2014-2013\": \"0.42%\", \"2015-2014\": \"-52.87%\",...</td>\n",
       "    </tr>\n",
       "  </tbody>\n",
       "</table>\n",
       "</div>"
      ],
      "text/plain": [
       "   id symbol                                      url  \\\n",
       "0   2    AAL   http://www.cnbc.com/quotes/?symbol=AAL   \n",
       "1   3   DLTR  http://www.cnbc.com/quotes/?symbol=DLTR   \n",
       "\n",
       "                                           descShort  \\\n",
       "0  American Airlines Group Inc. is a holding comp...   \n",
       "1  Dollar Tree, Inc. is an operator of discount v...   \n",
       "\n",
       "                                            descLong                     CEO  \\\n",
       "0  American Airlines Group Inc. is a holding comp...  William Douglas Parker   \n",
       "1  Dollar Tree, Inc. is an operator of discount v...         Gary M. Philbin   \n",
       "\n",
       "                                             address shares_out inst_own  \\\n",
       "0  4333 Amon Carter Blvd, Fort Worth, Texas, Unit...     460.5M   81.82%   \n",
       "1  500 Volvo Pkwy, Chesapeake, Virginia, United S...     237.9M   93.89%   \n",
       "\n",
       "  mark_cap                                        NIGR_result  \n",
       "0    14.2B  {\"2014-2013\": \"257.14%\", \"2015-2014\": \"164.05%...  \n",
       "1    19.3B  {\"2014-2013\": \"0.42%\", \"2015-2014\": \"-52.87%\",...  "
      ]
     },
     "execution_count": 4,
     "metadata": {},
     "output_type": "execute_result"
    }
   ],
   "source": [
    "df_allnd100list.head(2)"
   ]
  },
  {
   "cell_type": "code",
   "execution_count": 5,
   "metadata": {
    "collapsed": true
   },
   "outputs": [],
   "source": [
    "def CustomParser(data):\n",
    "    j1 = json.loads(data)\n",
    "    return j1"
   ]
  },
  {
   "cell_type": "code",
   "execution_count": 6,
   "metadata": {
    "collapsed": false
   },
   "outputs": [],
   "source": [
    "df_allnd100list['NIGR_result'] = df_allnd100list['NIGR_result'].apply(CustomParser)\n",
    "df_allnd100list[sorted(df_allnd100list['NIGR_result'][0].keys())] = df_allnd100list['NIGR_result'].apply(pd.Series)\n",
    "df_allnd100list.drop(columns='NIGR_result',inplace = True)"
   ]
  },
  {
   "cell_type": "code",
   "execution_count": 7,
   "metadata": {
    "collapsed": true
   },
   "outputs": [],
   "source": [
    "def conv_str_TB(str):  #[round(float(i), 2) for i in mylist]\n",
    "    if str[-1] == 'T':\n",
    "        return round(float(str[:-1])*1000, 3)\n",
    "    else:\n",
    "        return round(float(str[:-1]), 3)\n",
    "\n",
    "def conv_str_BM(str):  #[round(float(i), 2) for i in mylist]\n",
    "    if str[-1] == 'B':\n",
    "        return round(float(str[:-1])*1000, 3)\n",
    "    else:\n",
    "        return round(float(str[:-1]), 3)"
   ]
  },
  {
   "cell_type": "code",
   "execution_count": 8,
   "metadata": {
    "collapsed": false
   },
   "outputs": [],
   "source": [
    "df_allnd100list['mark_cap'] = df_allnd100list['mark_cap'].apply(conv_str_TB)\n",
    "df_allnd100list['shares_out'] = df_allnd100list['shares_out'].apply(conv_str_BM)\n",
    "df_allnd100list['inst_own'] = df_allnd100list['inst_own'].apply(lambda x: round(float((x[:-1]))/100,4))"
   ]
  },
  {
   "cell_type": "code",
   "execution_count": 9,
   "metadata": {
    "collapsed": false
   },
   "outputs": [],
   "source": [
    "def p2f(x):\n",
    "    return float(x.replace(',', \"\").strip('%'))\n",
    "#p2f('24816.87%')\n",
    "df_allnd100list['2017-2016'] = df_allnd100list['2017-2016'].apply(p2f)\n",
    "df_allnd100list['2016-2015'] = df_allnd100list['2016-2015'].apply(p2f)\n",
    "df_allnd100list['2015-2014'] = df_allnd100list['2015-2014'].apply(p2f)\n",
    "df_allnd100list['2014-2013'] = df_allnd100list['2014-2013'].apply(p2f)"
   ]
  },
  {
   "cell_type": "code",
   "execution_count": 10,
   "metadata": {
    "collapsed": false
   },
   "outputs": [
    {
     "data": {
      "text/html": [
       "<div>\n",
       "<style scoped>\n",
       "    .dataframe tbody tr th:only-of-type {\n",
       "        vertical-align: middle;\n",
       "    }\n",
       "\n",
       "    .dataframe tbody tr th {\n",
       "        vertical-align: top;\n",
       "    }\n",
       "\n",
       "    .dataframe thead th {\n",
       "        text-align: right;\n",
       "    }\n",
       "</style>\n",
       "<table border=\"1\" class=\"dataframe\">\n",
       "  <thead>\n",
       "    <tr style=\"text-align: right;\">\n",
       "      <th></th>\n",
       "      <th>id</th>\n",
       "      <th>symbol</th>\n",
       "      <th>url</th>\n",
       "      <th>descShort</th>\n",
       "      <th>descLong</th>\n",
       "      <th>CEO</th>\n",
       "      <th>address</th>\n",
       "      <th>shares_out</th>\n",
       "      <th>inst_own</th>\n",
       "      <th>mark_cap</th>\n",
       "      <th>2014-2013</th>\n",
       "      <th>2015-2014</th>\n",
       "      <th>2016-2015</th>\n",
       "      <th>2017-2016</th>\n",
       "    </tr>\n",
       "  </thead>\n",
       "  <tbody>\n",
       "    <tr>\n",
       "      <th>0</th>\n",
       "      <td>2</td>\n",
       "      <td>AAL</td>\n",
       "      <td>http://www.cnbc.com/quotes/?symbol=AAL</td>\n",
       "      <td>American Airlines Group Inc. is a holding comp...</td>\n",
       "      <td>American Airlines Group Inc. is a holding comp...</td>\n",
       "      <td>William Douglas Parker</td>\n",
       "      <td>4333 Amon Carter Blvd, Fort Worth, Texas, Unit...</td>\n",
       "      <td>460.5</td>\n",
       "      <td>0.8182</td>\n",
       "      <td>14.2</td>\n",
       "      <td>257.14</td>\n",
       "      <td>164.05</td>\n",
       "      <td>-64.84</td>\n",
       "      <td>-28.29</td>\n",
       "    </tr>\n",
       "    <tr>\n",
       "      <th>1</th>\n",
       "      <td>3</td>\n",
       "      <td>DLTR</td>\n",
       "      <td>http://www.cnbc.com/quotes/?symbol=DLTR</td>\n",
       "      <td>Dollar Tree, Inc. is an operator of discount v...</td>\n",
       "      <td>Dollar Tree, Inc. is an operator of discount v...</td>\n",
       "      <td>Gary M. Philbin</td>\n",
       "      <td>500 Volvo Pkwy, Chesapeake, Virginia, United S...</td>\n",
       "      <td>237.9</td>\n",
       "      <td>0.9389</td>\n",
       "      <td>19.3</td>\n",
       "      <td>0.42</td>\n",
       "      <td>-52.87</td>\n",
       "      <td>217.35</td>\n",
       "      <td>91.29</td>\n",
       "    </tr>\n",
       "    <tr>\n",
       "      <th>2</th>\n",
       "      <td>4</td>\n",
       "      <td>CSCO</td>\n",
       "      <td>http://www.cnbc.com/quotes/?symbol=CSCO</td>\n",
       "      <td>Cisco Systems, Inc. designs and sells a range ...</td>\n",
       "      <td>Cisco Systems, Inc. designs and sells a range ...</td>\n",
       "      <td>Charles H. Robbins</td>\n",
       "      <td>170 W Tasman Dr, San Jose, California, United ...</td>\n",
       "      <td>4600.0</td>\n",
       "      <td>0.7805</td>\n",
       "      <td>210.9</td>\n",
       "      <td>14.36</td>\n",
       "      <td>19.57</td>\n",
       "      <td>-10.52</td>\n",
       "      <td>-98.86</td>\n",
       "    </tr>\n",
       "    <tr>\n",
       "      <th>3</th>\n",
       "      <td>5</td>\n",
       "      <td>CTSH</td>\n",
       "      <td>http://www.cnbc.com/quotes/?symbol=CTSH</td>\n",
       "      <td>Cognizant Technology Solutions Corporation is ...</td>\n",
       "      <td>Cognizant Technology Solutions Corporation is ...</td>\n",
       "      <td>Francisco D'Souza</td>\n",
       "      <td>500 Frank W Burr Blvd, Teaneck, New Jersey, Un...</td>\n",
       "      <td>580.0</td>\n",
       "      <td>0.9233</td>\n",
       "      <td>41.9</td>\n",
       "      <td>17.15</td>\n",
       "      <td>12.83</td>\n",
       "      <td>-4.37</td>\n",
       "      <td>-3.16</td>\n",
       "    </tr>\n",
       "    <tr>\n",
       "      <th>4</th>\n",
       "      <td>6</td>\n",
       "      <td>DISH</td>\n",
       "      <td>http://www.cnbc.com/quotes/?symbol=DISH</td>\n",
       "      <td>DISH Network Corporation is a holding company....</td>\n",
       "      <td>DISH Network Corporation is a holding company....</td>\n",
       "      <td>W. Erik Carlson</td>\n",
       "      <td>9601 S Meridian Blvd, Englewood, Colorado, Uni...</td>\n",
       "      <td>466.5</td>\n",
       "      <td>1.0085</td>\n",
       "      <td>15.4</td>\n",
       "      <td>10.51</td>\n",
       "      <td>-20.92</td>\n",
       "      <td>100.50</td>\n",
       "      <td>40.11</td>\n",
       "    </tr>\n",
       "  </tbody>\n",
       "</table>\n",
       "</div>"
      ],
      "text/plain": [
       "   id symbol                                      url  \\\n",
       "0   2    AAL   http://www.cnbc.com/quotes/?symbol=AAL   \n",
       "1   3   DLTR  http://www.cnbc.com/quotes/?symbol=DLTR   \n",
       "2   4   CSCO  http://www.cnbc.com/quotes/?symbol=CSCO   \n",
       "3   5   CTSH  http://www.cnbc.com/quotes/?symbol=CTSH   \n",
       "4   6   DISH  http://www.cnbc.com/quotes/?symbol=DISH   \n",
       "\n",
       "                                           descShort  \\\n",
       "0  American Airlines Group Inc. is a holding comp...   \n",
       "1  Dollar Tree, Inc. is an operator of discount v...   \n",
       "2  Cisco Systems, Inc. designs and sells a range ...   \n",
       "3  Cognizant Technology Solutions Corporation is ...   \n",
       "4  DISH Network Corporation is a holding company....   \n",
       "\n",
       "                                            descLong                     CEO  \\\n",
       "0  American Airlines Group Inc. is a holding comp...  William Douglas Parker   \n",
       "1  Dollar Tree, Inc. is an operator of discount v...         Gary M. Philbin   \n",
       "2  Cisco Systems, Inc. designs and sells a range ...      Charles H. Robbins   \n",
       "3  Cognizant Technology Solutions Corporation is ...       Francisco D'Souza   \n",
       "4  DISH Network Corporation is a holding company....         W. Erik Carlson   \n",
       "\n",
       "                                             address  shares_out  inst_own  \\\n",
       "0  4333 Amon Carter Blvd, Fort Worth, Texas, Unit...       460.5    0.8182   \n",
       "1  500 Volvo Pkwy, Chesapeake, Virginia, United S...       237.9    0.9389   \n",
       "2  170 W Tasman Dr, San Jose, California, United ...      4600.0    0.7805   \n",
       "3  500 Frank W Burr Blvd, Teaneck, New Jersey, Un...       580.0    0.9233   \n",
       "4  9601 S Meridian Blvd, Englewood, Colorado, Uni...       466.5    1.0085   \n",
       "\n",
       "   mark_cap  2014-2013  2015-2014  2016-2015  2017-2016  \n",
       "0      14.2     257.14     164.05     -64.84     -28.29  \n",
       "1      19.3       0.42     -52.87     217.35      91.29  \n",
       "2     210.9      14.36      19.57     -10.52     -98.86  \n",
       "3      41.9      17.15      12.83      -4.37      -3.16  \n",
       "4      15.4      10.51     -20.92     100.50      40.11  "
      ]
     },
     "execution_count": 10,
     "metadata": {},
     "output_type": "execute_result"
    }
   ],
   "source": [
    "df_allnd100list.head()"
   ]
  },
  {
   "cell_type": "code",
   "execution_count": 14,
   "metadata": {
    "collapsed": false
   },
   "outputs": [],
   "source": [
    "df_allnd100list.rename(index=str, columns={\"shares_out\": \"shares_out(million)\", \"mark_cap\": \"mark_cap(billion)\"},inplace= True)"
   ]
  },
  {
   "cell_type": "code",
   "execution_count": null,
   "metadata": {
    "collapsed": false
   },
   "outputs": [],
   "source": []
  },
  {
   "cell_type": "code",
   "execution_count": 15,
   "metadata": {
    "collapsed": false
   },
   "outputs": [],
   "source": [
    "#df_allnd100list.ix[df_allnd100list['symbol']=='AAPL']"
   ]
  },
  {
   "cell_type": "code",
   "execution_count": 16,
   "metadata": {
    "collapsed": false
   },
   "outputs": [],
   "source": [
    "#df_allnd100list.ix[df_allnd100list['shares_out'].idxmax()]"
   ]
  },
  {
   "cell_type": "code",
   "execution_count": 17,
   "metadata": {
    "collapsed": false
   },
   "outputs": [],
   "source": [
    "df_allnd100list.to_csv('./csv/list_profit.csv',encoding='utf-8',index=False)"
   ]
  },
  {
   "cell_type": "code",
   "execution_count": 63,
   "metadata": {
    "collapsed": false
   },
   "outputs": [
    {
     "data": {
      "text/plain": [
       "24816.87"
      ]
     },
     "execution_count": 63,
     "metadata": {},
     "output_type": "execute_result"
    }
   ],
   "source": [
    "#def p2f(x):\n",
    "#    return float(x.replace(',', \".\").strip('%'))\n",
    "#p2f('24816.87%')"
   ]
  },
  {
   "cell_type": "code",
   "execution_count": 64,
   "metadata": {
    "collapsed": false
   },
   "outputs": [
    {
     "ename": "ValueError",
     "evalue": "could not convert string to float: '1.943.84'",
     "output_type": "error",
     "traceback": [
      "\u001b[1;31m---------------------------------------------------------------------------\u001b[0m",
      "\u001b[1;31mValueError\u001b[0m                                Traceback (most recent call last)",
      "\u001b[1;32m<ipython-input-64-3111112c9763>\u001b[0m in \u001b[0;36m<module>\u001b[1;34m()\u001b[0m\n\u001b[1;32m----> 1\u001b[1;33m \u001b[0mdf_allnd100list\u001b[0m\u001b[1;33m[\u001b[0m\u001b[1;34m'2016-2015'\u001b[0m\u001b[1;33m]\u001b[0m\u001b[1;33m.\u001b[0m\u001b[0mapply\u001b[0m\u001b[1;33m(\u001b[0m\u001b[0mp2f\u001b[0m\u001b[1;33m)\u001b[0m\u001b[1;33m\u001b[0m\u001b[0m\n\u001b[0m",
      "\u001b[1;32mC:\\Users\\zxu\\AppData\\Local\\Continuum\\Anaconda3\\lib\\site-packages\\pandas\\core\\series.py\u001b[0m in \u001b[0;36mapply\u001b[1;34m(self, func, convert_dtype, args, **kwds)\u001b[0m\n\u001b[0;32m   3192\u001b[0m             \u001b[1;32melse\u001b[0m\u001b[1;33m:\u001b[0m\u001b[1;33m\u001b[0m\u001b[0m\n\u001b[0;32m   3193\u001b[0m                 \u001b[0mvalues\u001b[0m \u001b[1;33m=\u001b[0m \u001b[0mself\u001b[0m\u001b[1;33m.\u001b[0m\u001b[0mastype\u001b[0m\u001b[1;33m(\u001b[0m\u001b[0mobject\u001b[0m\u001b[1;33m)\u001b[0m\u001b[1;33m.\u001b[0m\u001b[0mvalues\u001b[0m\u001b[1;33m\u001b[0m\u001b[0m\n\u001b[1;32m-> 3194\u001b[1;33m                 \u001b[0mmapped\u001b[0m \u001b[1;33m=\u001b[0m \u001b[0mlib\u001b[0m\u001b[1;33m.\u001b[0m\u001b[0mmap_infer\u001b[0m\u001b[1;33m(\u001b[0m\u001b[0mvalues\u001b[0m\u001b[1;33m,\u001b[0m \u001b[0mf\u001b[0m\u001b[1;33m,\u001b[0m \u001b[0mconvert\u001b[0m\u001b[1;33m=\u001b[0m\u001b[0mconvert_dtype\u001b[0m\u001b[1;33m)\u001b[0m\u001b[1;33m\u001b[0m\u001b[0m\n\u001b[0m\u001b[0;32m   3195\u001b[0m \u001b[1;33m\u001b[0m\u001b[0m\n\u001b[0;32m   3196\u001b[0m         \u001b[1;32mif\u001b[0m \u001b[0mlen\u001b[0m\u001b[1;33m(\u001b[0m\u001b[0mmapped\u001b[0m\u001b[1;33m)\u001b[0m \u001b[1;32mand\u001b[0m \u001b[0misinstance\u001b[0m\u001b[1;33m(\u001b[0m\u001b[0mmapped\u001b[0m\u001b[1;33m[\u001b[0m\u001b[1;36m0\u001b[0m\u001b[1;33m]\u001b[0m\u001b[1;33m,\u001b[0m \u001b[0mSeries\u001b[0m\u001b[1;33m)\u001b[0m\u001b[1;33m:\u001b[0m\u001b[1;33m\u001b[0m\u001b[0m\n",
      "\u001b[1;32mpandas/_libs/src\\inference.pyx\u001b[0m in \u001b[0;36mpandas._libs.lib.map_infer\u001b[1;34m()\u001b[0m\n",
      "\u001b[1;32m<ipython-input-63-49ada8669822>\u001b[0m in \u001b[0;36mp2f\u001b[1;34m(x)\u001b[0m\n\u001b[0;32m      1\u001b[0m \u001b[1;32mdef\u001b[0m \u001b[0mp2f\u001b[0m\u001b[1;33m(\u001b[0m\u001b[0mx\u001b[0m\u001b[1;33m)\u001b[0m\u001b[1;33m:\u001b[0m\u001b[1;33m\u001b[0m\u001b[0m\n\u001b[1;32m----> 2\u001b[1;33m     \u001b[1;32mreturn\u001b[0m \u001b[0mfloat\u001b[0m\u001b[1;33m(\u001b[0m\u001b[0mx\u001b[0m\u001b[1;33m.\u001b[0m\u001b[0mreplace\u001b[0m\u001b[1;33m(\u001b[0m\u001b[1;34m','\u001b[0m\u001b[1;33m,\u001b[0m \u001b[1;34m\".\"\u001b[0m\u001b[1;33m)\u001b[0m\u001b[1;33m.\u001b[0m\u001b[0mstrip\u001b[0m\u001b[1;33m(\u001b[0m\u001b[1;34m'%'\u001b[0m\u001b[1;33m)\u001b[0m\u001b[1;33m)\u001b[0m\u001b[1;33m\u001b[0m\u001b[0m\n\u001b[0m\u001b[0;32m      3\u001b[0m \u001b[0mp2f\u001b[0m\u001b[1;33m(\u001b[0m\u001b[1;34m'24816.87%'\u001b[0m\u001b[1;33m)\u001b[0m\u001b[1;33m\u001b[0m\u001b[0m\n",
      "\u001b[1;31mValueError\u001b[0m: could not convert string to float: '1.943.84'"
     ]
    }
   ],
   "source": [
    "#df_allnd100list['2016-2015'].apply(p2f)"
   ]
  },
  {
   "cell_type": "code",
   "execution_count": null,
   "metadata": {
    "collapsed": true
   },
   "outputs": [],
   "source": []
  }
 ],
 "metadata": {
  "kernelspec": {
   "display_name": "Python 3",
   "language": "python",
   "name": "python3"
  },
  "language_info": {
   "codemirror_mode": {
    "name": "ipython",
    "version": 3
   },
   "file_extension": ".py",
   "mimetype": "text/x-python",
   "name": "python",
   "nbconvert_exporter": "python",
   "pygments_lexer": "ipython3",
   "version": "3.5.4"
  }
 },
 "nbformat": 4,
 "nbformat_minor": 0
}
